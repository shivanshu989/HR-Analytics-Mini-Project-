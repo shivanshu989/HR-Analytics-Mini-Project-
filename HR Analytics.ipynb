{
 "cells": [
  {
   "cell_type": "code",
   "execution_count": 1,
   "id": "c2cd4b9e",
   "metadata": {},
   "outputs": [],
   "source": [
    "import pandas as pd\n",
    "import numpy as np\n",
    "import matplotlib.pyplot as plt\n",
    "import seaborn as sns\n",
    "import scipy.stats as stats\n",
    "import warnings\n",
    "warnings.filterwarnings(\"ignore\")\n",
    "%matplotlib inline"
   ]
  },
  {
   "cell_type": "markdown",
   "id": "b2297302",
   "metadata": {},
   "source": [
    "Loading train and test Dataset and Concate them "
   ]
  },
  {
   "cell_type": "code",
   "execution_count": 2,
   "id": "796f07fc",
   "metadata": {
    "scrolled": true
   },
   "outputs": [
    {
     "data": {
      "text/plain": [
       "((54808, 14), (23490, 13))"
      ]
     },
     "execution_count": 2,
     "metadata": {},
     "output_type": "execute_result"
    }
   ],
   "source": [
    "df_train = pd.read_csv(\"train_LZdllcl.csv\")\n",
    "df_test = pd.read_csv(\"test_2umaH9m.csv\")\n",
    "df_train.shape,df_test.shape"
   ]
  },
  {
   "cell_type": "code",
   "execution_count": 3,
   "id": "c270e145",
   "metadata": {},
   "outputs": [],
   "source": [
    "df_concat = pd.concat([df_train,df_test],axis=0)"
   ]
  },
  {
   "cell_type": "code",
   "execution_count": 4,
   "id": "82a37d66",
   "metadata": {
    "scrolled": true
   },
   "outputs": [
    {
     "data": {
      "text/plain": [
       "(78298, 14)"
      ]
     },
     "execution_count": 4,
     "metadata": {},
     "output_type": "execute_result"
    }
   ],
   "source": [
    "df_concat.shape"
   ]
  },
  {
   "cell_type": "code",
   "execution_count": 5,
   "id": "c4460504",
   "metadata": {},
   "outputs": [
    {
     "data": {
      "text/html": [
       "<div>\n",
       "<style scoped>\n",
       "    .dataframe tbody tr th:only-of-type {\n",
       "        vertical-align: middle;\n",
       "    }\n",
       "\n",
       "    .dataframe tbody tr th {\n",
       "        vertical-align: top;\n",
       "    }\n",
       "\n",
       "    .dataframe thead th {\n",
       "        text-align: right;\n",
       "    }\n",
       "</style>\n",
       "<table border=\"1\" class=\"dataframe\">\n",
       "  <thead>\n",
       "    <tr style=\"text-align: right;\">\n",
       "      <th></th>\n",
       "      <th>employee_id</th>\n",
       "      <th>department</th>\n",
       "      <th>region</th>\n",
       "      <th>education</th>\n",
       "      <th>gender</th>\n",
       "      <th>recruitment_channel</th>\n",
       "      <th>no_of_trainings</th>\n",
       "      <th>age</th>\n",
       "      <th>previous_year_rating</th>\n",
       "      <th>length_of_service</th>\n",
       "      <th>KPIs_met &gt;80%</th>\n",
       "      <th>awards_won?</th>\n",
       "      <th>avg_training_score</th>\n",
       "      <th>is_promoted</th>\n",
       "    </tr>\n",
       "  </thead>\n",
       "  <tbody>\n",
       "    <tr>\n",
       "      <th>0</th>\n",
       "      <td>65438</td>\n",
       "      <td>Sales &amp; Marketing</td>\n",
       "      <td>region_7</td>\n",
       "      <td>Master's &amp; above</td>\n",
       "      <td>f</td>\n",
       "      <td>sourcing</td>\n",
       "      <td>1</td>\n",
       "      <td>35</td>\n",
       "      <td>5.0</td>\n",
       "      <td>8</td>\n",
       "      <td>1</td>\n",
       "      <td>0</td>\n",
       "      <td>49</td>\n",
       "      <td>0.0</td>\n",
       "    </tr>\n",
       "    <tr>\n",
       "      <th>1</th>\n",
       "      <td>65141</td>\n",
       "      <td>Operations</td>\n",
       "      <td>region_22</td>\n",
       "      <td>Bachelor's</td>\n",
       "      <td>m</td>\n",
       "      <td>other</td>\n",
       "      <td>1</td>\n",
       "      <td>30</td>\n",
       "      <td>5.0</td>\n",
       "      <td>4</td>\n",
       "      <td>0</td>\n",
       "      <td>0</td>\n",
       "      <td>60</td>\n",
       "      <td>0.0</td>\n",
       "    </tr>\n",
       "    <tr>\n",
       "      <th>2</th>\n",
       "      <td>7513</td>\n",
       "      <td>Sales &amp; Marketing</td>\n",
       "      <td>region_19</td>\n",
       "      <td>Bachelor's</td>\n",
       "      <td>m</td>\n",
       "      <td>sourcing</td>\n",
       "      <td>1</td>\n",
       "      <td>34</td>\n",
       "      <td>3.0</td>\n",
       "      <td>7</td>\n",
       "      <td>0</td>\n",
       "      <td>0</td>\n",
       "      <td>50</td>\n",
       "      <td>0.0</td>\n",
       "    </tr>\n",
       "    <tr>\n",
       "      <th>3</th>\n",
       "      <td>2542</td>\n",
       "      <td>Sales &amp; Marketing</td>\n",
       "      <td>region_23</td>\n",
       "      <td>Bachelor's</td>\n",
       "      <td>m</td>\n",
       "      <td>other</td>\n",
       "      <td>2</td>\n",
       "      <td>39</td>\n",
       "      <td>1.0</td>\n",
       "      <td>10</td>\n",
       "      <td>0</td>\n",
       "      <td>0</td>\n",
       "      <td>50</td>\n",
       "      <td>0.0</td>\n",
       "    </tr>\n",
       "    <tr>\n",
       "      <th>4</th>\n",
       "      <td>48945</td>\n",
       "      <td>Technology</td>\n",
       "      <td>region_26</td>\n",
       "      <td>Bachelor's</td>\n",
       "      <td>m</td>\n",
       "      <td>other</td>\n",
       "      <td>1</td>\n",
       "      <td>45</td>\n",
       "      <td>3.0</td>\n",
       "      <td>2</td>\n",
       "      <td>0</td>\n",
       "      <td>0</td>\n",
       "      <td>73</td>\n",
       "      <td>0.0</td>\n",
       "    </tr>\n",
       "  </tbody>\n",
       "</table>\n",
       "</div>"
      ],
      "text/plain": [
       "   employee_id         department     region         education gender  \\\n",
       "0        65438  Sales & Marketing   region_7  Master's & above      f   \n",
       "1        65141         Operations  region_22        Bachelor's      m   \n",
       "2         7513  Sales & Marketing  region_19        Bachelor's      m   \n",
       "3         2542  Sales & Marketing  region_23        Bachelor's      m   \n",
       "4        48945         Technology  region_26        Bachelor's      m   \n",
       "\n",
       "  recruitment_channel  no_of_trainings  age  previous_year_rating  \\\n",
       "0            sourcing                1   35                   5.0   \n",
       "1               other                1   30                   5.0   \n",
       "2            sourcing                1   34                   3.0   \n",
       "3               other                2   39                   1.0   \n",
       "4               other                1   45                   3.0   \n",
       "\n",
       "   length_of_service  KPIs_met >80%  awards_won?  avg_training_score  \\\n",
       "0                  8              1            0                  49   \n",
       "1                  4              0            0                  60   \n",
       "2                  7              0            0                  50   \n",
       "3                 10              0            0                  50   \n",
       "4                  2              0            0                  73   \n",
       "\n",
       "   is_promoted  \n",
       "0          0.0  \n",
       "1          0.0  \n",
       "2          0.0  \n",
       "3          0.0  \n",
       "4          0.0  "
      ]
     },
     "execution_count": 5,
     "metadata": {},
     "output_type": "execute_result"
    }
   ],
   "source": [
    "df_concat.head()"
   ]
  },
  {
   "cell_type": "markdown",
   "id": "b4e4a738",
   "metadata": {},
   "source": [
    "# EDA"
   ]
  },
  {
   "cell_type": "code",
   "execution_count": 6,
   "id": "afaa9c72",
   "metadata": {},
   "outputs": [
    {
     "data": {
      "text/plain": [
       "employee_id                 0\n",
       "department                  0\n",
       "region                      0\n",
       "education                3443\n",
       "gender                      0\n",
       "recruitment_channel         0\n",
       "no_of_trainings             0\n",
       "age                         0\n",
       "previous_year_rating     5936\n",
       "length_of_service           0\n",
       "KPIs_met >80%               0\n",
       "awards_won?                 0\n",
       "avg_training_score          0\n",
       "is_promoted             23490\n",
       "dtype: int64"
      ]
     },
     "execution_count": 6,
     "metadata": {},
     "output_type": "execute_result"
    }
   ],
   "source": [
    "df_concat.isnull().sum()"
   ]
  },
  {
   "cell_type": "code",
   "execution_count": 7,
   "id": "47e8b40f",
   "metadata": {},
   "outputs": [
    {
     "data": {
      "text/plain": [
       "employee_id             22602.830026\n",
       "no_of_trainings             0.606766\n",
       "age                         7.665928\n",
       "previous_year_rating        1.260982\n",
       "length_of_service           4.248070\n",
       "KPIs_met >80%               0.478222\n",
       "awards_won?                 0.150073\n",
       "avg_training_score         13.383664\n",
       "is_promoted                 0.279137\n",
       "dtype: float64"
      ]
     },
     "execution_count": 7,
     "metadata": {},
     "output_type": "execute_result"
    }
   ],
   "source": [
    "df_concat.std()"
   ]
  },
  {
   "cell_type": "code",
   "execution_count": 8,
   "id": "a9ffbdb8",
   "metadata": {},
   "outputs": [
    {
     "data": {
      "text/html": [
       "<div>\n",
       "<style scoped>\n",
       "    .dataframe tbody tr th:only-of-type {\n",
       "        vertical-align: middle;\n",
       "    }\n",
       "\n",
       "    .dataframe tbody tr th {\n",
       "        vertical-align: top;\n",
       "    }\n",
       "\n",
       "    .dataframe thead th {\n",
       "        text-align: right;\n",
       "    }\n",
       "</style>\n",
       "<table border=\"1\" class=\"dataframe\">\n",
       "  <thead>\n",
       "    <tr style=\"text-align: right;\">\n",
       "      <th></th>\n",
       "      <th>employee_id</th>\n",
       "      <th>no_of_trainings</th>\n",
       "      <th>age</th>\n",
       "      <th>previous_year_rating</th>\n",
       "      <th>length_of_service</th>\n",
       "      <th>KPIs_met &gt;80%</th>\n",
       "      <th>awards_won?</th>\n",
       "      <th>avg_training_score</th>\n",
       "      <th>is_promoted</th>\n",
       "    </tr>\n",
       "  </thead>\n",
       "  <tbody>\n",
       "    <tr>\n",
       "      <th>count</th>\n",
       "      <td>78298.000000</td>\n",
       "      <td>78298.000000</td>\n",
       "      <td>78298.000000</td>\n",
       "      <td>72362.000000</td>\n",
       "      <td>78298.000000</td>\n",
       "      <td>78298.000000</td>\n",
       "      <td>78298.000000</td>\n",
       "      <td>78298.000000</td>\n",
       "      <td>54808.000000</td>\n",
       "    </tr>\n",
       "    <tr>\n",
       "      <th>mean</th>\n",
       "      <td>39149.500000</td>\n",
       "      <td>1.253378</td>\n",
       "      <td>34.797619</td>\n",
       "      <td>3.332219</td>\n",
       "      <td>5.848974</td>\n",
       "      <td>0.354032</td>\n",
       "      <td>0.023053</td>\n",
       "      <td>63.349664</td>\n",
       "      <td>0.085170</td>\n",
       "    </tr>\n",
       "    <tr>\n",
       "      <th>std</th>\n",
       "      <td>22602.830026</td>\n",
       "      <td>0.606766</td>\n",
       "      <td>7.665928</td>\n",
       "      <td>1.260982</td>\n",
       "      <td>4.248070</td>\n",
       "      <td>0.478222</td>\n",
       "      <td>0.150073</td>\n",
       "      <td>13.383664</td>\n",
       "      <td>0.279137</td>\n",
       "    </tr>\n",
       "    <tr>\n",
       "      <th>min</th>\n",
       "      <td>1.000000</td>\n",
       "      <td>1.000000</td>\n",
       "      <td>20.000000</td>\n",
       "      <td>1.000000</td>\n",
       "      <td>1.000000</td>\n",
       "      <td>0.000000</td>\n",
       "      <td>0.000000</td>\n",
       "      <td>39.000000</td>\n",
       "      <td>0.000000</td>\n",
       "    </tr>\n",
       "    <tr>\n",
       "      <th>25%</th>\n",
       "      <td>19575.250000</td>\n",
       "      <td>1.000000</td>\n",
       "      <td>29.000000</td>\n",
       "      <td>3.000000</td>\n",
       "      <td>3.000000</td>\n",
       "      <td>0.000000</td>\n",
       "      <td>0.000000</td>\n",
       "      <td>51.000000</td>\n",
       "      <td>0.000000</td>\n",
       "    </tr>\n",
       "    <tr>\n",
       "      <th>50%</th>\n",
       "      <td>39149.500000</td>\n",
       "      <td>1.000000</td>\n",
       "      <td>33.000000</td>\n",
       "      <td>3.000000</td>\n",
       "      <td>5.000000</td>\n",
       "      <td>0.000000</td>\n",
       "      <td>0.000000</td>\n",
       "      <td>60.000000</td>\n",
       "      <td>0.000000</td>\n",
       "    </tr>\n",
       "    <tr>\n",
       "      <th>75%</th>\n",
       "      <td>58723.750000</td>\n",
       "      <td>1.000000</td>\n",
       "      <td>39.000000</td>\n",
       "      <td>4.000000</td>\n",
       "      <td>7.000000</td>\n",
       "      <td>1.000000</td>\n",
       "      <td>0.000000</td>\n",
       "      <td>76.000000</td>\n",
       "      <td>0.000000</td>\n",
       "    </tr>\n",
       "    <tr>\n",
       "      <th>max</th>\n",
       "      <td>78298.000000</td>\n",
       "      <td>10.000000</td>\n",
       "      <td>60.000000</td>\n",
       "      <td>5.000000</td>\n",
       "      <td>37.000000</td>\n",
       "      <td>1.000000</td>\n",
       "      <td>1.000000</td>\n",
       "      <td>99.000000</td>\n",
       "      <td>1.000000</td>\n",
       "    </tr>\n",
       "  </tbody>\n",
       "</table>\n",
       "</div>"
      ],
      "text/plain": [
       "        employee_id  no_of_trainings           age  previous_year_rating  \\\n",
       "count  78298.000000     78298.000000  78298.000000          72362.000000   \n",
       "mean   39149.500000         1.253378     34.797619              3.332219   \n",
       "std    22602.830026         0.606766      7.665928              1.260982   \n",
       "min        1.000000         1.000000     20.000000              1.000000   \n",
       "25%    19575.250000         1.000000     29.000000              3.000000   \n",
       "50%    39149.500000         1.000000     33.000000              3.000000   \n",
       "75%    58723.750000         1.000000     39.000000              4.000000   \n",
       "max    78298.000000        10.000000     60.000000              5.000000   \n",
       "\n",
       "       length_of_service  KPIs_met >80%   awards_won?  avg_training_score  \\\n",
       "count       78298.000000   78298.000000  78298.000000        78298.000000   \n",
       "mean            5.848974       0.354032      0.023053           63.349664   \n",
       "std             4.248070       0.478222      0.150073           13.383664   \n",
       "min             1.000000       0.000000      0.000000           39.000000   \n",
       "25%             3.000000       0.000000      0.000000           51.000000   \n",
       "50%             5.000000       0.000000      0.000000           60.000000   \n",
       "75%             7.000000       1.000000      0.000000           76.000000   \n",
       "max            37.000000       1.000000      1.000000           99.000000   \n",
       "\n",
       "        is_promoted  \n",
       "count  54808.000000  \n",
       "mean       0.085170  \n",
       "std        0.279137  \n",
       "min        0.000000  \n",
       "25%        0.000000  \n",
       "50%        0.000000  \n",
       "75%        0.000000  \n",
       "max        1.000000  "
      ]
     },
     "execution_count": 8,
     "metadata": {},
     "output_type": "execute_result"
    }
   ],
   "source": [
    "df_concat.describe()"
   ]
  },
  {
   "cell_type": "code",
   "execution_count": 9,
   "id": "d44e424f",
   "metadata": {},
   "outputs": [
    {
     "data": {
      "text/plain": [
       "<AxesSubplot:>"
      ]
     },
     "execution_count": 9,
     "metadata": {},
     "output_type": "execute_result"
    },
    {
     "data": {
      "image/png": "[encoded data removed]",
      "text/plain": [
       "<Figure size 640x480 with 2 Axes>"
      ]
     },
     "metadata": {},
     "output_type": "display_data"
    }
   ],
   "source": [
    "sns.heatmap(df_concat.corr(),annot=True,cmap=\"YlGnBu\")"
   ]
  },
  {
   "cell_type": "markdown",
   "id": "f85cf52a",
   "metadata": {},
   "source": [
    "Univariate Analysis"
   ]
  },
  {
   "cell_type": "code",
   "execution_count": 10,
   "id": "712b9460",
   "metadata": {},
   "outputs": [
    {
     "data": {
      "image/png": "[encoded data removed]",
      "text/plain": [
       "<Figure size 800x800 with 9 Axes>"
      ]
     },
     "metadata": {},
     "output_type": "display_data"
    }
   ],
   "source": [
    "num_col = df_concat.select_dtypes(include=np.number).columns\n",
    "c=1\n",
    "plt.figure(figsize=(8,8))\n",
    "for x in num_col:\n",
    "    plt.subplot(3,3,c)\n",
    "    sns.distplot(df_concat[x])\n",
    "    c+=1\n",
    "plt.tight_layout()"
   ]
  },
  {
   "cell_type": "markdown",
   "id": "0350fa30",
   "metadata": {},
   "source": [
    "Checking Skenewss of data"
   ]
  },
  {
   "cell_type": "code",
   "execution_count": 11,
   "id": "e8e0d197",
   "metadata": {},
   "outputs": [
    {
     "data": {
      "text/plain": [
       "employee_id             2.765143e-19\n",
       "no_of_trainings         3.403109e+00\n",
       "age                     1.008714e+00\n",
       "previous_year_rating   -3.148381e-01\n",
       "length_of_service       1.728033e+00\n",
       "KPIs_met >80%           6.104767e-01\n",
       "awards_won?             6.356378e+00\n",
       "avg_training_score      4.537268e-01\n",
       "is_promoted             2.972339e+00\n",
       "dtype: float64"
      ]
     },
     "execution_count": 11,
     "metadata": {},
     "output_type": "execute_result"
    }
   ],
   "source": [
    "#Ho: Data is normally distributed\n",
    "#Ha: Data is not normnally distributed\n",
    "df_concat.skew()"
   ]
  },
  {
   "cell_type": "code",
   "execution_count": 12,
   "id": "435eeb10",
   "metadata": {},
   "outputs": [],
   "source": [
    "# we can see data is skewed "
   ]
  },
  {
   "cell_type": "code",
   "execution_count": 13,
   "id": "90fee5d3",
   "metadata": {},
   "outputs": [
    {
     "data": {
      "image/png": "[encoded data removed]",
      "text/plain": [
       "<Figure size 1600x1000 with 5 Axes>"
      ]
     },
     "metadata": {},
     "output_type": "display_data"
    }
   ],
   "source": [
    "cat_col = df_concat.select_dtypes(include=object).columns\n",
    "c=1\n",
    "plt.figure(figsize=(16,10))\n",
    "for x in cat_col:\n",
    "    plt.subplot(3,3,c)\n",
    "    sns.countplot(df_concat[x])\n",
    "    plt.xticks(rotation=90)\n",
    "    c+=1\n",
    "plt.tight_layout()"
   ]
  },
  {
   "cell_type": "code",
   "execution_count": 14,
   "id": "aea7fdab",
   "metadata": {},
   "outputs": [],
   "source": [
    "#Sales&Marketing,Operations,procruitment are top 3 departments with more number of employyes\n",
    "# Employees are highest in region_2\n",
    "# Male peoples are more in the company\n"
   ]
  },
  {
   "cell_type": "code",
   "execution_count": 15,
   "id": "8a21643f",
   "metadata": {
    "scrolled": false
   },
   "outputs": [
    {
     "data": {
      "text/plain": [
       "Sales & Marketing    24155\n",
       "Operations           16112\n",
       "Procurement          10158\n",
       "Technology           10149\n",
       "Analytics             7671\n",
       "Finance               3627\n",
       "HR                    3503\n",
       "Legal                 1484\n",
       "R&D                   1439\n",
       "Name: department, dtype: int64"
      ]
     },
     "execution_count": 15,
     "metadata": {},
     "output_type": "execute_result"
    }
   ],
   "source": [
    "df_concat[\"department\"].value_counts()"
   ]
  },
  {
   "cell_type": "code",
   "execution_count": 16,
   "id": "358ad67d",
   "metadata": {
    "scrolled": false
   },
   "outputs": [
    {
     "data": {
      "text/plain": [
       "region_2     17642\n",
       "region_22     9167\n",
       "region_7      6825\n",
       "region_15     3938\n",
       "region_13     3815\n",
       "region_26     3271\n",
       "region_31     2779\n",
       "region_4      2478\n",
       "region_27     2369\n",
       "region_16     2055\n",
       "region_28     1913\n",
       "region_11     1886\n",
       "region_23     1691\n",
       "region_29     1408\n",
       "region_32     1378\n",
       "region_19     1284\n",
       "region_14     1177\n",
       "region_20     1176\n",
       "region_17     1157\n",
       "region_25     1156\n",
       "region_5      1108\n",
       "region_6       988\n",
       "region_30      930\n",
       "region_8       924\n",
       "region_10      917\n",
       "region_1       848\n",
       "region_24      727\n",
       "region_12      715\n",
       "region_9       600\n",
       "region_21      590\n",
       "region_3       493\n",
       "region_34      447\n",
       "region_33      395\n",
       "region_18       51\n",
       "Name: region, dtype: int64"
      ]
     },
     "execution_count": 16,
     "metadata": {},
     "output_type": "execute_result"
    }
   ],
   "source": [
    "df_concat[\"region\"].value_counts()"
   ]
  },
  {
   "cell_type": "code",
   "execution_count": 17,
   "id": "a01cc574",
   "metadata": {},
   "outputs": [
    {
     "data": {
      "text/plain": [
       "education       \n",
       "Bachelor's          52247\n",
       "Master's & above    21429\n",
       "Below Secondary      1179\n",
       "dtype: int64"
      ]
     },
     "execution_count": 17,
     "metadata": {},
     "output_type": "execute_result"
    }
   ],
   "source": [
    "df_concat[[\"education\"]].value_counts()"
   ]
  },
  {
   "cell_type": "code",
   "execution_count": 18,
   "id": "4d45f309",
   "metadata": {},
   "outputs": [
    {
     "data": {
      "text/plain": [
       "gender\n",
       "m         55092\n",
       "f         23206\n",
       "dtype: int64"
      ]
     },
     "execution_count": 18,
     "metadata": {},
     "output_type": "execute_result"
    }
   ],
   "source": [
    "df_concat[[\"gender\"]].value_counts()"
   ]
  },
  {
   "cell_type": "code",
   "execution_count": 19,
   "id": "da72dc9c",
   "metadata": {},
   "outputs": [
    {
     "data": {
      "text/plain": [
       "recruitment_channel\n",
       "other                  43524\n",
       "sourcing               33181\n",
       "referred                1593\n",
       "dtype: int64"
      ]
     },
     "execution_count": 19,
     "metadata": {},
     "output_type": "execute_result"
    }
   ],
   "source": [
    "df_concat[[\"recruitment_channel\"]].value_counts()"
   ]
  },
  {
   "cell_type": "markdown",
   "id": "c614c7f0",
   "metadata": {},
   "source": [
    "Bivariate Analysis"
   ]
  },
  {
   "cell_type": "code",
   "execution_count": 20,
   "id": "49ff03ee",
   "metadata": {},
   "outputs": [
    {
     "data": {
      "text/plain": [
       "Index(['employee_id', 'department', 'region', 'education', 'gender',\n",
       "       'recruitment_channel', 'no_of_trainings', 'age', 'previous_year_rating',\n",
       "       'length_of_service', 'KPIs_met >80%', 'awards_won?',\n",
       "       'avg_training_score', 'is_promoted'],\n",
       "      dtype='object')"
      ]
     },
     "execution_count": 20,
     "metadata": {},
     "output_type": "execute_result"
    }
   ],
   "source": [
    "df_concat.columns"
   ]
  },
  {
   "cell_type": "code",
   "execution_count": 21,
   "id": "8e03329d",
   "metadata": {},
   "outputs": [
    {
     "data": {
      "text/html": [
       "<div>\n",
       "<style scoped>\n",
       "    .dataframe tbody tr th:only-of-type {\n",
       "        vertical-align: middle;\n",
       "    }\n",
       "\n",
       "    .dataframe tbody tr th {\n",
       "        vertical-align: top;\n",
       "    }\n",
       "\n",
       "    .dataframe thead th {\n",
       "        text-align: right;\n",
       "    }\n",
       "</style>\n",
       "<table border=\"1\" class=\"dataframe\">\n",
       "  <thead>\n",
       "    <tr style=\"text-align: right;\">\n",
       "      <th>is_promoted</th>\n",
       "      <th>0.0</th>\n",
       "      <th>1.0</th>\n",
       "    </tr>\n",
       "    <tr>\n",
       "      <th>department</th>\n",
       "      <th></th>\n",
       "      <th></th>\n",
       "    </tr>\n",
       "  </thead>\n",
       "  <tbody>\n",
       "    <tr>\n",
       "      <th>Analytics</th>\n",
       "      <td>4840</td>\n",
       "      <td>512</td>\n",
       "    </tr>\n",
       "    <tr>\n",
       "      <th>Finance</th>\n",
       "      <td>2330</td>\n",
       "      <td>206</td>\n",
       "    </tr>\n",
       "    <tr>\n",
       "      <th>HR</th>\n",
       "      <td>2282</td>\n",
       "      <td>136</td>\n",
       "    </tr>\n",
       "    <tr>\n",
       "      <th>Legal</th>\n",
       "      <td>986</td>\n",
       "      <td>53</td>\n",
       "    </tr>\n",
       "    <tr>\n",
       "      <th>Operations</th>\n",
       "      <td>10325</td>\n",
       "      <td>1023</td>\n",
       "    </tr>\n",
       "    <tr>\n",
       "      <th>Procurement</th>\n",
       "      <td>6450</td>\n",
       "      <td>688</td>\n",
       "    </tr>\n",
       "    <tr>\n",
       "      <th>R&amp;D</th>\n",
       "      <td>930</td>\n",
       "      <td>69</td>\n",
       "    </tr>\n",
       "    <tr>\n",
       "      <th>Sales &amp; Marketing</th>\n",
       "      <td>15627</td>\n",
       "      <td>1213</td>\n",
       "    </tr>\n",
       "    <tr>\n",
       "      <th>Technology</th>\n",
       "      <td>6370</td>\n",
       "      <td>768</td>\n",
       "    </tr>\n",
       "  </tbody>\n",
       "</table>\n",
       "</div>"
      ],
      "text/plain": [
       "is_promoted          0.0   1.0\n",
       "department                    \n",
       "Analytics           4840   512\n",
       "Finance             2330   206\n",
       "HR                  2282   136\n",
       "Legal                986    53\n",
       "Operations         10325  1023\n",
       "Procurement         6450   688\n",
       "R&D                  930    69\n",
       "Sales & Marketing  15627  1213\n",
       "Technology          6370   768"
      ]
     },
     "execution_count": 21,
     "metadata": {},
     "output_type": "execute_result"
    }
   ],
   "source": [
    "pd.crosstab(df_concat[\"department\"],df_concat[\"is_promoted\"])"
   ]
  },
  {
   "cell_type": "code",
   "execution_count": 22,
   "id": "afa25c1c",
   "metadata": {},
   "outputs": [
    {
     "data": {
      "text/plain": [
       "<AxesSubplot:xlabel='department'>"
      ]
     },
     "execution_count": 22,
     "metadata": {},
     "output_type": "execute_result"
    },
    {
     "data": {
      "image/png": "[encoded data removed]",
      "text/plain": [
       "<Figure size 640x480 with 1 Axes>"
      ]
     },
     "metadata": {},
     "output_type": "display_data"
    }
   ],
   "source": [
    "pd.crosstab(df_concat[\"department\"],df_concat[\"is_promoted\"]).plot(kind=\"bar\")"
   ]
  },
  {
   "cell_type": "code",
   "execution_count": 23,
   "id": "59e22320",
   "metadata": {},
   "outputs": [
    {
     "name": "stdout",
     "output_type": "stream",
     "text": [
      "Percentage of people promoted in the departmnet  Sales & Marketing   1.5492094306367978\n",
      "Percentage of people promoted in the departmnet  Operations   1.3065467828041584\n",
      "Percentage of people promoted in the departmnet  Technology   0.9808679659761425\n",
      "Percentage of people promoted in the departmnet  Analytics   0.6539119773174282\n",
      "Percentage of people promoted in the departmnet  R&D   0.08812485631816905\n",
      "Percentage of people promoted in the departmnet  Procurement   0.8786942195202943\n",
      "Percentage of people promoted in the departmnet  Finance   0.26309739712380903\n",
      "Percentage of people promoted in the departmnet  HR   0.1736953689749419\n",
      "Percentage of people promoted in the departmnet  Legal   0.0676901070269994\n"
     ]
    }
   ],
   "source": [
    "for x in df_concat[\"department\"].unique():\n",
    "    print(\"Percentage of people promoted in the departmnet \",x,\" \",(len(df_concat.loc[(df_concat.department==x) & (df_concat[\"is_promoted\"]==1.0),\"is_promoted\" ]))/len(df_concat)*100)"
   ]
  },
  {
   "cell_type": "code",
   "execution_count": 24,
   "id": "9778bf69",
   "metadata": {},
   "outputs": [],
   "source": [
    "# sales & Marketing have highest number of employees but yet Procrument have more percentage of people promoted "
   ]
  },
  {
   "cell_type": "code",
   "execution_count": 25,
   "id": "5ce5e68e",
   "metadata": {},
   "outputs": [
    {
     "data": {
      "text/html": [
       "<div>\n",
       "<style scoped>\n",
       "    .dataframe tbody tr th:only-of-type {\n",
       "        vertical-align: middle;\n",
       "    }\n",
       "\n",
       "    .dataframe tbody tr th {\n",
       "        vertical-align: top;\n",
       "    }\n",
       "\n",
       "    .dataframe thead th {\n",
       "        text-align: right;\n",
       "    }\n",
       "</style>\n",
       "<table border=\"1\" class=\"dataframe\">\n",
       "  <thead>\n",
       "    <tr style=\"text-align: right;\">\n",
       "      <th>is_promoted</th>\n",
       "      <th>0.0</th>\n",
       "      <th>1.0</th>\n",
       "    </tr>\n",
       "    <tr>\n",
       "      <th>education</th>\n",
       "      <th></th>\n",
       "      <th></th>\n",
       "    </tr>\n",
       "  </thead>\n",
       "  <tbody>\n",
       "    <tr>\n",
       "      <th>Bachelor's</th>\n",
       "      <td>33661</td>\n",
       "      <td>3008</td>\n",
       "    </tr>\n",
       "    <tr>\n",
       "      <th>Below Secondary</th>\n",
       "      <td>738</td>\n",
       "      <td>67</td>\n",
       "    </tr>\n",
       "    <tr>\n",
       "      <th>Master's &amp; above</th>\n",
       "      <td>13454</td>\n",
       "      <td>1471</td>\n",
       "    </tr>\n",
       "  </tbody>\n",
       "</table>\n",
       "</div>"
      ],
      "text/plain": [
       "is_promoted         0.0   1.0\n",
       "education                    \n",
       "Bachelor's        33661  3008\n",
       "Below Secondary     738    67\n",
       "Master's & above  13454  1471"
      ]
     },
     "execution_count": 25,
     "metadata": {},
     "output_type": "execute_result"
    }
   ],
   "source": [
    "pd.crosstab(df_concat[\"education\"],df_concat[\"is_promoted\"])\n"
   ]
  },
  {
   "cell_type": "code",
   "execution_count": 26,
   "id": "bb594f12",
   "metadata": {},
   "outputs": [
    {
     "data": {
      "text/plain": [
       "<AxesSubplot:xlabel='education'>"
      ]
     },
     "execution_count": 26,
     "metadata": {},
     "output_type": "execute_result"
    },
    {
     "data": {
      "image/png": "[encoded data removed]",
      "text/plain": [
       "<Figure size 640x480 with 1 Axes>"
      ]
     },
     "metadata": {},
     "output_type": "display_data"
    }
   ],
   "source": [
    "pd.crosstab(df_concat[\"education\"],df_concat[\"is_promoted\"]).plot(kind=\"bar\")"
   ]
  },
  {
   "cell_type": "code",
   "execution_count": 27,
   "id": "a86de0cd",
   "metadata": {},
   "outputs": [
    {
     "name": "stdout",
     "output_type": "stream",
     "text": [
      "Percentage of people promoted in the departmnet  Master's & above   1.8787197629569083\n",
      "Percentage of people promoted in the departmnet  Bachelor's   3.8417328667398913\n",
      "Percentage of people promoted in the departmnet  Below Secondary   0.08557051265677285\n"
     ]
    }
   ],
   "source": [
    "for x in [\"Master's & above\", \"Bachelor's\",'Below Secondary']:\n",
    "    print(\"Percentage of people promoted in the departmnet \",x,\" \",(len(df_concat.loc[(df_concat.education==x) & (df_concat[\"is_promoted\"]==1.0),\"is_promoted\" ]))/len(df_concat)*100)"
   ]
  },
  {
   "cell_type": "code",
   "execution_count": 28,
   "id": "4d659bb7",
   "metadata": {},
   "outputs": [],
   "source": [
    "#Number of people that are more promoted belongs to bachlers degree"
   ]
  },
  {
   "cell_type": "code",
   "execution_count": 29,
   "id": "742125ed",
   "metadata": {},
   "outputs": [
    {
     "name": "stdout",
     "output_type": "stream",
     "text": [
      "Percentage of people promoted according to degree  region_7   0.6590206646402207\n",
      "Percentage of people promoted according to degree  region_22   0.9374441237324069\n",
      "Percentage of people promoted according to degree  region_19   0.0676901070269994\n",
      "Percentage of people promoted according to degree  region_23   0.17497254080563998\n",
      "Percentage of people promoted according to degree  region_26   0.1826355717898286\n",
      "Percentage of people promoted according to degree  region_2   1.263122940560423\n",
      "Percentage of people promoted according to degree  region_20   0.06258141970420701\n",
      "Percentage of people promoted according to degree  region_34   0.010217374645584816\n",
      "Percentage of people promoted according to degree  region_1   0.07407596618048992\n",
      "Percentage of people promoted according to degree  region_4   0.31418427035173313\n",
      "Percentage of people promoted according to degree  region_29   0.05491838872001839\n",
      "Percentage of people promoted according to degree  region_31   0.14048890137679124\n",
      "Percentage of people promoted according to degree  region_15   0.2835321464149787\n",
      "Percentage of people promoted according to degree  region_14   0.07918465350328233\n",
      "Percentage of people promoted according to degree  region_11   0.09451071547165955\n",
      "Percentage of people promoted according to degree  region_5   0.044701014074433575\n",
      "Percentage of people promoted according to degree  region_28   0.19668446192750771\n",
      "Percentage of people promoted according to degree  region_17   0.13921172954609312\n",
      "Percentage of people promoted according to degree  region_13   0.2937495210605635\n",
      "Percentage of people promoted according to degree  region_16   0.13027152673120643\n",
      "Percentage of people promoted according to degree  region_25   0.13154869856190451\n",
      "Percentage of people promoted according to degree  region_10   0.06513576336560321\n",
      "Percentage of people promoted according to degree  region_27   0.16730950982145137\n",
      "Percentage of people promoted according to degree  region_30   0.07535313801118802\n",
      "Percentage of people promoted according to degree  region_12   0.04214667041303737\n",
      "Percentage of people promoted according to degree  region_21   0.022989092952565838\n",
      "Percentage of people promoted according to degree  region_8   0.0676901070269994\n",
      "Percentage of people promoted according to degree  region_32   0.05108687322792409\n",
      "Percentage of people promoted according to degree  region_6   0.040869498582339264\n",
      "Percentage of people promoted according to degree  region_33   0.012771718306981022\n",
      "Percentage of people promoted according to degree  region_24   0.022989092952565838\n",
      "Percentage of people promoted according to degree  region_3   0.04725535773582978\n",
      "Percentage of people promoted according to degree  region_9   0.010217374645584816\n",
      "Percentage of people promoted according to degree  region_18   0.001277171830698102\n"
     ]
    }
   ],
   "source": [
    "for x in df_concat[\"region\"].unique():\n",
    "    print(\"Percentage of people promoted according to degree \",x,\" \",(len(df_concat.loc[(df_concat.region==x) & (df_concat[\"is_promoted\"]==1.0),\"is_promoted\" ]))/len(df_concat)*100)"
   ]
  },
  {
   "cell_type": "code",
   "execution_count": 30,
   "id": "e5af9b5c",
   "metadata": {},
   "outputs": [],
   "source": [
    "#Region_2 have highest number of people promoted\n"
   ]
  },
  {
   "cell_type": "code",
   "execution_count": 31,
   "id": "e927c621",
   "metadata": {},
   "outputs": [
    {
     "data": {
      "text/html": [
       "<div>\n",
       "<style scoped>\n",
       "    .dataframe tbody tr th:only-of-type {\n",
       "        vertical-align: middle;\n",
       "    }\n",
       "\n",
       "    .dataframe tbody tr th {\n",
       "        vertical-align: top;\n",
       "    }\n",
       "\n",
       "    .dataframe thead th {\n",
       "        text-align: right;\n",
       "    }\n",
       "</style>\n",
       "<table border=\"1\" class=\"dataframe\">\n",
       "  <thead>\n",
       "    <tr style=\"text-align: right;\">\n",
       "      <th>is_promoted</th>\n",
       "      <th>0.0</th>\n",
       "      <th>1.0</th>\n",
       "    </tr>\n",
       "    <tr>\n",
       "      <th>gender</th>\n",
       "      <th></th>\n",
       "      <th></th>\n",
       "    </tr>\n",
       "  </thead>\n",
       "  <tbody>\n",
       "    <tr>\n",
       "      <th>f</th>\n",
       "      <td>14845</td>\n",
       "      <td>1467</td>\n",
       "    </tr>\n",
       "    <tr>\n",
       "      <th>m</th>\n",
       "      <td>35295</td>\n",
       "      <td>3201</td>\n",
       "    </tr>\n",
       "  </tbody>\n",
       "</table>\n",
       "</div>"
      ],
      "text/plain": [
       "is_promoted    0.0   1.0\n",
       "gender                  \n",
       "f            14845  1467\n",
       "m            35295  3201"
      ]
     },
     "execution_count": 31,
     "metadata": {},
     "output_type": "execute_result"
    }
   ],
   "source": [
    "pd.crosstab(df_concat[\"gender\"],df_concat[\"is_promoted\"])"
   ]
  },
  {
   "cell_type": "code",
   "execution_count": 32,
   "id": "33191b7e",
   "metadata": {},
   "outputs": [
    {
     "data": {
      "text/plain": [
       "<AxesSubplot:xlabel='gender'>"
      ]
     },
     "execution_count": 32,
     "metadata": {},
     "output_type": "execute_result"
    },
    {
     "data": {
      "image/png": "[encoded data removed]",
      "text/plain": [
       "<Figure size 640x480 with 1 Axes>"
      ]
     },
     "metadata": {},
     "output_type": "display_data"
    }
   ],
   "source": [
    "pd.crosstab(df_concat[\"gender\"],df_concat[\"is_promoted\"]).plot(kind=\"bar\")"
   ]
  },
  {
   "cell_type": "code",
   "execution_count": 33,
   "id": "973f531b",
   "metadata": {},
   "outputs": [
    {
     "name": "stdout",
     "output_type": "stream",
     "text": [
      "Percentage of people promoted according to the gender  f   1.8736110756341158\n",
      "Percentage of people promoted according to the gender  m   4.088227030064625\n"
     ]
    }
   ],
   "source": [
    "for x in df_concat[\"gender\"].unique():\n",
    "    print(\"Percentage of people promoted according to the gender \",x,\" \",(len(df_concat.loc[(df_concat.gender==x) & (df_concat[\"is_promoted\"]==1.0),\"is_promoted\" ]))/len(df_concat)*100)"
   ]
  },
  {
   "cell_type": "code",
   "execution_count": 34,
   "id": "893b6e07",
   "metadata": {},
   "outputs": [],
   "source": [
    "#percentage of promoted male employee are more than the female "
   ]
  },
  {
   "cell_type": "code",
   "execution_count": 35,
   "id": "09516d73",
   "metadata": {},
   "outputs": [
    {
     "data": {
      "text/html": [
       "<div>\n",
       "<style scoped>\n",
       "    .dataframe tbody tr th:only-of-type {\n",
       "        vertical-align: middle;\n",
       "    }\n",
       "\n",
       "    .dataframe tbody tr th {\n",
       "        vertical-align: top;\n",
       "    }\n",
       "\n",
       "    .dataframe thead th {\n",
       "        text-align: right;\n",
       "    }\n",
       "</style>\n",
       "<table border=\"1\" class=\"dataframe\">\n",
       "  <thead>\n",
       "    <tr style=\"text-align: right;\">\n",
       "      <th>is_promoted</th>\n",
       "      <th>0.0</th>\n",
       "      <th>1.0</th>\n",
       "    </tr>\n",
       "    <tr>\n",
       "      <th>no_of_trainings</th>\n",
       "      <th></th>\n",
       "      <th></th>\n",
       "    </tr>\n",
       "  </thead>\n",
       "  <tbody>\n",
       "    <tr>\n",
       "      <th>1</th>\n",
       "      <td>40468</td>\n",
       "      <td>3910</td>\n",
       "    </tr>\n",
       "    <tr>\n",
       "      <th>2</th>\n",
       "      <td>7382</td>\n",
       "      <td>605</td>\n",
       "    </tr>\n",
       "    <tr>\n",
       "      <th>3</th>\n",
       "      <td>1654</td>\n",
       "      <td>122</td>\n",
       "    </tr>\n",
       "    <tr>\n",
       "      <th>4</th>\n",
       "      <td>442</td>\n",
       "      <td>26</td>\n",
       "    </tr>\n",
       "    <tr>\n",
       "      <th>5</th>\n",
       "      <td>125</td>\n",
       "      <td>3</td>\n",
       "    </tr>\n",
       "    <tr>\n",
       "      <th>6</th>\n",
       "      <td>42</td>\n",
       "      <td>2</td>\n",
       "    </tr>\n",
       "    <tr>\n",
       "      <th>7</th>\n",
       "      <td>12</td>\n",
       "      <td>0</td>\n",
       "    </tr>\n",
       "    <tr>\n",
       "      <th>8</th>\n",
       "      <td>5</td>\n",
       "      <td>0</td>\n",
       "    </tr>\n",
       "    <tr>\n",
       "      <th>9</th>\n",
       "      <td>5</td>\n",
       "      <td>0</td>\n",
       "    </tr>\n",
       "    <tr>\n",
       "      <th>10</th>\n",
       "      <td>5</td>\n",
       "      <td>0</td>\n",
       "    </tr>\n",
       "  </tbody>\n",
       "</table>\n",
       "</div>"
      ],
      "text/plain": [
       "is_promoted        0.0   1.0\n",
       "no_of_trainings             \n",
       "1                40468  3910\n",
       "2                 7382   605\n",
       "3                 1654   122\n",
       "4                  442    26\n",
       "5                  125     3\n",
       "6                   42     2\n",
       "7                   12     0\n",
       "8                    5     0\n",
       "9                    5     0\n",
       "10                   5     0"
      ]
     },
     "execution_count": 35,
     "metadata": {},
     "output_type": "execute_result"
    }
   ],
   "source": [
    "\n",
    "pd.crosstab(df_concat[\"no_of_trainings\"],df_concat[\"is_promoted\"])"
   ]
  },
  {
   "cell_type": "code",
   "execution_count": 36,
   "id": "9d8ca115",
   "metadata": {},
   "outputs": [
    {
     "name": "stdout",
     "output_type": "stream",
     "text": [
      "Percentage of people promoted according to the number of training they have  1   4.99374185802958\n",
      "Percentage of people promoted according to the number of training they have  2   0.7726889575723518\n",
      "Percentage of people promoted according to the number of training they have  3   0.15581496334516845\n",
      "Percentage of people promoted according to the number of training they have  4   0.03320646759815065\n",
      "Percentage of people promoted according to the number of training they have  7   0.0\n",
      "Percentage of people promoted according to the number of training they have  5   0.0038315154920943065\n",
      "Percentage of people promoted according to the number of training they have  6   0.002554343661396204\n",
      "Percentage of people promoted according to the number of training they have  8   0.0\n",
      "Percentage of people promoted according to the number of training they have  10   0.0\n",
      "Percentage of people promoted according to the number of training they have  9   0.0\n"
     ]
    }
   ],
   "source": [
    "for x in df_concat[\"no_of_trainings\"].unique():\n",
    "    print(\"Percentage of people promoted according to the number of training they have \",x,\" \",(len(df_concat.loc[(df_concat.no_of_trainings==x) & (df_concat[\"is_promoted\"]==1.0),\"is_promoted\" ]))/len(df_concat)*100)"
   ]
  },
  {
   "cell_type": "code",
   "execution_count": 37,
   "id": "b0e16012",
   "metadata": {},
   "outputs": [],
   "source": [
    "# training more doesnt gave promotion\n"
   ]
  },
  {
   "cell_type": "code",
   "execution_count": 38,
   "id": "2ad162b6",
   "metadata": {},
   "outputs": [
    {
     "data": {
      "text/html": [
       "<div>\n",
       "<style scoped>\n",
       "    .dataframe tbody tr th:only-of-type {\n",
       "        vertical-align: middle;\n",
       "    }\n",
       "\n",
       "    .dataframe tbody tr th {\n",
       "        vertical-align: top;\n",
       "    }\n",
       "\n",
       "    .dataframe thead th {\n",
       "        text-align: right;\n",
       "    }\n",
       "</style>\n",
       "<table border=\"1\" class=\"dataframe\">\n",
       "  <thead>\n",
       "    <tr style=\"text-align: right;\">\n",
       "      <th>is_promoted</th>\n",
       "      <th>0.0</th>\n",
       "      <th>1.0</th>\n",
       "    </tr>\n",
       "    <tr>\n",
       "      <th>age</th>\n",
       "      <th></th>\n",
       "      <th></th>\n",
       "    </tr>\n",
       "  </thead>\n",
       "  <tbody>\n",
       "    <tr>\n",
       "      <th>20</th>\n",
       "      <td>109</td>\n",
       "      <td>4</td>\n",
       "    </tr>\n",
       "    <tr>\n",
       "      <th>21</th>\n",
       "      <td>93</td>\n",
       "      <td>5</td>\n",
       "    </tr>\n",
       "    <tr>\n",
       "      <th>22</th>\n",
       "      <td>213</td>\n",
       "      <td>18</td>\n",
       "    </tr>\n",
       "    <tr>\n",
       "      <th>23</th>\n",
       "      <td>394</td>\n",
       "      <td>34</td>\n",
       "    </tr>\n",
       "    <tr>\n",
       "      <th>24</th>\n",
       "      <td>775</td>\n",
       "      <td>70</td>\n",
       "    </tr>\n",
       "    <tr>\n",
       "      <th>25</th>\n",
       "      <td>1230</td>\n",
       "      <td>69</td>\n",
       "    </tr>\n",
       "    <tr>\n",
       "      <th>26</th>\n",
       "      <td>1897</td>\n",
       "      <td>163</td>\n",
       "    </tr>\n",
       "    <tr>\n",
       "      <th>27</th>\n",
       "      <td>2566</td>\n",
       "      <td>261</td>\n",
       "    </tr>\n",
       "    <tr>\n",
       "      <th>28</th>\n",
       "      <td>2839</td>\n",
       "      <td>308</td>\n",
       "    </tr>\n",
       "    <tr>\n",
       "      <th>29</th>\n",
       "      <td>3111</td>\n",
       "      <td>294</td>\n",
       "    </tr>\n",
       "    <tr>\n",
       "      <th>30</th>\n",
       "      <td>3341</td>\n",
       "      <td>324</td>\n",
       "    </tr>\n",
       "    <tr>\n",
       "      <th>31</th>\n",
       "      <td>3224</td>\n",
       "      <td>310</td>\n",
       "    </tr>\n",
       "    <tr>\n",
       "      <th>32</th>\n",
       "      <td>3237</td>\n",
       "      <td>297</td>\n",
       "    </tr>\n",
       "    <tr>\n",
       "      <th>33</th>\n",
       "      <td>2891</td>\n",
       "      <td>319</td>\n",
       "    </tr>\n",
       "    <tr>\n",
       "      <th>34</th>\n",
       "      <td>2790</td>\n",
       "      <td>286</td>\n",
       "    </tr>\n",
       "    <tr>\n",
       "      <th>35</th>\n",
       "      <td>2428</td>\n",
       "      <td>283</td>\n",
       "    </tr>\n",
       "    <tr>\n",
       "      <th>36</th>\n",
       "      <td>2309</td>\n",
       "      <td>208</td>\n",
       "    </tr>\n",
       "    <tr>\n",
       "      <th>37</th>\n",
       "      <td>1981</td>\n",
       "      <td>184</td>\n",
       "    </tr>\n",
       "    <tr>\n",
       "      <th>38</th>\n",
       "      <td>1739</td>\n",
       "      <td>184</td>\n",
       "    </tr>\n",
       "    <tr>\n",
       "      <th>39</th>\n",
       "      <td>1534</td>\n",
       "      <td>161</td>\n",
       "    </tr>\n",
       "    <tr>\n",
       "      <th>40</th>\n",
       "      <td>1536</td>\n",
       "      <td>127</td>\n",
       "    </tr>\n",
       "    <tr>\n",
       "      <th>41</th>\n",
       "      <td>1185</td>\n",
       "      <td>104</td>\n",
       "    </tr>\n",
       "    <tr>\n",
       "      <th>42</th>\n",
       "      <td>1058</td>\n",
       "      <td>91</td>\n",
       "    </tr>\n",
       "    <tr>\n",
       "      <th>43</th>\n",
       "      <td>915</td>\n",
       "      <td>77</td>\n",
       "    </tr>\n",
       "    <tr>\n",
       "      <th>44</th>\n",
       "      <td>777</td>\n",
       "      <td>70</td>\n",
       "    </tr>\n",
       "    <tr>\n",
       "      <th>45</th>\n",
       "      <td>712</td>\n",
       "      <td>48</td>\n",
       "    </tr>\n",
       "    <tr>\n",
       "      <th>46</th>\n",
       "      <td>654</td>\n",
       "      <td>43</td>\n",
       "    </tr>\n",
       "    <tr>\n",
       "      <th>47</th>\n",
       "      <td>530</td>\n",
       "      <td>27</td>\n",
       "    </tr>\n",
       "    <tr>\n",
       "      <th>48</th>\n",
       "      <td>513</td>\n",
       "      <td>44</td>\n",
       "    </tr>\n",
       "    <tr>\n",
       "      <th>49</th>\n",
       "      <td>408</td>\n",
       "      <td>33</td>\n",
       "    </tr>\n",
       "    <tr>\n",
       "      <th>50</th>\n",
       "      <td>490</td>\n",
       "      <td>31</td>\n",
       "    </tr>\n",
       "    <tr>\n",
       "      <th>51</th>\n",
       "      <td>355</td>\n",
       "      <td>34</td>\n",
       "    </tr>\n",
       "    <tr>\n",
       "      <th>52</th>\n",
       "      <td>323</td>\n",
       "      <td>28</td>\n",
       "    </tr>\n",
       "    <tr>\n",
       "      <th>53</th>\n",
       "      <td>350</td>\n",
       "      <td>14</td>\n",
       "    </tr>\n",
       "    <tr>\n",
       "      <th>54</th>\n",
       "      <td>289</td>\n",
       "      <td>24</td>\n",
       "    </tr>\n",
       "    <tr>\n",
       "      <th>55</th>\n",
       "      <td>276</td>\n",
       "      <td>18</td>\n",
       "    </tr>\n",
       "    <tr>\n",
       "      <th>56</th>\n",
       "      <td>243</td>\n",
       "      <td>21</td>\n",
       "    </tr>\n",
       "    <tr>\n",
       "      <th>57</th>\n",
       "      <td>233</td>\n",
       "      <td>5</td>\n",
       "    </tr>\n",
       "    <tr>\n",
       "      <th>58</th>\n",
       "      <td>197</td>\n",
       "      <td>16</td>\n",
       "    </tr>\n",
       "    <tr>\n",
       "      <th>59</th>\n",
       "      <td>192</td>\n",
       "      <td>17</td>\n",
       "    </tr>\n",
       "    <tr>\n",
       "      <th>60</th>\n",
       "      <td>203</td>\n",
       "      <td>14</td>\n",
       "    </tr>\n",
       "  </tbody>\n",
       "</table>\n",
       "</div>"
      ],
      "text/plain": [
       "is_promoted   0.0  1.0\n",
       "age                   \n",
       "20            109    4\n",
       "21             93    5\n",
       "22            213   18\n",
       "23            394   34\n",
       "24            775   70\n",
       "25           1230   69\n",
       "26           1897  163\n",
       "27           2566  261\n",
       "28           2839  308\n",
       "29           3111  294\n",
       "30           3341  324\n",
       "31           3224  310\n",
       "32           3237  297\n",
       "33           2891  319\n",
       "34           2790  286\n",
       "35           2428  283\n",
       "36           2309  208\n",
       "37           1981  184\n",
       "38           1739  184\n",
       "39           1534  161\n",
       "40           1536  127\n",
       "41           1185  104\n",
       "42           1058   91\n",
       "43            915   77\n",
       "44            777   70\n",
       "45            712   48\n",
       "46            654   43\n",
       "47            530   27\n",
       "48            513   44\n",
       "49            408   33\n",
       "50            490   31\n",
       "51            355   34\n",
       "52            323   28\n",
       "53            350   14\n",
       "54            289   24\n",
       "55            276   18\n",
       "56            243   21\n",
       "57            233    5\n",
       "58            197   16\n",
       "59            192   17\n",
       "60            203   14"
      ]
     },
     "execution_count": 38,
     "metadata": {},
     "output_type": "execute_result"
    }
   ],
   "source": [
    "pd.crosstab(df_concat[\"age\"],df_concat[\"is_promoted\"])"
   ]
  },
  {
   "cell_type": "code",
   "execution_count": 39,
   "id": "534bdb5f",
   "metadata": {},
   "outputs": [
    {
     "name": "stdout",
     "output_type": "stream",
     "text": [
      "Percentage of people promoted according to the age factor  20   0.005108687322792408\n",
      "Percentage of people promoted according to the age factor  21   0.006385859153490511\n",
      "Percentage of people promoted according to the age factor  22   0.022989092952565838\n",
      "Percentage of people promoted according to the age factor  23   0.04342384224373547\n",
      "Percentage of people promoted according to the age factor  24   0.08940202814886715\n",
      "Percentage of people promoted according to the age factor  25   0.08812485631816905\n",
      "Percentage of people promoted according to the age factor  26   0.20817900840379064\n",
      "Percentage of people promoted according to the age factor  27   0.33334184781220466\n",
      "Percentage of people promoted according to the age factor  28   0.39336892385501543\n",
      "Percentage of people promoted according to the age factor  29   0.375488518225242\n",
      "Percentage of people promoted according to the age factor  30   0.41380367314618505\n",
      "Percentage of people promoted according to the age factor  31   0.39592326751641166\n",
      "Percentage of people promoted according to the age factor  32   0.37932003371733636\n",
      "Percentage of people promoted according to the age factor  33   0.40741781399269456\n",
      "Percentage of people promoted according to the age factor  34   0.3652711435796572\n",
      "Percentage of people promoted according to the age factor  35   0.3614396280875629\n",
      "Percentage of people promoted according to the age factor  36   0.2656517407852052\n",
      "Percentage of people promoted according to the age factor  37   0.2349996168484508\n",
      "Percentage of people promoted according to the age factor  38   0.2349996168484508\n",
      "Percentage of people promoted according to the age factor  39   0.20562466474239446\n",
      "Percentage of people promoted according to the age factor  40   0.16220082249865897\n",
      "Percentage of people promoted according to the age factor  41   0.1328258703926026\n",
      "Percentage of people promoted according to the age factor  42   0.11622263659352729\n",
      "Percentage of people promoted according to the age factor  43   0.09834223096375386\n",
      "Percentage of people promoted according to the age factor  44   0.08940202814886715\n",
      "Percentage of people promoted according to the age factor  45   0.0613042478735089\n",
      "Percentage of people promoted according to the age factor  46   0.05491838872001839\n",
      "Percentage of people promoted according to the age factor  47   0.03448363942884876\n",
      "Percentage of people promoted according to the age factor  48   0.0561955605507165\n",
      "Percentage of people promoted according to the age factor  49   0.04214667041303737\n",
      "Percentage of people promoted according to the age factor  50   0.03959232675164116\n",
      "Percentage of people promoted according to the age factor  51   0.04342384224373547\n",
      "Percentage of people promoted according to the age factor  52   0.03576081125954686\n",
      "Percentage of people promoted according to the age factor  53   0.01788040562977343\n",
      "Percentage of people promoted according to the age factor  54   0.03065212393675445\n",
      "Percentage of people promoted according to the age factor  55   0.022989092952565838\n",
      "Percentage of people promoted according to the age factor  56   0.026820608444660145\n",
      "Percentage of people promoted according to the age factor  57   0.006385859153490511\n",
      "Percentage of people promoted according to the age factor  58   0.020434749291169632\n",
      "Percentage of people promoted according to the age factor  59   0.021711921121867737\n",
      "Percentage of people promoted according to the age factor  60   0.01788040562977343\n"
     ]
    }
   ],
   "source": [
    "l=sorted(df_concat[\"age\"].unique())\n",
    "for x in l:\n",
    "    print(\"Percentage of people promoted according to the age factor \",x,\" \",(len(df_concat.loc[(df_concat.age==x) & (df_concat[\"is_promoted\"]==1.0),\"is_promoted\" ]))/len(df_concat)*100)"
   ]
  },
  {
   "cell_type": "code",
   "execution_count": 40,
   "id": "4aabe112",
   "metadata": {},
   "outputs": [],
   "source": [
    "#middle age people are more highly likely to be promoted"
   ]
  },
  {
   "cell_type": "code",
   "execution_count": 41,
   "id": "a54c82e2",
   "metadata": {},
   "outputs": [
    {
     "data": {
      "text/html": [
       "<div>\n",
       "<style scoped>\n",
       "    .dataframe tbody tr th:only-of-type {\n",
       "        vertical-align: middle;\n",
       "    }\n",
       "\n",
       "    .dataframe tbody tr th {\n",
       "        vertical-align: top;\n",
       "    }\n",
       "\n",
       "    .dataframe thead th {\n",
       "        text-align: right;\n",
       "    }\n",
       "</style>\n",
       "<table border=\"1\" class=\"dataframe\">\n",
       "  <thead>\n",
       "    <tr style=\"text-align: right;\">\n",
       "      <th>is_promoted</th>\n",
       "      <th>0.0</th>\n",
       "      <th>1.0</th>\n",
       "    </tr>\n",
       "    <tr>\n",
       "      <th>previous_year_rating</th>\n",
       "      <th></th>\n",
       "      <th></th>\n",
       "    </tr>\n",
       "  </thead>\n",
       "  <tbody>\n",
       "    <tr>\n",
       "      <th>1.0</th>\n",
       "      <td>6135</td>\n",
       "      <td>88</td>\n",
       "    </tr>\n",
       "    <tr>\n",
       "      <th>2.0</th>\n",
       "      <td>4044</td>\n",
       "      <td>181</td>\n",
       "    </tr>\n",
       "    <tr>\n",
       "      <th>3.0</th>\n",
       "      <td>17263</td>\n",
       "      <td>1355</td>\n",
       "    </tr>\n",
       "    <tr>\n",
       "      <th>4.0</th>\n",
       "      <td>9093</td>\n",
       "      <td>784</td>\n",
       "    </tr>\n",
       "    <tr>\n",
       "      <th>5.0</th>\n",
       "      <td>9820</td>\n",
       "      <td>1921</td>\n",
       "    </tr>\n",
       "  </tbody>\n",
       "</table>\n",
       "</div>"
      ],
      "text/plain": [
       "is_promoted             0.0   1.0\n",
       "previous_year_rating             \n",
       "1.0                    6135    88\n",
       "2.0                    4044   181\n",
       "3.0                   17263  1355\n",
       "4.0                    9093   784\n",
       "5.0                    9820  1921"
      ]
     },
     "execution_count": 41,
     "metadata": {},
     "output_type": "execute_result"
    }
   ],
   "source": [
    "pd.crosstab(df_concat[\"previous_year_rating\"],df_concat[\"is_promoted\"])"
   ]
  },
  {
   "cell_type": "code",
   "execution_count": 42,
   "id": "b683bb75",
   "metadata": {},
   "outputs": [
    {
     "name": "stdout",
     "output_type": "stream",
     "text": [
      "Percentage of people promoted according to the previous_work_rating   1.0   0.112391121101433\n",
      "Percentage of people promoted according to the previous_work_rating   2.0   0.23116810135635646\n",
      "Percentage of people promoted according to the previous_work_rating   3.0   1.7305678305959284\n",
      "Percentage of people promoted according to the previous_work_rating   4.0   1.0013027152673122\n",
      "Percentage of people promoted according to the previous_work_rating   5.0   2.453447086771054\n"
     ]
    }
   ],
   "source": [
    "l=[1.0,2.0,3.0,4.0,5.0]\n",
    "for x in l:\n",
    "    print(\"Percentage of people promoted according to the previous_work_rating  \",x,\" \",(len(df_concat.loc[(df_concat.previous_year_rating==x) & (df_concat[\"is_promoted\"]==1.0),\"is_promoted\" ]))/len(df_concat)*100)"
   ]
  },
  {
   "cell_type": "code",
   "execution_count": 43,
   "id": "7561b5a2",
   "metadata": {},
   "outputs": [],
   "source": [
    "# people with 5 start rating have more chance of promotions "
   ]
  },
  {
   "cell_type": "code",
   "execution_count": 44,
   "id": "a83ff135",
   "metadata": {},
   "outputs": [
    {
     "data": {
      "text/html": [
       "<div>\n",
       "<style scoped>\n",
       "    .dataframe tbody tr th:only-of-type {\n",
       "        vertical-align: middle;\n",
       "    }\n",
       "\n",
       "    .dataframe tbody tr th {\n",
       "        vertical-align: top;\n",
       "    }\n",
       "\n",
       "    .dataframe thead th {\n",
       "        text-align: right;\n",
       "    }\n",
       "</style>\n",
       "<table border=\"1\" class=\"dataframe\">\n",
       "  <thead>\n",
       "    <tr style=\"text-align: right;\">\n",
       "      <th>is_promoted</th>\n",
       "      <th>0.0</th>\n",
       "      <th>1.0</th>\n",
       "    </tr>\n",
       "    <tr>\n",
       "      <th>length_of_service</th>\n",
       "      <th></th>\n",
       "      <th></th>\n",
       "    </tr>\n",
       "  </thead>\n",
       "  <tbody>\n",
       "    <tr>\n",
       "      <th>1</th>\n",
       "      <td>4170</td>\n",
       "      <td>377</td>\n",
       "    </tr>\n",
       "    <tr>\n",
       "      <th>2</th>\n",
       "      <td>6089</td>\n",
       "      <td>595</td>\n",
       "    </tr>\n",
       "    <tr>\n",
       "      <th>3</th>\n",
       "      <td>6424</td>\n",
       "      <td>609</td>\n",
       "    </tr>\n",
       "    <tr>\n",
       "      <th>4</th>\n",
       "      <td>6238</td>\n",
       "      <td>598</td>\n",
       "    </tr>\n",
       "    <tr>\n",
       "      <th>5</th>\n",
       "      <td>5357</td>\n",
       "      <td>475</td>\n",
       "    </tr>\n",
       "    <tr>\n",
       "      <th>6</th>\n",
       "      <td>4333</td>\n",
       "      <td>401</td>\n",
       "    </tr>\n",
       "    <tr>\n",
       "      <th>7</th>\n",
       "      <td>5087</td>\n",
       "      <td>464</td>\n",
       "    </tr>\n",
       "    <tr>\n",
       "      <th>8</th>\n",
       "      <td>2614</td>\n",
       "      <td>269</td>\n",
       "    </tr>\n",
       "    <tr>\n",
       "      <th>9</th>\n",
       "      <td>2400</td>\n",
       "      <td>229</td>\n",
       "    </tr>\n",
       "    <tr>\n",
       "      <th>10</th>\n",
       "      <td>1989</td>\n",
       "      <td>204</td>\n",
       "    </tr>\n",
       "    <tr>\n",
       "      <th>11</th>\n",
       "      <td>820</td>\n",
       "      <td>96</td>\n",
       "    </tr>\n",
       "    <tr>\n",
       "      <th>12</th>\n",
       "      <td>731</td>\n",
       "      <td>63</td>\n",
       "    </tr>\n",
       "    <tr>\n",
       "      <th>13</th>\n",
       "      <td>633</td>\n",
       "      <td>54</td>\n",
       "    </tr>\n",
       "    <tr>\n",
       "      <th>14</th>\n",
       "      <td>520</td>\n",
       "      <td>29</td>\n",
       "    </tr>\n",
       "    <tr>\n",
       "      <th>15</th>\n",
       "      <td>550</td>\n",
       "      <td>43</td>\n",
       "    </tr>\n",
       "    <tr>\n",
       "      <th>16</th>\n",
       "      <td>507</td>\n",
       "      <td>41</td>\n",
       "    </tr>\n",
       "    <tr>\n",
       "      <th>17</th>\n",
       "      <td>406</td>\n",
       "      <td>26</td>\n",
       "    </tr>\n",
       "    <tr>\n",
       "      <th>18</th>\n",
       "      <td>367</td>\n",
       "      <td>25</td>\n",
       "    </tr>\n",
       "    <tr>\n",
       "      <th>19</th>\n",
       "      <td>297</td>\n",
       "      <td>32</td>\n",
       "    </tr>\n",
       "    <tr>\n",
       "      <th>20</th>\n",
       "      <td>118</td>\n",
       "      <td>10</td>\n",
       "    </tr>\n",
       "    <tr>\n",
       "      <th>21</th>\n",
       "      <td>74</td>\n",
       "      <td>4</td>\n",
       "    </tr>\n",
       "    <tr>\n",
       "      <th>22</th>\n",
       "      <td>55</td>\n",
       "      <td>6</td>\n",
       "    </tr>\n",
       "    <tr>\n",
       "      <th>23</th>\n",
       "      <td>58</td>\n",
       "      <td>7</td>\n",
       "    </tr>\n",
       "    <tr>\n",
       "      <th>24</th>\n",
       "      <td>70</td>\n",
       "      <td>0</td>\n",
       "    </tr>\n",
       "    <tr>\n",
       "      <th>25</th>\n",
       "      <td>49</td>\n",
       "      <td>2</td>\n",
       "    </tr>\n",
       "    <tr>\n",
       "      <th>26</th>\n",
       "      <td>41</td>\n",
       "      <td>0</td>\n",
       "    </tr>\n",
       "    <tr>\n",
       "      <th>27</th>\n",
       "      <td>35</td>\n",
       "      <td>1</td>\n",
       "    </tr>\n",
       "    <tr>\n",
       "      <th>28</th>\n",
       "      <td>28</td>\n",
       "      <td>2</td>\n",
       "    </tr>\n",
       "    <tr>\n",
       "      <th>29</th>\n",
       "      <td>27</td>\n",
       "      <td>3</td>\n",
       "    </tr>\n",
       "    <tr>\n",
       "      <th>30</th>\n",
       "      <td>12</td>\n",
       "      <td>0</td>\n",
       "    </tr>\n",
       "    <tr>\n",
       "      <th>31</th>\n",
       "      <td>20</td>\n",
       "      <td>0</td>\n",
       "    </tr>\n",
       "    <tr>\n",
       "      <th>32</th>\n",
       "      <td>8</td>\n",
       "      <td>2</td>\n",
       "    </tr>\n",
       "    <tr>\n",
       "      <th>33</th>\n",
       "      <td>9</td>\n",
       "      <td>0</td>\n",
       "    </tr>\n",
       "    <tr>\n",
       "      <th>34</th>\n",
       "      <td>3</td>\n",
       "      <td>1</td>\n",
       "    </tr>\n",
       "    <tr>\n",
       "      <th>37</th>\n",
       "      <td>1</td>\n",
       "      <td>0</td>\n",
       "    </tr>\n",
       "  </tbody>\n",
       "</table>\n",
       "</div>"
      ],
      "text/plain": [
       "is_promoted         0.0  1.0\n",
       "length_of_service           \n",
       "1                  4170  377\n",
       "2                  6089  595\n",
       "3                  6424  609\n",
       "4                  6238  598\n",
       "5                  5357  475\n",
       "6                  4333  401\n",
       "7                  5087  464\n",
       "8                  2614  269\n",
       "9                  2400  229\n",
       "10                 1989  204\n",
       "11                  820   96\n",
       "12                  731   63\n",
       "13                  633   54\n",
       "14                  520   29\n",
       "15                  550   43\n",
       "16                  507   41\n",
       "17                  406   26\n",
       "18                  367   25\n",
       "19                  297   32\n",
       "20                  118   10\n",
       "21                   74    4\n",
       "22                   55    6\n",
       "23                   58    7\n",
       "24                   70    0\n",
       "25                   49    2\n",
       "26                   41    0\n",
       "27                   35    1\n",
       "28                   28    2\n",
       "29                   27    3\n",
       "30                   12    0\n",
       "31                   20    0\n",
       "32                    8    2\n",
       "33                    9    0\n",
       "34                    3    1\n",
       "37                    1    0"
      ]
     },
     "execution_count": 44,
     "metadata": {},
     "output_type": "execute_result"
    }
   ],
   "source": [
    "pd.crosstab(df_concat[\"length_of_service\"],df_concat[\"is_promoted\"])"
   ]
  },
  {
   "cell_type": "code",
   "execution_count": 45,
   "id": "b139f97f",
   "metadata": {},
   "outputs": [
    {
     "name": "stdout",
     "output_type": "stream",
     "text": [
      "Percentage of people promoted in the length_of_service  1   0.004814937801731845\n",
      "Percentage of people promoted in the length_of_service  2   0.007599172392653708\n",
      "Percentage of people promoted in the length_of_service  3   0.007777976448951442\n",
      "Percentage of people promoted in the length_of_service  4   0.007637487547574651\n",
      "Percentage of people promoted in the length_of_service  5   0.006066566195815985\n",
      "Percentage of people promoted in the length_of_service  6   0.00512145904109939\n",
      "Percentage of people promoted in the length_of_service  7   0.005926077294439194\n",
      "Percentage of people promoted in the length_of_service  8   0.003435592224577895\n",
      "Percentage of people promoted in the length_of_service  9   0.002924723492298654\n",
      "Percentage of people promoted in the length_of_service  10   0.0026054305346241285\n",
      "Percentage of people promoted in the length_of_service  11   0.0012260849574701781\n",
      "Percentage of people promoted in the length_of_service  12   0.0008046182533398043\n",
      "Percentage of people promoted in the length_of_service  13   0.0006896727885769751\n",
      "Percentage of people promoted in the length_of_service  14   0.0003703798309024496\n",
      "Percentage of people promoted in the length_of_service  15   0.0005491838872001839\n",
      "Percentage of people promoted in the length_of_service  16   0.0005236404505862219\n",
      "Percentage of people promoted in the length_of_service  17   0.0003320646759815065\n",
      "Percentage of people promoted in the length_of_service  18   0.00031929295767452556\n",
      "Percentage of people promoted in the length_of_service  19   0.00040869498582339267\n",
      "Percentage of people promoted in the length_of_service  20   0.00012771718306981022\n",
      "Percentage of people promoted in the length_of_service  21   5.1086873227924084e-05\n",
      "Percentage of people promoted in the length_of_service  22   7.663030984188613e-05\n",
      "Percentage of people promoted in the length_of_service  23   8.940202814886714e-05\n",
      "Percentage of people promoted in the length_of_service  24   0.0\n",
      "Percentage of people promoted in the length_of_service  25   2.5543436613962042e-05\n",
      "Percentage of people promoted in the length_of_service  26   0.0\n",
      "Percentage of people promoted in the length_of_service  27   1.2771718306981021e-05\n",
      "Percentage of people promoted in the length_of_service  28   2.5543436613962042e-05\n",
      "Percentage of people promoted in the length_of_service  29   3.8315154920943066e-05\n",
      "Percentage of people promoted in the length_of_service  30   0.0\n",
      "Percentage of people promoted in the length_of_service  31   0.0\n",
      "Percentage of people promoted in the length_of_service  32   2.5543436613962042e-05\n",
      "Percentage of people promoted in the length_of_service  33   0.0\n",
      "Percentage of people promoted in the length_of_service  34   1.2771718306981021e-05\n",
      "Percentage of people promoted in the length_of_service  35   0.0\n",
      "Percentage of people promoted in the length_of_service  36   0.0\n",
      "Percentage of people promoted in the length_of_service  37   0.0\n"
     ]
    }
   ],
   "source": [
    "for x in np.arange(1,38):\n",
    "    try:\n",
    "        print(\"Percentage of people promoted in the length_of_service \",x,\" \",(len(df_concat.loc[(df_concat.length_of_service==x) & (df_concat[\"is_promoted\"]==1.0),\"is_promoted\" ]))/len(df_concat))\n",
    "    \n",
    "    except:\n",
    "        continue"
   ]
  },
  {
   "cell_type": "code",
   "execution_count": 46,
   "id": "b6441e1b",
   "metadata": {},
   "outputs": [],
   "source": [
    "# lesser the length of service more chances for promotion"
   ]
  },
  {
   "cell_type": "code",
   "execution_count": 47,
   "id": "6c687568",
   "metadata": {},
   "outputs": [
    {
     "data": {
      "text/html": [
       "<div>\n",
       "<style scoped>\n",
       "    .dataframe tbody tr th:only-of-type {\n",
       "        vertical-align: middle;\n",
       "    }\n",
       "\n",
       "    .dataframe tbody tr th {\n",
       "        vertical-align: top;\n",
       "    }\n",
       "\n",
       "    .dataframe thead th {\n",
       "        text-align: right;\n",
       "    }\n",
       "</style>\n",
       "<table border=\"1\" class=\"dataframe\">\n",
       "  <thead>\n",
       "    <tr style=\"text-align: right;\">\n",
       "      <th>is_promoted</th>\n",
       "      <th>0.0</th>\n",
       "      <th>1.0</th>\n",
       "    </tr>\n",
       "    <tr>\n",
       "      <th>KPIs_met &gt;80%</th>\n",
       "      <th></th>\n",
       "      <th></th>\n",
       "    </tr>\n",
       "  </thead>\n",
       "  <tbody>\n",
       "    <tr>\n",
       "      <th>0</th>\n",
       "      <td>34111</td>\n",
       "      <td>1406</td>\n",
       "    </tr>\n",
       "    <tr>\n",
       "      <th>1</th>\n",
       "      <td>16029</td>\n",
       "      <td>3262</td>\n",
       "    </tr>\n",
       "  </tbody>\n",
       "</table>\n",
       "</div>"
      ],
      "text/plain": [
       "is_promoted      0.0   1.0\n",
       "KPIs_met >80%             \n",
       "0              34111  1406\n",
       "1              16029  3262"
      ]
     },
     "execution_count": 47,
     "metadata": {},
     "output_type": "execute_result"
    }
   ],
   "source": [
    "pd.crosstab(df_concat[\"KPIs_met >80%\"],df_concat[\"is_promoted\"])"
   ]
  },
  {
   "cell_type": "code",
   "execution_count": 48,
   "id": "8c580534",
   "metadata": {},
   "outputs": [
    {
     "data": {
      "text/plain": [
       "<AxesSubplot:xlabel='KPIs_met >80%'>"
      ]
     },
     "execution_count": 48,
     "metadata": {},
     "output_type": "execute_result"
    },
    {
     "data": {
      "image/png": "[encoded data removed]",
      "text/plain": [
       "<Figure size 640x480 with 1 Axes>"
      ]
     },
     "metadata": {},
     "output_type": "display_data"
    }
   ],
   "source": [
    "pd.crosstab(df_concat[\"KPIs_met >80%\"],df_concat[\"is_promoted\"]).plot(kind=\"bar\")"
   ]
  },
  {
   "cell_type": "code",
   "execution_count": 49,
   "id": "7a6fe5a0",
   "metadata": {},
   "outputs": [
    {
     "name": "stdout",
     "output_type": "stream",
     "text": [
      "Percentage of people promoted according to the criteria that they have kpi score more than 80%  1   4.1661345117372095\n",
      "Percentage of people promoted according to the criteria that they have kpi score more than 80%  0   1.7957035939615316\n"
     ]
    }
   ],
   "source": [
    "for x in df_concat[\"KPIs_met >80%\"].unique():\n",
    "    print(\"Percentage of people promoted according to the criteria that they have kpi score more than 80% \",x,\" \",(len(df_concat.loc[(df_concat[\"KPIs_met >80%\"]==x) & (df_concat[\"is_promoted\"]==1.0),\"is_promoted\" ]))/len(df_concat)*100)"
   ]
  },
  {
   "cell_type": "code",
   "execution_count": 50,
   "id": "1ab15c48",
   "metadata": {},
   "outputs": [],
   "source": [
    "#So chnaces of promotion becomes more after KPI score is met"
   ]
  },
  {
   "cell_type": "code",
   "execution_count": 51,
   "id": "41bfc600",
   "metadata": {},
   "outputs": [
    {
     "data": {
      "text/html": [
       "<div>\n",
       "<style scoped>\n",
       "    .dataframe tbody tr th:only-of-type {\n",
       "        vertical-align: middle;\n",
       "    }\n",
       "\n",
       "    .dataframe tbody tr th {\n",
       "        vertical-align: top;\n",
       "    }\n",
       "\n",
       "    .dataframe thead th {\n",
       "        text-align: right;\n",
       "    }\n",
       "</style>\n",
       "<table border=\"1\" class=\"dataframe\">\n",
       "  <thead>\n",
       "    <tr style=\"text-align: right;\">\n",
       "      <th>is_promoted</th>\n",
       "      <th>0.0</th>\n",
       "      <th>1.0</th>\n",
       "    </tr>\n",
       "    <tr>\n",
       "      <th>awards_won?</th>\n",
       "      <th></th>\n",
       "      <th></th>\n",
       "    </tr>\n",
       "  </thead>\n",
       "  <tbody>\n",
       "    <tr>\n",
       "      <th>0</th>\n",
       "      <td>49429</td>\n",
       "      <td>4109</td>\n",
       "    </tr>\n",
       "    <tr>\n",
       "      <th>1</th>\n",
       "      <td>711</td>\n",
       "      <td>559</td>\n",
       "    </tr>\n",
       "  </tbody>\n",
       "</table>\n",
       "</div>"
      ],
      "text/plain": [
       "is_promoted    0.0   1.0\n",
       "awards_won?             \n",
       "0            49429  4109\n",
       "1              711   559"
      ]
     },
     "execution_count": 51,
     "metadata": {},
     "output_type": "execute_result"
    }
   ],
   "source": [
    "pd.crosstab(df_concat[\"awards_won?\"],df_concat[\"is_promoted\"])"
   ]
  },
  {
   "cell_type": "code",
   "execution_count": 52,
   "id": "823a4cd7",
   "metadata": {},
   "outputs": [
    {
     "name": "stdout",
     "output_type": "stream",
     "text": [
      "Percentage of people promoted according to if award is one or not  0   5.247899052338502\n",
      "Percentage of people promoted according to if award is one or not  1   0.7139390533602391\n"
     ]
    }
   ],
   "source": [
    "for x in df_concat[\"awards_won?\"].unique():\n",
    "    print(\"Percentage of people promoted according to if award is one or not \",x,\" \",(len(df_concat.loc[(df_concat[\"awards_won?\"]==x) & (df_concat[\"is_promoted\"]==1.0),\"is_promoted\" ])/len(df_concat))*100)"
   ]
  },
  {
   "cell_type": "code",
   "execution_count": 53,
   "id": "00a8b001",
   "metadata": {},
   "outputs": [],
   "source": [
    "# promotion chance increases when you have won a award"
   ]
  },
  {
   "cell_type": "code",
   "execution_count": 54,
   "id": "704b9066",
   "metadata": {},
   "outputs": [
    {
     "data": {
      "text/html": [
       "<div>\n",
       "<style scoped>\n",
       "    .dataframe tbody tr th:only-of-type {\n",
       "        vertical-align: middle;\n",
       "    }\n",
       "\n",
       "    .dataframe tbody tr th {\n",
       "        vertical-align: top;\n",
       "    }\n",
       "\n",
       "    .dataframe thead th {\n",
       "        text-align: right;\n",
       "    }\n",
       "</style>\n",
       "<table border=\"1\" class=\"dataframe\">\n",
       "  <thead>\n",
       "    <tr style=\"text-align: right;\">\n",
       "      <th>is_promoted</th>\n",
       "      <th>0.0</th>\n",
       "      <th>1.0</th>\n",
       "    </tr>\n",
       "    <tr>\n",
       "      <th>avg_training_score</th>\n",
       "      <th></th>\n",
       "      <th></th>\n",
       "    </tr>\n",
       "  </thead>\n",
       "  <tbody>\n",
       "    <tr>\n",
       "      <th>39</th>\n",
       "      <td>2</td>\n",
       "      <td>0</td>\n",
       "    </tr>\n",
       "    <tr>\n",
       "      <th>40</th>\n",
       "      <td>5</td>\n",
       "      <td>0</td>\n",
       "    </tr>\n",
       "    <tr>\n",
       "      <th>41</th>\n",
       "      <td>25</td>\n",
       "      <td>1</td>\n",
       "    </tr>\n",
       "    <tr>\n",
       "      <th>42</th>\n",
       "      <td>60</td>\n",
       "      <td>2</td>\n",
       "    </tr>\n",
       "    <tr>\n",
       "      <th>43</th>\n",
       "      <td>169</td>\n",
       "      <td>7</td>\n",
       "    </tr>\n",
       "    <tr>\n",
       "      <th>...</th>\n",
       "      <td>...</td>\n",
       "      <td>...</td>\n",
       "    </tr>\n",
       "    <tr>\n",
       "      <th>95</th>\n",
       "      <td>0</td>\n",
       "      <td>45</td>\n",
       "    </tr>\n",
       "    <tr>\n",
       "      <th>96</th>\n",
       "      <td>1</td>\n",
       "      <td>47</td>\n",
       "    </tr>\n",
       "    <tr>\n",
       "      <th>97</th>\n",
       "      <td>0</td>\n",
       "      <td>49</td>\n",
       "    </tr>\n",
       "    <tr>\n",
       "      <th>98</th>\n",
       "      <td>0</td>\n",
       "      <td>37</td>\n",
       "    </tr>\n",
       "    <tr>\n",
       "      <th>99</th>\n",
       "      <td>0</td>\n",
       "      <td>35</td>\n",
       "    </tr>\n",
       "  </tbody>\n",
       "</table>\n",
       "<p>61 rows × 2 columns</p>\n",
       "</div>"
      ],
      "text/plain": [
       "is_promoted         0.0  1.0\n",
       "avg_training_score          \n",
       "39                    2    0\n",
       "40                    5    0\n",
       "41                   25    1\n",
       "42                   60    2\n",
       "43                  169    7\n",
       "...                 ...  ...\n",
       "95                    0   45\n",
       "96                    1   47\n",
       "97                    0   49\n",
       "98                    0   37\n",
       "99                    0   35\n",
       "\n",
       "[61 rows x 2 columns]"
      ]
     },
     "execution_count": 54,
     "metadata": {},
     "output_type": "execute_result"
    }
   ],
   "source": [
    "pd.crosstab(df_concat[\"avg_training_score\"],df_concat[\"is_promoted\"])"
   ]
  },
  {
   "cell_type": "code",
   "execution_count": 55,
   "id": "15f56d36",
   "metadata": {
    "scrolled": true
   },
   "outputs": [
    {
     "name": "stdout",
     "output_type": "stream",
     "text": [
      "Percentage of people promoted according to avg_training_score  39   0.0\n",
      "Percentage of people promoted according to avg_training_score  40   0.0\n",
      "Percentage of people promoted according to avg_training_score  41   0.001277171830698102\n",
      "Percentage of people promoted according to avg_training_score  42   0.002554343661396204\n",
      "Percentage of people promoted according to avg_training_score  43   0.008940202814886715\n",
      "Percentage of people promoted according to avg_training_score  44   0.012771718306981022\n",
      "Percentage of people promoted according to avg_training_score  45   0.03959232675164116\n",
      "Percentage of people promoted according to avg_training_score  46   0.045978185905131676\n",
      "Percentage of people promoted according to avg_training_score  47   0.10089657462515006\n",
      "Percentage of people promoted according to avg_training_score  48   0.1226084957470178\n",
      "Percentage of people promoted according to avg_training_score  49   0.12771718306981023\n",
      "Percentage of people promoted according to avg_training_score  50   0.14304324503818744\n",
      "Percentage of people promoted according to avg_training_score  51   0.13154869856190451\n",
      "Percentage of people promoted according to avg_training_score  52   0.09195637181026335\n",
      "Percentage of people promoted according to avg_training_score  53   0.0561955605507165\n",
      "Percentage of people promoted according to avg_training_score  54   0.06258141970420701\n",
      "Percentage of people promoted according to avg_training_score  55   0.0600270760428108\n",
      "Percentage of people promoted according to avg_training_score  56   0.08812485631816905\n",
      "Percentage of people promoted according to avg_training_score  57   0.10472809011724438\n",
      "Percentage of people promoted according to avg_training_score  58   0.1660323379907533\n",
      "Percentage of people promoted according to avg_training_score  59   0.1851899154512248\n",
      "Percentage of people promoted according to avg_training_score  60   0.1762497126363381\n",
      "Percentage of people promoted according to avg_training_score  61   0.1864670872819229\n",
      "Percentage of people promoted according to avg_training_score  62   0.14942910419167796\n",
      "Percentage of people promoted according to avg_training_score  63   0.1200541520856216\n",
      "Percentage of people promoted according to avg_training_score  64   0.10345091828654626\n",
      "Percentage of people promoted according to avg_training_score  65   0.08301616899537664\n",
      "Percentage of people promoted according to avg_training_score  66   0.0676901070269994\n",
      "Percentage of people promoted according to avg_training_score  67   0.09451071547165955\n",
      "Percentage of people promoted according to avg_training_score  68   0.09834223096375386\n",
      "Percentage of people promoted according to avg_training_score  69   0.1226084957470178\n",
      "Percentage of people promoted according to avg_training_score  70   0.15709213517586657\n",
      "Percentage of people promoted according to avg_training_score  71   0.13793455771539503\n",
      "Percentage of people promoted according to avg_training_score  72   0.10983677744003678\n",
      "Percentage of people promoted according to avg_training_score  73   0.07535313801118802\n",
      "Percentage of people promoted according to avg_training_score  74   0.09451071547165955\n",
      "Percentage of people promoted according to avg_training_score  75   0.06258141970420701\n",
      "Percentage of people promoted according to avg_training_score  76   0.0600270760428108\n",
      "Percentage of people promoted according to avg_training_score  77   0.08301616899537664\n",
      "Percentage of people promoted according to avg_training_score  78   0.112391121101433\n",
      "Percentage of people promoted according to avg_training_score  79   0.10728243377864058\n",
      "Percentage of people promoted according to avg_training_score  80   0.15326061968377225\n",
      "Percentage of people promoted according to avg_training_score  81   0.19029860277401722\n",
      "Percentage of people promoted according to avg_training_score  82   0.19285294643541342\n",
      "Percentage of people promoted according to avg_training_score  83   0.16220082249865897\n",
      "Percentage of people promoted according to avg_training_score  84   0.15326061968377225\n",
      "Percentage of people promoted according to avg_training_score  85   0.13410304222330072\n",
      "Percentage of people promoted according to avg_training_score  86   0.15326061968377225\n",
      "Percentage of people promoted according to avg_training_score  87   0.10728243377864058\n",
      "Percentage of people promoted according to avg_training_score  88   0.10472809011724438\n",
      "Percentage of people promoted according to avg_training_score  89   0.10728243377864058\n",
      "Percentage of people promoted according to avg_training_score  90   0.10089657462515006\n",
      "Percentage of people promoted according to avg_training_score  91   0.09706505913305577\n",
      "Percentage of people promoted according to avg_training_score  92   0.10345091828654626\n",
      "Percentage of people promoted according to avg_training_score  93   0.09578788730235765\n",
      "Percentage of people promoted according to avg_training_score  94   0.08046182533398043\n",
      "Percentage of people promoted according to avg_training_score  95   0.0574727323814146\n",
      "Percentage of people promoted according to avg_training_score  96   0.0600270760428108\n",
      "Percentage of people promoted according to avg_training_score  97   0.06258141970420701\n",
      "Percentage of people promoted according to avg_training_score  98   0.04725535773582978\n",
      "Percentage of people promoted according to avg_training_score  99   0.044701014074433575\n"
     ]
    }
   ],
   "source": [
    "for x in np.arange(39,100):\n",
    "    try:\n",
    "        print(\"Percentage of people promoted according to avg_training_score \",x,\" \",(len(df_concat.loc[(df_concat[\"avg_training_score\"]==x) & (df_concat[\"is_promoted\"]==1.0),\"is_promoted\" ]))/(len(df_concat))*100)\n",
    "    \n",
    "    except:\n",
    "        continue"
   ]
  },
  {
   "cell_type": "markdown",
   "id": "1e381a54",
   "metadata": {},
   "source": [
    "Things to do in future eng. -\n",
    "1- binning regions according to the percentage of promotions\n",
    "2- mapping no-of training (10-1,9-2,8-3,...)\n",
    "3 - mapping length_of_service\n",
    "4 - filling null value of previous year work with help of department,lengthofservice (and age)\n",
    "5 - filling null values of education with help of age\n",
    "6 - binning department \n",
    "7- mapping recruitment channel giving priority to reffered"
   ]
  },
  {
   "cell_type": "markdown",
   "id": "315d6d0a",
   "metadata": {},
   "source": [
    "# Dealing with missing values"
   ]
  },
  {
   "cell_type": "code",
   "execution_count": 56,
   "id": "426e1cd5",
   "metadata": {},
   "outputs": [
    {
     "data": {
      "text/html": [
       "<div>\n",
       "<style scoped>\n",
       "    .dataframe tbody tr th:only-of-type {\n",
       "        vertical-align: middle;\n",
       "    }\n",
       "\n",
       "    .dataframe tbody tr th {\n",
       "        vertical-align: top;\n",
       "    }\n",
       "\n",
       "    .dataframe thead th {\n",
       "        text-align: right;\n",
       "    }\n",
       "</style>\n",
       "<table border=\"1\" class=\"dataframe\">\n",
       "  <thead>\n",
       "    <tr style=\"text-align: right;\">\n",
       "      <th></th>\n",
       "      <th>employee_id</th>\n",
       "      <th>department</th>\n",
       "      <th>region</th>\n",
       "      <th>education</th>\n",
       "      <th>gender</th>\n",
       "      <th>recruitment_channel</th>\n",
       "      <th>no_of_trainings</th>\n",
       "      <th>age</th>\n",
       "      <th>previous_year_rating</th>\n",
       "      <th>length_of_service</th>\n",
       "      <th>KPIs_met &gt;80%</th>\n",
       "      <th>awards_won?</th>\n",
       "      <th>avg_training_score</th>\n",
       "      <th>is_promoted</th>\n",
       "    </tr>\n",
       "  </thead>\n",
       "  <tbody>\n",
       "    <tr>\n",
       "      <th>0</th>\n",
       "      <td>65438</td>\n",
       "      <td>Sales &amp; Marketing</td>\n",
       "      <td>region_7</td>\n",
       "      <td>Master's &amp; above</td>\n",
       "      <td>f</td>\n",
       "      <td>sourcing</td>\n",
       "      <td>1</td>\n",
       "      <td>35</td>\n",
       "      <td>5.0</td>\n",
       "      <td>8</td>\n",
       "      <td>1</td>\n",
       "      <td>0</td>\n",
       "      <td>49</td>\n",
       "      <td>0.0</td>\n",
       "    </tr>\n",
       "    <tr>\n",
       "      <th>1</th>\n",
       "      <td>65141</td>\n",
       "      <td>Operations</td>\n",
       "      <td>region_22</td>\n",
       "      <td>Bachelor's</td>\n",
       "      <td>m</td>\n",
       "      <td>other</td>\n",
       "      <td>1</td>\n",
       "      <td>30</td>\n",
       "      <td>5.0</td>\n",
       "      <td>4</td>\n",
       "      <td>0</td>\n",
       "      <td>0</td>\n",
       "      <td>60</td>\n",
       "      <td>0.0</td>\n",
       "    </tr>\n",
       "    <tr>\n",
       "      <th>2</th>\n",
       "      <td>7513</td>\n",
       "      <td>Sales &amp; Marketing</td>\n",
       "      <td>region_19</td>\n",
       "      <td>Bachelor's</td>\n",
       "      <td>m</td>\n",
       "      <td>sourcing</td>\n",
       "      <td>1</td>\n",
       "      <td>34</td>\n",
       "      <td>3.0</td>\n",
       "      <td>7</td>\n",
       "      <td>0</td>\n",
       "      <td>0</td>\n",
       "      <td>50</td>\n",
       "      <td>0.0</td>\n",
       "    </tr>\n",
       "    <tr>\n",
       "      <th>3</th>\n",
       "      <td>2542</td>\n",
       "      <td>Sales &amp; Marketing</td>\n",
       "      <td>region_23</td>\n",
       "      <td>Bachelor's</td>\n",
       "      <td>m</td>\n",
       "      <td>other</td>\n",
       "      <td>2</td>\n",
       "      <td>39</td>\n",
       "      <td>1.0</td>\n",
       "      <td>10</td>\n",
       "      <td>0</td>\n",
       "      <td>0</td>\n",
       "      <td>50</td>\n",
       "      <td>0.0</td>\n",
       "    </tr>\n",
       "    <tr>\n",
       "      <th>4</th>\n",
       "      <td>48945</td>\n",
       "      <td>Technology</td>\n",
       "      <td>region_26</td>\n",
       "      <td>Bachelor's</td>\n",
       "      <td>m</td>\n",
       "      <td>other</td>\n",
       "      <td>1</td>\n",
       "      <td>45</td>\n",
       "      <td>3.0</td>\n",
       "      <td>2</td>\n",
       "      <td>0</td>\n",
       "      <td>0</td>\n",
       "      <td>73</td>\n",
       "      <td>0.0</td>\n",
       "    </tr>\n",
       "  </tbody>\n",
       "</table>\n",
       "</div>"
      ],
      "text/plain": [
       "   employee_id         department     region         education gender  \\\n",
       "0        65438  Sales & Marketing   region_7  Master's & above      f   \n",
       "1        65141         Operations  region_22        Bachelor's      m   \n",
       "2         7513  Sales & Marketing  region_19        Bachelor's      m   \n",
       "3         2542  Sales & Marketing  region_23        Bachelor's      m   \n",
       "4        48945         Technology  region_26        Bachelor's      m   \n",
       "\n",
       "  recruitment_channel  no_of_trainings  age  previous_year_rating  \\\n",
       "0            sourcing                1   35                   5.0   \n",
       "1               other                1   30                   5.0   \n",
       "2            sourcing                1   34                   3.0   \n",
       "3               other                2   39                   1.0   \n",
       "4               other                1   45                   3.0   \n",
       "\n",
       "   length_of_service  KPIs_met >80%  awards_won?  avg_training_score  \\\n",
       "0                  8              1            0                  49   \n",
       "1                  4              0            0                  60   \n",
       "2                  7              0            0                  50   \n",
       "3                 10              0            0                  50   \n",
       "4                  2              0            0                  73   \n",
       "\n",
       "   is_promoted  \n",
       "0          0.0  \n",
       "1          0.0  \n",
       "2          0.0  \n",
       "3          0.0  \n",
       "4          0.0  "
      ]
     },
     "execution_count": 56,
     "metadata": {},
     "output_type": "execute_result"
    }
   ],
   "source": [
    "df_concat.head()"
   ]
  },
  {
   "cell_type": "markdown",
   "id": "2ce453c4",
   "metadata": {},
   "source": [
    "Dealing null values of education with help of gender and age"
   ]
  },
  {
   "cell_type": "code",
   "execution_count": 57,
   "id": "2d45510e",
   "metadata": {},
   "outputs": [],
   "source": [
    "ed_age=df_concat.groupby([\"gender\",\"age\",\"education\"]).size().reset_index()"
   ]
  },
  {
   "cell_type": "code",
   "execution_count": 58,
   "id": "7074ec02",
   "metadata": {},
   "outputs": [],
   "source": [
    "f = ed_age.loc[ed_age.gender==\"f\"]"
   ]
  },
  {
   "cell_type": "code",
   "execution_count": 59,
   "id": "13376f6b",
   "metadata": {},
   "outputs": [],
   "source": [
    "m=ed_age.loc[ed_age.gender==\"m\"]"
   ]
  },
  {
   "cell_type": "code",
   "execution_count": 60,
   "id": "d3cb69fd",
   "metadata": {},
   "outputs": [
    {
     "data": {
      "text/html": [
       "<div>\n",
       "<style scoped>\n",
       "    .dataframe tbody tr th:only-of-type {\n",
       "        vertical-align: middle;\n",
       "    }\n",
       "\n",
       "    .dataframe tbody tr th {\n",
       "        vertical-align: top;\n",
       "    }\n",
       "\n",
       "    .dataframe thead th {\n",
       "        text-align: right;\n",
       "    }\n",
       "</style>\n",
       "<table border=\"1\" class=\"dataframe\">\n",
       "  <thead>\n",
       "    <tr style=\"text-align: right;\">\n",
       "      <th></th>\n",
       "      <th>gender</th>\n",
       "      <th>age</th>\n",
       "      <th>education</th>\n",
       "      <th>0</th>\n",
       "    </tr>\n",
       "  </thead>\n",
       "  <tbody>\n",
       "    <tr>\n",
       "      <th>1</th>\n",
       "      <td>f</td>\n",
       "      <td>20</td>\n",
       "      <td>Below Secondary</td>\n",
       "      <td>20</td>\n",
       "    </tr>\n",
       "    <tr>\n",
       "      <th>2</th>\n",
       "      <td>f</td>\n",
       "      <td>20</td>\n",
       "      <td>Master's &amp; above</td>\n",
       "      <td>6</td>\n",
       "    </tr>\n",
       "    <tr>\n",
       "      <th>3</th>\n",
       "      <td>f</td>\n",
       "      <td>21</td>\n",
       "      <td>Below Secondary</td>\n",
       "      <td>30</td>\n",
       "    </tr>\n",
       "    <tr>\n",
       "      <th>4</th>\n",
       "      <td>f</td>\n",
       "      <td>22</td>\n",
       "      <td>Bachelor's</td>\n",
       "      <td>24</td>\n",
       "    </tr>\n",
       "    <tr>\n",
       "      <th>5</th>\n",
       "      <td>f</td>\n",
       "      <td>22</td>\n",
       "      <td>Below Secondary</td>\n",
       "      <td>51</td>\n",
       "    </tr>\n",
       "    <tr>\n",
       "      <th>6</th>\n",
       "      <td>f</td>\n",
       "      <td>23</td>\n",
       "      <td>Bachelor's</td>\n",
       "      <td>60</td>\n",
       "    </tr>\n",
       "    <tr>\n",
       "      <th>7</th>\n",
       "      <td>f</td>\n",
       "      <td>23</td>\n",
       "      <td>Below Secondary</td>\n",
       "      <td>78</td>\n",
       "    </tr>\n",
       "    <tr>\n",
       "      <th>8</th>\n",
       "      <td>f</td>\n",
       "      <td>24</td>\n",
       "      <td>Bachelor's</td>\n",
       "      <td>201</td>\n",
       "    </tr>\n",
       "    <tr>\n",
       "      <th>9</th>\n",
       "      <td>f</td>\n",
       "      <td>24</td>\n",
       "      <td>Below Secondary</td>\n",
       "      <td>113</td>\n",
       "    </tr>\n",
       "    <tr>\n",
       "      <th>10</th>\n",
       "      <td>f</td>\n",
       "      <td>25</td>\n",
       "      <td>Bachelor's</td>\n",
       "      <td>415</td>\n",
       "    </tr>\n",
       "    <tr>\n",
       "      <th>11</th>\n",
       "      <td>f</td>\n",
       "      <td>25</td>\n",
       "      <td>Below Secondary</td>\n",
       "      <td>71</td>\n",
       "    </tr>\n",
       "    <tr>\n",
       "      <th>12</th>\n",
       "      <td>f</td>\n",
       "      <td>26</td>\n",
       "      <td>Bachelor's</td>\n",
       "      <td>742</td>\n",
       "    </tr>\n",
       "    <tr>\n",
       "      <th>13</th>\n",
       "      <td>f</td>\n",
       "      <td>26</td>\n",
       "      <td>Below Secondary</td>\n",
       "      <td>45</td>\n",
       "    </tr>\n",
       "    <tr>\n",
       "      <th>14</th>\n",
       "      <td>f</td>\n",
       "      <td>26</td>\n",
       "      <td>Master's &amp; above</td>\n",
       "      <td>2</td>\n",
       "    </tr>\n",
       "  </tbody>\n",
       "</table>\n",
       "</div>"
      ],
      "text/plain": [
       "   gender  age         education    0\n",
       "1       f   20   Below Secondary   20\n",
       "2       f   20  Master's & above    6\n",
       "3       f   21   Below Secondary   30\n",
       "4       f   22        Bachelor's   24\n",
       "5       f   22   Below Secondary   51\n",
       "6       f   23        Bachelor's   60\n",
       "7       f   23   Below Secondary   78\n",
       "8       f   24        Bachelor's  201\n",
       "9       f   24   Below Secondary  113\n",
       "10      f   25        Bachelor's  415\n",
       "11      f   25   Below Secondary   71\n",
       "12      f   26        Bachelor's  742\n",
       "13      f   26   Below Secondary   45\n",
       "14      f   26  Master's & above    2"
      ]
     },
     "execution_count": 60,
     "metadata": {},
     "output_type": "execute_result"
    }
   ],
   "source": [
    "f.iloc[1:15]\n",
    "# till 23 age female are more below secondary "
   ]
  },
  {
   "cell_type": "code",
   "execution_count": 61,
   "id": "45e95bec",
   "metadata": {},
   "outputs": [
    {
     "data": {
      "text/html": [
       "<div>\n",
       "<style scoped>\n",
       "    .dataframe tbody tr th:only-of-type {\n",
       "        vertical-align: middle;\n",
       "    }\n",
       "\n",
       "    .dataframe tbody tr th {\n",
       "        vertical-align: top;\n",
       "    }\n",
       "\n",
       "    .dataframe thead th {\n",
       "        text-align: right;\n",
       "    }\n",
       "</style>\n",
       "<table border=\"1\" class=\"dataframe\">\n",
       "  <thead>\n",
       "    <tr style=\"text-align: right;\">\n",
       "      <th></th>\n",
       "      <th>gender</th>\n",
       "      <th>age</th>\n",
       "      <th>education</th>\n",
       "      <th>0</th>\n",
       "    </tr>\n",
       "  </thead>\n",
       "  <tbody>\n",
       "    <tr>\n",
       "      <th>8</th>\n",
       "      <td>f</td>\n",
       "      <td>24</td>\n",
       "      <td>Bachelor's</td>\n",
       "      <td>201</td>\n",
       "    </tr>\n",
       "    <tr>\n",
       "      <th>9</th>\n",
       "      <td>f</td>\n",
       "      <td>24</td>\n",
       "      <td>Below Secondary</td>\n",
       "      <td>113</td>\n",
       "    </tr>\n",
       "    <tr>\n",
       "      <th>10</th>\n",
       "      <td>f</td>\n",
       "      <td>25</td>\n",
       "      <td>Bachelor's</td>\n",
       "      <td>415</td>\n",
       "    </tr>\n",
       "    <tr>\n",
       "      <th>11</th>\n",
       "      <td>f</td>\n",
       "      <td>25</td>\n",
       "      <td>Below Secondary</td>\n",
       "      <td>71</td>\n",
       "    </tr>\n",
       "    <tr>\n",
       "      <th>12</th>\n",
       "      <td>f</td>\n",
       "      <td>26</td>\n",
       "      <td>Bachelor's</td>\n",
       "      <td>742</td>\n",
       "    </tr>\n",
       "    <tr>\n",
       "      <th>13</th>\n",
       "      <td>f</td>\n",
       "      <td>26</td>\n",
       "      <td>Below Secondary</td>\n",
       "      <td>45</td>\n",
       "    </tr>\n",
       "    <tr>\n",
       "      <th>14</th>\n",
       "      <td>f</td>\n",
       "      <td>26</td>\n",
       "      <td>Master's &amp; above</td>\n",
       "      <td>2</td>\n",
       "    </tr>\n",
       "    <tr>\n",
       "      <th>15</th>\n",
       "      <td>f</td>\n",
       "      <td>27</td>\n",
       "      <td>Bachelor's</td>\n",
       "      <td>1078</td>\n",
       "    </tr>\n",
       "    <tr>\n",
       "      <th>16</th>\n",
       "      <td>f</td>\n",
       "      <td>27</td>\n",
       "      <td>Below Secondary</td>\n",
       "      <td>7</td>\n",
       "    </tr>\n",
       "    <tr>\n",
       "      <th>17</th>\n",
       "      <td>f</td>\n",
       "      <td>27</td>\n",
       "      <td>Master's &amp; above</td>\n",
       "      <td>2</td>\n",
       "    </tr>\n",
       "    <tr>\n",
       "      <th>18</th>\n",
       "      <td>f</td>\n",
       "      <td>28</td>\n",
       "      <td>Bachelor's</td>\n",
       "      <td>1269</td>\n",
       "    </tr>\n",
       "    <tr>\n",
       "      <th>19</th>\n",
       "      <td>f</td>\n",
       "      <td>28</td>\n",
       "      <td>Master's &amp; above</td>\n",
       "      <td>7</td>\n",
       "    </tr>\n",
       "    <tr>\n",
       "      <th>20</th>\n",
       "      <td>f</td>\n",
       "      <td>29</td>\n",
       "      <td>Bachelor's</td>\n",
       "      <td>1374</td>\n",
       "    </tr>\n",
       "    <tr>\n",
       "      <th>21</th>\n",
       "      <td>f</td>\n",
       "      <td>29</td>\n",
       "      <td>Master's &amp; above</td>\n",
       "      <td>18</td>\n",
       "    </tr>\n",
       "    <tr>\n",
       "      <th>22</th>\n",
       "      <td>f</td>\n",
       "      <td>30</td>\n",
       "      <td>Bachelor's</td>\n",
       "      <td>1381</td>\n",
       "    </tr>\n",
       "    <tr>\n",
       "      <th>23</th>\n",
       "      <td>f</td>\n",
       "      <td>30</td>\n",
       "      <td>Master's &amp; above</td>\n",
       "      <td>116</td>\n",
       "    </tr>\n",
       "    <tr>\n",
       "      <th>24</th>\n",
       "      <td>f</td>\n",
       "      <td>31</td>\n",
       "      <td>Bachelor's</td>\n",
       "      <td>1228</td>\n",
       "    </tr>\n",
       "    <tr>\n",
       "      <th>25</th>\n",
       "      <td>f</td>\n",
       "      <td>31</td>\n",
       "      <td>Master's &amp; above</td>\n",
       "      <td>277</td>\n",
       "    </tr>\n",
       "    <tr>\n",
       "      <th>26</th>\n",
       "      <td>f</td>\n",
       "      <td>32</td>\n",
       "      <td>Bachelor's</td>\n",
       "      <td>1120</td>\n",
       "    </tr>\n",
       "    <tr>\n",
       "      <th>27</th>\n",
       "      <td>f</td>\n",
       "      <td>32</td>\n",
       "      <td>Master's &amp; above</td>\n",
       "      <td>468</td>\n",
       "    </tr>\n",
       "    <tr>\n",
       "      <th>28</th>\n",
       "      <td>f</td>\n",
       "      <td>33</td>\n",
       "      <td>Bachelor's</td>\n",
       "      <td>901</td>\n",
       "    </tr>\n",
       "    <tr>\n",
       "      <th>29</th>\n",
       "      <td>f</td>\n",
       "      <td>33</td>\n",
       "      <td>Master's &amp; above</td>\n",
       "      <td>538</td>\n",
       "    </tr>\n",
       "    <tr>\n",
       "      <th>30</th>\n",
       "      <td>f</td>\n",
       "      <td>34</td>\n",
       "      <td>Bachelor's</td>\n",
       "      <td>753</td>\n",
       "    </tr>\n",
       "    <tr>\n",
       "      <th>31</th>\n",
       "      <td>f</td>\n",
       "      <td>34</td>\n",
       "      <td>Master's &amp; above</td>\n",
       "      <td>559</td>\n",
       "    </tr>\n",
       "    <tr>\n",
       "      <th>32</th>\n",
       "      <td>f</td>\n",
       "      <td>35</td>\n",
       "      <td>Bachelor's</td>\n",
       "      <td>643</td>\n",
       "    </tr>\n",
       "    <tr>\n",
       "      <th>33</th>\n",
       "      <td>f</td>\n",
       "      <td>35</td>\n",
       "      <td>Master's &amp; above</td>\n",
       "      <td>563</td>\n",
       "    </tr>\n",
       "    <tr>\n",
       "      <th>34</th>\n",
       "      <td>f</td>\n",
       "      <td>36</td>\n",
       "      <td>Bachelor's</td>\n",
       "      <td>543</td>\n",
       "    </tr>\n",
       "    <tr>\n",
       "      <th>35</th>\n",
       "      <td>f</td>\n",
       "      <td>36</td>\n",
       "      <td>Master's &amp; above</td>\n",
       "      <td>485</td>\n",
       "    </tr>\n",
       "    <tr>\n",
       "      <th>36</th>\n",
       "      <td>f</td>\n",
       "      <td>37</td>\n",
       "      <td>Bachelor's</td>\n",
       "      <td>458</td>\n",
       "    </tr>\n",
       "    <tr>\n",
       "      <th>37</th>\n",
       "      <td>f</td>\n",
       "      <td>37</td>\n",
       "      <td>Master's &amp; above</td>\n",
       "      <td>439</td>\n",
       "    </tr>\n",
       "  </tbody>\n",
       "</table>\n",
       "</div>"
      ],
      "text/plain": [
       "   gender  age         education     0\n",
       "8       f   24        Bachelor's   201\n",
       "9       f   24   Below Secondary   113\n",
       "10      f   25        Bachelor's   415\n",
       "11      f   25   Below Secondary    71\n",
       "12      f   26        Bachelor's   742\n",
       "13      f   26   Below Secondary    45\n",
       "14      f   26  Master's & above     2\n",
       "15      f   27        Bachelor's  1078\n",
       "16      f   27   Below Secondary     7\n",
       "17      f   27  Master's & above     2\n",
       "18      f   28        Bachelor's  1269\n",
       "19      f   28  Master's & above     7\n",
       "20      f   29        Bachelor's  1374\n",
       "21      f   29  Master's & above    18\n",
       "22      f   30        Bachelor's  1381\n",
       "23      f   30  Master's & above   116\n",
       "24      f   31        Bachelor's  1228\n",
       "25      f   31  Master's & above   277\n",
       "26      f   32        Bachelor's  1120\n",
       "27      f   32  Master's & above   468\n",
       "28      f   33        Bachelor's   901\n",
       "29      f   33  Master's & above   538\n",
       "30      f   34        Bachelor's   753\n",
       "31      f   34  Master's & above   559\n",
       "32      f   35        Bachelor's   643\n",
       "33      f   35  Master's & above   563\n",
       "34      f   36        Bachelor's   543\n",
       "35      f   36  Master's & above   485\n",
       "36      f   37        Bachelor's   458\n",
       "37      f   37  Master's & above   439"
      ]
     },
     "execution_count": 61,
     "metadata": {},
     "output_type": "execute_result"
    }
   ],
   "source": [
    "f.iloc[8:38]\n",
    "# 24-37 age female are more bachelors"
   ]
  },
  {
   "cell_type": "code",
   "execution_count": 62,
   "id": "5c17795e",
   "metadata": {},
   "outputs": [
    {
     "data": {
      "text/html": [
       "<div>\n",
       "<style scoped>\n",
       "    .dataframe tbody tr th:only-of-type {\n",
       "        vertical-align: middle;\n",
       "    }\n",
       "\n",
       "    .dataframe tbody tr th {\n",
       "        vertical-align: top;\n",
       "    }\n",
       "\n",
       "    .dataframe thead th {\n",
       "        text-align: right;\n",
       "    }\n",
       "</style>\n",
       "<table border=\"1\" class=\"dataframe\">\n",
       "  <thead>\n",
       "    <tr style=\"text-align: right;\">\n",
       "      <th></th>\n",
       "      <th>gender</th>\n",
       "      <th>age</th>\n",
       "      <th>education</th>\n",
       "      <th>0</th>\n",
       "    </tr>\n",
       "  </thead>\n",
       "  <tbody>\n",
       "    <tr>\n",
       "      <th>38</th>\n",
       "      <td>f</td>\n",
       "      <td>38</td>\n",
       "      <td>Bachelor's</td>\n",
       "      <td>407</td>\n",
       "    </tr>\n",
       "    <tr>\n",
       "      <th>39</th>\n",
       "      <td>f</td>\n",
       "      <td>38</td>\n",
       "      <td>Master's &amp; above</td>\n",
       "      <td>412</td>\n",
       "    </tr>\n",
       "    <tr>\n",
       "      <th>40</th>\n",
       "      <td>f</td>\n",
       "      <td>39</td>\n",
       "      <td>Bachelor's</td>\n",
       "      <td>357</td>\n",
       "    </tr>\n",
       "    <tr>\n",
       "      <th>41</th>\n",
       "      <td>f</td>\n",
       "      <td>39</td>\n",
       "      <td>Master's &amp; above</td>\n",
       "      <td>363</td>\n",
       "    </tr>\n",
       "    <tr>\n",
       "      <th>42</th>\n",
       "      <td>f</td>\n",
       "      <td>40</td>\n",
       "      <td>Bachelor's</td>\n",
       "      <td>291</td>\n",
       "    </tr>\n",
       "    <tr>\n",
       "      <th>43</th>\n",
       "      <td>f</td>\n",
       "      <td>40</td>\n",
       "      <td>Master's &amp; above</td>\n",
       "      <td>317</td>\n",
       "    </tr>\n",
       "    <tr>\n",
       "      <th>44</th>\n",
       "      <td>f</td>\n",
       "      <td>41</td>\n",
       "      <td>Bachelor's</td>\n",
       "      <td>205</td>\n",
       "    </tr>\n",
       "    <tr>\n",
       "      <th>45</th>\n",
       "      <td>f</td>\n",
       "      <td>41</td>\n",
       "      <td>Master's &amp; above</td>\n",
       "      <td>297</td>\n",
       "    </tr>\n",
       "    <tr>\n",
       "      <th>46</th>\n",
       "      <td>f</td>\n",
       "      <td>42</td>\n",
       "      <td>Bachelor's</td>\n",
       "      <td>210</td>\n",
       "    </tr>\n",
       "    <tr>\n",
       "      <th>47</th>\n",
       "      <td>f</td>\n",
       "      <td>42</td>\n",
       "      <td>Master's &amp; above</td>\n",
       "      <td>236</td>\n",
       "    </tr>\n",
       "    <tr>\n",
       "      <th>48</th>\n",
       "      <td>f</td>\n",
       "      <td>43</td>\n",
       "      <td>Bachelor's</td>\n",
       "      <td>189</td>\n",
       "    </tr>\n",
       "    <tr>\n",
       "      <th>49</th>\n",
       "      <td>f</td>\n",
       "      <td>43</td>\n",
       "      <td>Master's &amp; above</td>\n",
       "      <td>207</td>\n",
       "    </tr>\n",
       "    <tr>\n",
       "      <th>50</th>\n",
       "      <td>f</td>\n",
       "      <td>44</td>\n",
       "      <td>Bachelor's</td>\n",
       "      <td>152</td>\n",
       "    </tr>\n",
       "    <tr>\n",
       "      <th>51</th>\n",
       "      <td>f</td>\n",
       "      <td>44</td>\n",
       "      <td>Master's &amp; above</td>\n",
       "      <td>167</td>\n",
       "    </tr>\n",
       "    <tr>\n",
       "      <th>52</th>\n",
       "      <td>f</td>\n",
       "      <td>45</td>\n",
       "      <td>Bachelor's</td>\n",
       "      <td>133</td>\n",
       "    </tr>\n",
       "    <tr>\n",
       "      <th>53</th>\n",
       "      <td>f</td>\n",
       "      <td>45</td>\n",
       "      <td>Master's &amp; above</td>\n",
       "      <td>132</td>\n",
       "    </tr>\n",
       "    <tr>\n",
       "      <th>54</th>\n",
       "      <td>f</td>\n",
       "      <td>46</td>\n",
       "      <td>Bachelor's</td>\n",
       "      <td>121</td>\n",
       "    </tr>\n",
       "    <tr>\n",
       "      <th>55</th>\n",
       "      <td>f</td>\n",
       "      <td>46</td>\n",
       "      <td>Master's &amp; above</td>\n",
       "      <td>131</td>\n",
       "    </tr>\n",
       "    <tr>\n",
       "      <th>56</th>\n",
       "      <td>f</td>\n",
       "      <td>47</td>\n",
       "      <td>Bachelor's</td>\n",
       "      <td>104</td>\n",
       "    </tr>\n",
       "    <tr>\n",
       "      <th>57</th>\n",
       "      <td>f</td>\n",
       "      <td>47</td>\n",
       "      <td>Master's &amp; above</td>\n",
       "      <td>113</td>\n",
       "    </tr>\n",
       "    <tr>\n",
       "      <th>58</th>\n",
       "      <td>f</td>\n",
       "      <td>48</td>\n",
       "      <td>Bachelor's</td>\n",
       "      <td>103</td>\n",
       "    </tr>\n",
       "    <tr>\n",
       "      <th>59</th>\n",
       "      <td>f</td>\n",
       "      <td>48</td>\n",
       "      <td>Master's &amp; above</td>\n",
       "      <td>99</td>\n",
       "    </tr>\n",
       "    <tr>\n",
       "      <th>60</th>\n",
       "      <td>f</td>\n",
       "      <td>49</td>\n",
       "      <td>Bachelor's</td>\n",
       "      <td>85</td>\n",
       "    </tr>\n",
       "    <tr>\n",
       "      <th>61</th>\n",
       "      <td>f</td>\n",
       "      <td>49</td>\n",
       "      <td>Master's &amp; above</td>\n",
       "      <td>91</td>\n",
       "    </tr>\n",
       "    <tr>\n",
       "      <th>62</th>\n",
       "      <td>f</td>\n",
       "      <td>50</td>\n",
       "      <td>Bachelor's</td>\n",
       "      <td>103</td>\n",
       "    </tr>\n",
       "    <tr>\n",
       "      <th>63</th>\n",
       "      <td>f</td>\n",
       "      <td>50</td>\n",
       "      <td>Master's &amp; above</td>\n",
       "      <td>117</td>\n",
       "    </tr>\n",
       "    <tr>\n",
       "      <th>64</th>\n",
       "      <td>f</td>\n",
       "      <td>51</td>\n",
       "      <td>Bachelor's</td>\n",
       "      <td>75</td>\n",
       "    </tr>\n",
       "    <tr>\n",
       "      <th>65</th>\n",
       "      <td>f</td>\n",
       "      <td>51</td>\n",
       "      <td>Master's &amp; above</td>\n",
       "      <td>97</td>\n",
       "    </tr>\n",
       "    <tr>\n",
       "      <th>66</th>\n",
       "      <td>f</td>\n",
       "      <td>52</td>\n",
       "      <td>Bachelor's</td>\n",
       "      <td>89</td>\n",
       "    </tr>\n",
       "    <tr>\n",
       "      <th>67</th>\n",
       "      <td>f</td>\n",
       "      <td>52</td>\n",
       "      <td>Master's &amp; above</td>\n",
       "      <td>81</td>\n",
       "    </tr>\n",
       "    <tr>\n",
       "      <th>68</th>\n",
       "      <td>f</td>\n",
       "      <td>53</td>\n",
       "      <td>Bachelor's</td>\n",
       "      <td>95</td>\n",
       "    </tr>\n",
       "    <tr>\n",
       "      <th>69</th>\n",
       "      <td>f</td>\n",
       "      <td>53</td>\n",
       "      <td>Master's &amp; above</td>\n",
       "      <td>66</td>\n",
       "    </tr>\n",
       "    <tr>\n",
       "      <th>70</th>\n",
       "      <td>f</td>\n",
       "      <td>54</td>\n",
       "      <td>Bachelor's</td>\n",
       "      <td>63</td>\n",
       "    </tr>\n",
       "    <tr>\n",
       "      <th>71</th>\n",
       "      <td>f</td>\n",
       "      <td>54</td>\n",
       "      <td>Master's &amp; above</td>\n",
       "      <td>63</td>\n",
       "    </tr>\n",
       "    <tr>\n",
       "      <th>72</th>\n",
       "      <td>f</td>\n",
       "      <td>55</td>\n",
       "      <td>Bachelor's</td>\n",
       "      <td>82</td>\n",
       "    </tr>\n",
       "    <tr>\n",
       "      <th>73</th>\n",
       "      <td>f</td>\n",
       "      <td>55</td>\n",
       "      <td>Master's &amp; above</td>\n",
       "      <td>76</td>\n",
       "    </tr>\n",
       "    <tr>\n",
       "      <th>74</th>\n",
       "      <td>f</td>\n",
       "      <td>56</td>\n",
       "      <td>Bachelor's</td>\n",
       "      <td>63</td>\n",
       "    </tr>\n",
       "    <tr>\n",
       "      <th>75</th>\n",
       "      <td>f</td>\n",
       "      <td>56</td>\n",
       "      <td>Master's &amp; above</td>\n",
       "      <td>75</td>\n",
       "    </tr>\n",
       "    <tr>\n",
       "      <th>76</th>\n",
       "      <td>f</td>\n",
       "      <td>57</td>\n",
       "      <td>Bachelor's</td>\n",
       "      <td>61</td>\n",
       "    </tr>\n",
       "    <tr>\n",
       "      <th>77</th>\n",
       "      <td>f</td>\n",
       "      <td>57</td>\n",
       "      <td>Master's &amp; above</td>\n",
       "      <td>54</td>\n",
       "    </tr>\n",
       "    <tr>\n",
       "      <th>78</th>\n",
       "      <td>f</td>\n",
       "      <td>58</td>\n",
       "      <td>Bachelor's</td>\n",
       "      <td>70</td>\n",
       "    </tr>\n",
       "    <tr>\n",
       "      <th>79</th>\n",
       "      <td>f</td>\n",
       "      <td>58</td>\n",
       "      <td>Master's &amp; above</td>\n",
       "      <td>46</td>\n",
       "    </tr>\n",
       "    <tr>\n",
       "      <th>80</th>\n",
       "      <td>f</td>\n",
       "      <td>59</td>\n",
       "      <td>Bachelor's</td>\n",
       "      <td>52</td>\n",
       "    </tr>\n",
       "    <tr>\n",
       "      <th>81</th>\n",
       "      <td>f</td>\n",
       "      <td>59</td>\n",
       "      <td>Master's &amp; above</td>\n",
       "      <td>73</td>\n",
       "    </tr>\n",
       "    <tr>\n",
       "      <th>82</th>\n",
       "      <td>f</td>\n",
       "      <td>60</td>\n",
       "      <td>Bachelor's</td>\n",
       "      <td>65</td>\n",
       "    </tr>\n",
       "    <tr>\n",
       "      <th>83</th>\n",
       "      <td>f</td>\n",
       "      <td>60</td>\n",
       "      <td>Master's &amp; above</td>\n",
       "      <td>58</td>\n",
       "    </tr>\n",
       "  </tbody>\n",
       "</table>\n",
       "</div>"
      ],
      "text/plain": [
       "   gender  age         education    0\n",
       "38      f   38        Bachelor's  407\n",
       "39      f   38  Master's & above  412\n",
       "40      f   39        Bachelor's  357\n",
       "41      f   39  Master's & above  363\n",
       "42      f   40        Bachelor's  291\n",
       "43      f   40  Master's & above  317\n",
       "44      f   41        Bachelor's  205\n",
       "45      f   41  Master's & above  297\n",
       "46      f   42        Bachelor's  210\n",
       "47      f   42  Master's & above  236\n",
       "48      f   43        Bachelor's  189\n",
       "49      f   43  Master's & above  207\n",
       "50      f   44        Bachelor's  152\n",
       "51      f   44  Master's & above  167\n",
       "52      f   45        Bachelor's  133\n",
       "53      f   45  Master's & above  132\n",
       "54      f   46        Bachelor's  121\n",
       "55      f   46  Master's & above  131\n",
       "56      f   47        Bachelor's  104\n",
       "57      f   47  Master's & above  113\n",
       "58      f   48        Bachelor's  103\n",
       "59      f   48  Master's & above   99\n",
       "60      f   49        Bachelor's   85\n",
       "61      f   49  Master's & above   91\n",
       "62      f   50        Bachelor's  103\n",
       "63      f   50  Master's & above  117\n",
       "64      f   51        Bachelor's   75\n",
       "65      f   51  Master's & above   97\n",
       "66      f   52        Bachelor's   89\n",
       "67      f   52  Master's & above   81\n",
       "68      f   53        Bachelor's   95\n",
       "69      f   53  Master's & above   66\n",
       "70      f   54        Bachelor's   63\n",
       "71      f   54  Master's & above   63\n",
       "72      f   55        Bachelor's   82\n",
       "73      f   55  Master's & above   76\n",
       "74      f   56        Bachelor's   63\n",
       "75      f   56  Master's & above   75\n",
       "76      f   57        Bachelor's   61\n",
       "77      f   57  Master's & above   54\n",
       "78      f   58        Bachelor's   70\n",
       "79      f   58  Master's & above   46\n",
       "80      f   59        Bachelor's   52\n",
       "81      f   59  Master's & above   73\n",
       "82      f   60        Bachelor's   65\n",
       "83      f   60  Master's & above   58"
      ]
     },
     "execution_count": 62,
     "metadata": {},
     "output_type": "execute_result"
    }
   ],
   "source": [
    "f.iloc[38:]\n",
    "#after 37 there are more masters "
   ]
  },
  {
   "cell_type": "code",
   "execution_count": 63,
   "id": "946980ad",
   "metadata": {},
   "outputs": [
    {
     "data": {
      "text/html": [
       "<div>\n",
       "<style scoped>\n",
       "    .dataframe tbody tr th:only-of-type {\n",
       "        vertical-align: middle;\n",
       "    }\n",
       "\n",
       "    .dataframe tbody tr th {\n",
       "        vertical-align: top;\n",
       "    }\n",
       "\n",
       "    .dataframe thead th {\n",
       "        text-align: right;\n",
       "    }\n",
       "</style>\n",
       "<table border=\"1\" class=\"dataframe\">\n",
       "  <thead>\n",
       "    <tr style=\"text-align: right;\">\n",
       "      <th></th>\n",
       "      <th>gender</th>\n",
       "      <th>age</th>\n",
       "      <th>education</th>\n",
       "      <th>0</th>\n",
       "    </tr>\n",
       "  </thead>\n",
       "  <tbody>\n",
       "    <tr>\n",
       "      <th>84</th>\n",
       "      <td>m</td>\n",
       "      <td>20</td>\n",
       "      <td>Bachelor's</td>\n",
       "      <td>66</td>\n",
       "    </tr>\n",
       "    <tr>\n",
       "      <th>85</th>\n",
       "      <td>m</td>\n",
       "      <td>20</td>\n",
       "      <td>Below Secondary</td>\n",
       "      <td>28</td>\n",
       "    </tr>\n",
       "    <tr>\n",
       "      <th>86</th>\n",
       "      <td>m</td>\n",
       "      <td>20</td>\n",
       "      <td>Master's &amp; above</td>\n",
       "      <td>8</td>\n",
       "    </tr>\n",
       "    <tr>\n",
       "      <th>87</th>\n",
       "      <td>m</td>\n",
       "      <td>21</td>\n",
       "      <td>Bachelor's</td>\n",
       "      <td>6</td>\n",
       "    </tr>\n",
       "    <tr>\n",
       "      <th>88</th>\n",
       "      <td>m</td>\n",
       "      <td>21</td>\n",
       "      <td>Below Secondary</td>\n",
       "      <td>40</td>\n",
       "    </tr>\n",
       "    <tr>\n",
       "      <th>...</th>\n",
       "      <td>...</td>\n",
       "      <td>...</td>\n",
       "      <td>...</td>\n",
       "      <td>...</td>\n",
       "    </tr>\n",
       "    <tr>\n",
       "      <th>168</th>\n",
       "      <td>m</td>\n",
       "      <td>58</td>\n",
       "      <td>Master's &amp; above</td>\n",
       "      <td>114</td>\n",
       "    </tr>\n",
       "    <tr>\n",
       "      <th>169</th>\n",
       "      <td>m</td>\n",
       "      <td>59</td>\n",
       "      <td>Bachelor's</td>\n",
       "      <td>73</td>\n",
       "    </tr>\n",
       "    <tr>\n",
       "      <th>170</th>\n",
       "      <td>m</td>\n",
       "      <td>59</td>\n",
       "      <td>Master's &amp; above</td>\n",
       "      <td>86</td>\n",
       "    </tr>\n",
       "    <tr>\n",
       "      <th>171</th>\n",
       "      <td>m</td>\n",
       "      <td>60</td>\n",
       "      <td>Bachelor's</td>\n",
       "      <td>85</td>\n",
       "    </tr>\n",
       "    <tr>\n",
       "      <th>172</th>\n",
       "      <td>m</td>\n",
       "      <td>60</td>\n",
       "      <td>Master's &amp; above</td>\n",
       "      <td>90</td>\n",
       "    </tr>\n",
       "  </tbody>\n",
       "</table>\n",
       "<p>89 rows × 4 columns</p>\n",
       "</div>"
      ],
      "text/plain": [
       "    gender  age         education    0\n",
       "84       m   20        Bachelor's   66\n",
       "85       m   20   Below Secondary   28\n",
       "86       m   20  Master's & above    8\n",
       "87       m   21        Bachelor's    6\n",
       "88       m   21   Below Secondary   40\n",
       "..     ...  ...               ...  ...\n",
       "168      m   58  Master's & above  114\n",
       "169      m   59        Bachelor's   73\n",
       "170      m   59  Master's & above   86\n",
       "171      m   60        Bachelor's   85\n",
       "172      m   60  Master's & above   90\n",
       "\n",
       "[89 rows x 4 columns]"
      ]
     },
     "execution_count": 63,
     "metadata": {},
     "output_type": "execute_result"
    }
   ],
   "source": [
    "m.iloc[0:]\n",
    "# till 41 bachelors are more \n",
    "# after 42 going with master"
   ]
  },
  {
   "cell_type": "code",
   "execution_count": 64,
   "id": "fabb48b7",
   "metadata": {},
   "outputs": [
    {
     "data": {
      "text/plain": [
       "'df_concat[\"education\"].fillna(\"Bachelor\\'s\",inplace=True)'"
      ]
     },
     "execution_count": 64,
     "metadata": {},
     "output_type": "execute_result"
    }
   ],
   "source": [
    "\"\"\"df_concat[\"education\"].fillna(\"Bachelor's\",inplace=True)\"\"\""
   ]
  },
  {
   "cell_type": "code",
   "execution_count": 65,
   "id": "638c6df2",
   "metadata": {},
   "outputs": [],
   "source": [
    "df_concat.loc[(df_concat.gender==\"f\") & (df_concat.age.isin([20,21,22,23])) & (df_concat.education.isnull()),\"education\"] = \"Below Secondary\"\n",
    "df_concat.loc[(df_concat.gender==\"f\") & (df_concat.age.isin(np.arange(24,38)))  & (df_concat.education.isnull()),\"education\"] = \"Bachelor's\"\n",
    "df_concat.loc[(df_concat.gender==\"f\") & (df_concat.age.isin(np.arange(38,61))) & (df_concat.education.isnull()),\"education\"] = \"Master's & above\"\n",
    "df_concat.loc[(df_concat.gender==\"m\") & (df_concat.age.isin(np.arange(20,42))) & (df_concat.education.isnull()),\"education\"] = \"Bachelor's\"\n",
    "df_concat.loc[(df_concat.gender==\"m\") & (df_concat.age.isin(np.arange(42,61))) & (df_concat.education.isnull()),\"education\"] = \"Master's & above\"\n"
   ]
  },
  {
   "cell_type": "markdown",
   "id": "53952699",
   "metadata": {},
   "source": [
    "Dealing null values of previous_year rating "
   ]
  },
  {
   "cell_type": "code",
   "execution_count": 66,
   "id": "ab62c81a",
   "metadata": {},
   "outputs": [
    {
     "data": {
      "text/plain": [
       "5936"
      ]
     },
     "execution_count": 66,
     "metadata": {},
     "output_type": "execute_result"
    }
   ],
   "source": [
    "len(df_concat[df_concat[\"previous_year_rating\"].isnull()])"
   ]
  },
  {
   "cell_type": "code",
   "execution_count": 67,
   "id": "cca54996",
   "metadata": {},
   "outputs": [
    {
     "data": {
      "text/plain": [
       "10       1\n",
       "23       1\n",
       "29       1\n",
       "56       1\n",
       "58       1\n",
       "        ..\n",
       "23406    1\n",
       "23436    1\n",
       "23445    1\n",
       "23479    1\n",
       "23488    1\n",
       "Name: length_of_service, Length: 5936, dtype: int64"
      ]
     },
     "execution_count": 67,
     "metadata": {},
     "output_type": "execute_result"
    }
   ],
   "source": [
    "df_concat[df_concat[\"previous_year_rating\"].isnull()][\"length_of_service\"]"
   ]
  },
  {
   "cell_type": "code",
   "execution_count": 68,
   "id": "5ea1eb9a",
   "metadata": {},
   "outputs": [],
   "source": [
    "pyr=df_concat[(df_concat[\"previous_year_rating\"].notnull()) & (df_concat[\"length_of_service\"]==37)]"
   ]
  },
  {
   "cell_type": "code",
   "execution_count": 69,
   "id": "a34729c7",
   "metadata": {},
   "outputs": [],
   "source": [
    "# conatins null values where length of service ==37"
   ]
  },
  {
   "cell_type": "code",
   "execution_count": 70,
   "id": "6a5071f3",
   "metadata": {},
   "outputs": [
    {
     "data": {
      "text/plain": [
       "gender  department       \n",
       "m       Sales & Marketing    5.0\n",
       "Name: previous_year_rating, dtype: float64"
      ]
     },
     "execution_count": 70,
     "metadata": {},
     "output_type": "execute_result"
    }
   ],
   "source": [
    "pyr.groupby([\"gender\",\"department\"])[\"previous_year_rating\"].median()"
   ]
  },
  {
   "cell_type": "code",
   "execution_count": 71,
   "id": "90a802dd",
   "metadata": {},
   "outputs": [],
   "source": [
    "df_concat.loc[(df_concat[\"gender\"]==\"f\") & (df_concat[\"department\"]==\"Analytics\") & (df_concat[\"previous_year_rating\"].isnull()),\"previous_year_rating\"]=3.0\n",
    "df_concat.loc[(df_concat[\"gender\"]==\"f\") & (df_concat[\"department\"]==\"Finance\") & (df_concat[\"previous_year_rating\"].isnull()),\"previous_year_rating\"]=3.0\n",
    "df_concat.loc[(df_concat[\"gender\"]==\"f\") & (df_concat[\"department\"]==\"HR\") & (df_concat[\"previous_year_rating\"].isnull()),\"previous_year_rating\"]=4.0\n",
    "df_concat.loc[(df_concat[\"gender\"]==\"f\") & (df_concat[\"department\"]==\"Legal\") & (df_concat[\"previous_year_rating\"].isnull()),\"previous_year_rating\"]=5.0\n",
    "df_concat.loc[(df_concat[\"gender\"]==\"f\") & (df_concat[\"department\"]==\"Operations\") & (df_concat[\"previous_year_rating\"].isnull()),\"previous_year_rating\"]=3.0\n",
    "df_concat.loc[(df_concat[\"gender\"]==\"f\") & (df_concat[\"department\"]==\"Procurement\") & (df_concat[\"previous_year_rating\"].isnull()),\"previous_year_rating\"]=3.0\n",
    "df_concat.loc[(df_concat[\"gender\"]==\"f\") & (df_concat[\"department\"]==\"R&D\") & (df_concat[\"previous_year_rating\"].isnull()),\"previous_year_rating\"]=3.0\n",
    "df_concat.loc[(df_concat[\"gender\"]==\"f\") & (df_concat[\"department\"]==\"Sales & Marketing\") & (df_concat[\"previous_year_rating\"].isnull()),\"previous_year_rating\"]=3.0\n",
    "df_concat.loc[(df_concat[\"gender\"]==\"f\") & (df_concat[\"department\"]==\"Technology\") & (df_concat[\"previous_year_rating\"].isnull()),\"previous_year_rating\"]=3.0"
   ]
  },
  {
   "cell_type": "code",
   "execution_count": 72,
   "id": "4f724f6c",
   "metadata": {},
   "outputs": [],
   "source": [
    "df_concat.loc[(df_concat[\"gender\"]==\"m\") & (df_concat[\"department\"]==\"Analytics\") & (df_concat[\"previous_year_rating\"].isnull()),\"previous_year_rating\"]=3.0\n",
    "df_concat.loc[(df_concat[\"gender\"]==\"m\") & (df_concat[\"department\"]==\"Finance\") & (df_concat[\"previous_year_rating\"].isnull()),\"previous_year_rating\"]=3.0\n",
    "df_concat.loc[(df_concat[\"gender\"]==\"m\") & (df_concat[\"department\"]==\"HR\") & (df_concat[\"previous_year_rating\"].isnull()),\"previous_year_rating\"]=4.0\n",
    "df_concat.loc[(df_concat[\"gender\"]==\"m\") & (df_concat[\"department\"]==\"Legal\") & (df_concat[\"previous_year_rating\"].isnull()),\"previous_year_rating\"]=4.0\n",
    "df_concat.loc[(df_concat[\"gender\"]==\"m\") & (df_concat[\"department\"]==\"Operations\") & (df_concat[\"previous_year_rating\"].isnull()),\"previous_year_rating\"]=4.0\n",
    "df_concat.loc[(df_concat[\"gender\"]==\"m\") & (df_concat[\"department\"]==\"Procurement\") & (df_concat[\"previous_year_rating\"].isnull()),\"previous_year_rating\"]=3.0\n",
    "df_concat.loc[(df_concat[\"gender\"]==\"m\") & (df_concat[\"department\"]==\"R&D\") & (df_concat[\"previous_year_rating\"].isnull()),\"previous_year_rating\"]=4.0\n",
    "df_concat.loc[(df_concat[\"gender\"]==\"m\") & (df_concat[\"department\"]==\"Sales & Marketing\") & (df_concat[\"previous_year_rating\"].isnull()),\"previous_year_rating\"]=3.0\n",
    "df_concat.loc[(df_concat[\"gender\"]==\"m\") & (df_concat[\"department\"]==\"Technology\") & (df_concat[\"previous_year_rating\"].isnull()),\"previous_year_rating\"]=3.0"
   ]
  },
  {
   "cell_type": "code",
   "execution_count": 73,
   "id": "f604f436",
   "metadata": {},
   "outputs": [
    {
     "data": {
      "text/plain": [
       "'df_concat.fillna(0,inplace=True)'"
      ]
     },
     "execution_count": 73,
     "metadata": {},
     "output_type": "execute_result"
    }
   ],
   "source": [
    "\"\"\"df_concat.fillna(0,inplace=True)\"\"\""
   ]
  },
  {
   "cell_type": "code",
   "execution_count": 74,
   "id": "18443119",
   "metadata": {},
   "outputs": [
    {
     "data": {
      "text/plain": [
       "'def experience(r):\\n    if r>0:\\n        return \"experienced\"\\n    else:\\n        return \"fresher\"\\n        '"
      ]
     },
     "execution_count": 74,
     "metadata": {},
     "output_type": "execute_result"
    }
   ],
   "source": [
    "# making a new column experience based on precious year rating\n",
    "\"\"\"def experience(r):\n",
    "    if r>0:\n",
    "        return \"experienced\"\n",
    "    else:\n",
    "        return \"fresher\"\n",
    "        \"\"\""
   ]
  },
  {
   "cell_type": "markdown",
   "id": "62a45dce",
   "metadata": {},
   "source": [
    "Making a new column according to region"
   ]
  },
  {
   "cell_type": "code",
   "execution_count": 75,
   "id": "f127e8d7",
   "metadata": {},
   "outputs": [
    {
     "data": {
      "text/plain": [
       "'df_concat[\"experience\"] = df_concat[\"previous_year_rating\"].apply(experience)'"
      ]
     },
     "execution_count": 75,
     "metadata": {},
     "output_type": "execute_result"
    }
   ],
   "source": [
    "\"\"\"df_concat[\"experience\"] = df_concat[\"previous_year_rating\"].apply(experience)\"\"\""
   ]
  },
  {
   "cell_type": "markdown",
   "id": "e092f895",
   "metadata": {},
   "source": [
    "Binning regions into three category according to the insieght we get in eda "
   ]
  },
  {
   "cell_type": "code",
   "execution_count": 76,
   "id": "60dd208f",
   "metadata": {},
   "outputs": [],
   "source": [
    "region = pd.DataFrame({\"region\":np.arange(1,35),\"% of promotion\":np.arange(1,35)})"
   ]
  },
  {
   "cell_type": "code",
   "execution_count": 77,
   "id": "b095103a",
   "metadata": {},
   "outputs": [],
   "source": [
    "i=0\n",
    "for x in df_concat[\"region\"].unique():\n",
    "    region.iloc[i,0]=x\n",
    "    region.iloc[i,1]=len(df_concat.loc[(df_concat.region==x) & (df_concat[\"is_promoted\"]==1.0),\"is_promoted\" ])/len(df_concat)*100\n",
    "    i+=1"
   ]
  },
  {
   "cell_type": "code",
   "execution_count": 78,
   "id": "447723b7",
   "metadata": {},
   "outputs": [],
   "source": [
    "region.sort_values(by=\"% of promotion\",ascending=False,inplace=True)"
   ]
  },
  {
   "cell_type": "code",
   "execution_count": 79,
   "id": "c0c8e4ef",
   "metadata": {
    "scrolled": false
   },
   "outputs": [
    {
     "data": {
      "text/html": [
       "<div>\n",
       "<style scoped>\n",
       "    .dataframe tbody tr th:only-of-type {\n",
       "        vertical-align: middle;\n",
       "    }\n",
       "\n",
       "    .dataframe tbody tr th {\n",
       "        vertical-align: top;\n",
       "    }\n",
       "\n",
       "    .dataframe thead th {\n",
       "        text-align: right;\n",
       "    }\n",
       "</style>\n",
       "<table border=\"1\" class=\"dataframe\">\n",
       "  <thead>\n",
       "    <tr style=\"text-align: right;\">\n",
       "      <th></th>\n",
       "      <th>region</th>\n",
       "      <th>% of promotion</th>\n",
       "    </tr>\n",
       "  </thead>\n",
       "  <tbody>\n",
       "    <tr>\n",
       "      <th>5</th>\n",
       "      <td>region_2</td>\n",
       "      <td>1.263123</td>\n",
       "    </tr>\n",
       "    <tr>\n",
       "      <th>1</th>\n",
       "      <td>region_22</td>\n",
       "      <td>0.937444</td>\n",
       "    </tr>\n",
       "    <tr>\n",
       "      <th>0</th>\n",
       "      <td>region_7</td>\n",
       "      <td>0.659021</td>\n",
       "    </tr>\n",
       "    <tr>\n",
       "      <th>9</th>\n",
       "      <td>region_4</td>\n",
       "      <td>0.314184</td>\n",
       "    </tr>\n",
       "    <tr>\n",
       "      <th>18</th>\n",
       "      <td>region_13</td>\n",
       "      <td>0.293750</td>\n",
       "    </tr>\n",
       "    <tr>\n",
       "      <th>12</th>\n",
       "      <td>region_15</td>\n",
       "      <td>0.283532</td>\n",
       "    </tr>\n",
       "    <tr>\n",
       "      <th>16</th>\n",
       "      <td>region_28</td>\n",
       "      <td>0.196684</td>\n",
       "    </tr>\n",
       "    <tr>\n",
       "      <th>4</th>\n",
       "      <td>region_26</td>\n",
       "      <td>0.182636</td>\n",
       "    </tr>\n",
       "    <tr>\n",
       "      <th>3</th>\n",
       "      <td>region_23</td>\n",
       "      <td>0.174973</td>\n",
       "    </tr>\n",
       "    <tr>\n",
       "      <th>22</th>\n",
       "      <td>region_27</td>\n",
       "      <td>0.167310</td>\n",
       "    </tr>\n",
       "    <tr>\n",
       "      <th>11</th>\n",
       "      <td>region_31</td>\n",
       "      <td>0.140489</td>\n",
       "    </tr>\n",
       "    <tr>\n",
       "      <th>17</th>\n",
       "      <td>region_17</td>\n",
       "      <td>0.139212</td>\n",
       "    </tr>\n",
       "    <tr>\n",
       "      <th>20</th>\n",
       "      <td>region_25</td>\n",
       "      <td>0.131549</td>\n",
       "    </tr>\n",
       "    <tr>\n",
       "      <th>19</th>\n",
       "      <td>region_16</td>\n",
       "      <td>0.130272</td>\n",
       "    </tr>\n",
       "    <tr>\n",
       "      <th>14</th>\n",
       "      <td>region_11</td>\n",
       "      <td>0.094511</td>\n",
       "    </tr>\n",
       "    <tr>\n",
       "      <th>13</th>\n",
       "      <td>region_14</td>\n",
       "      <td>0.079185</td>\n",
       "    </tr>\n",
       "    <tr>\n",
       "      <th>23</th>\n",
       "      <td>region_30</td>\n",
       "      <td>0.075353</td>\n",
       "    </tr>\n",
       "    <tr>\n",
       "      <th>8</th>\n",
       "      <td>region_1</td>\n",
       "      <td>0.074076</td>\n",
       "    </tr>\n",
       "    <tr>\n",
       "      <th>2</th>\n",
       "      <td>region_19</td>\n",
       "      <td>0.067690</td>\n",
       "    </tr>\n",
       "    <tr>\n",
       "      <th>26</th>\n",
       "      <td>region_8</td>\n",
       "      <td>0.067690</td>\n",
       "    </tr>\n",
       "    <tr>\n",
       "      <th>21</th>\n",
       "      <td>region_10</td>\n",
       "      <td>0.065136</td>\n",
       "    </tr>\n",
       "    <tr>\n",
       "      <th>6</th>\n",
       "      <td>region_20</td>\n",
       "      <td>0.062581</td>\n",
       "    </tr>\n",
       "    <tr>\n",
       "      <th>10</th>\n",
       "      <td>region_29</td>\n",
       "      <td>0.054918</td>\n",
       "    </tr>\n",
       "    <tr>\n",
       "      <th>27</th>\n",
       "      <td>region_32</td>\n",
       "      <td>0.051087</td>\n",
       "    </tr>\n",
       "    <tr>\n",
       "      <th>31</th>\n",
       "      <td>region_3</td>\n",
       "      <td>0.047255</td>\n",
       "    </tr>\n",
       "    <tr>\n",
       "      <th>15</th>\n",
       "      <td>region_5</td>\n",
       "      <td>0.044701</td>\n",
       "    </tr>\n",
       "    <tr>\n",
       "      <th>24</th>\n",
       "      <td>region_12</td>\n",
       "      <td>0.042147</td>\n",
       "    </tr>\n",
       "    <tr>\n",
       "      <th>28</th>\n",
       "      <td>region_6</td>\n",
       "      <td>0.040869</td>\n",
       "    </tr>\n",
       "    <tr>\n",
       "      <th>25</th>\n",
       "      <td>region_21</td>\n",
       "      <td>0.022989</td>\n",
       "    </tr>\n",
       "    <tr>\n",
       "      <th>30</th>\n",
       "      <td>region_24</td>\n",
       "      <td>0.022989</td>\n",
       "    </tr>\n",
       "    <tr>\n",
       "      <th>29</th>\n",
       "      <td>region_33</td>\n",
       "      <td>0.012772</td>\n",
       "    </tr>\n",
       "    <tr>\n",
       "      <th>7</th>\n",
       "      <td>region_34</td>\n",
       "      <td>0.010217</td>\n",
       "    </tr>\n",
       "    <tr>\n",
       "      <th>32</th>\n",
       "      <td>region_9</td>\n",
       "      <td>0.010217</td>\n",
       "    </tr>\n",
       "    <tr>\n",
       "      <th>33</th>\n",
       "      <td>region_18</td>\n",
       "      <td>0.001277</td>\n",
       "    </tr>\n",
       "  </tbody>\n",
       "</table>\n",
       "</div>"
      ],
      "text/plain": [
       "       region  % of promotion\n",
       "5    region_2        1.263123\n",
       "1   region_22        0.937444\n",
       "0    region_7        0.659021\n",
       "9    region_4        0.314184\n",
       "18  region_13        0.293750\n",
       "12  region_15        0.283532\n",
       "16  region_28        0.196684\n",
       "4   region_26        0.182636\n",
       "3   region_23        0.174973\n",
       "22  region_27        0.167310\n",
       "11  region_31        0.140489\n",
       "17  region_17        0.139212\n",
       "20  region_25        0.131549\n",
       "19  region_16        0.130272\n",
       "14  region_11        0.094511\n",
       "13  region_14        0.079185\n",
       "23  region_30        0.075353\n",
       "8    region_1        0.074076\n",
       "2   region_19        0.067690\n",
       "26   region_8        0.067690\n",
       "21  region_10        0.065136\n",
       "6   region_20        0.062581\n",
       "10  region_29        0.054918\n",
       "27  region_32        0.051087\n",
       "31   region_3        0.047255\n",
       "15   region_5        0.044701\n",
       "24  region_12        0.042147\n",
       "28   region_6        0.040869\n",
       "25  region_21        0.022989\n",
       "30  region_24        0.022989\n",
       "29  region_33        0.012772\n",
       "7   region_34        0.010217\n",
       "32   region_9        0.010217\n",
       "33  region_18        0.001277"
      ]
     },
     "execution_count": 79,
     "metadata": {},
     "output_type": "execute_result"
    }
   ],
   "source": [
    "region"
   ]
  },
  {
   "cell_type": "code",
   "execution_count": 80,
   "id": "ed51c1ef",
   "metadata": {},
   "outputs": [],
   "source": [
    "df_concat[\"region\"]=df_concat[\"region\"].map({'region_2':3,\n",
    " 'region_22':3,\n",
    " 'region_7':3,\n",
    " 'region_4':3,\n",
    " 'region_13':3,\n",
    " 'region_15':3,\n",
    " 'region_28':3,\n",
    " 'region_26':3,\n",
    " 'region_23':3,\n",
    " 'region_27':3,\n",
    " 'region_31':3,\n",
    " 'region_17':3,\n",
    " 'region_25':3,\n",
    " 'region_16':3,\n",
    " 'region_11':2,\n",
    " 'region_14':2,\n",
    " 'region_30':2,\n",
    " 'region_1':2,\n",
    " 'region_19':2,\n",
    " 'region_8':2,\n",
    " 'region_10':2,\n",
    " 'region_20':2,\n",
    " 'region_29':2,\n",
    " 'region_32':2,\n",
    " 'region_3':2,\n",
    " 'region_5':2,\n",
    " 'region_12':2,\n",
    " 'region_6':2,\n",
    " 'region_21':1,\n",
    " 'region_24':1,\n",
    " 'region_33':1,\n",
    " 'region_34':1,\n",
    " 'region_9':1,\n",
    " 'region_18':1})\n",
    "#28-36\n",
    "#29-16"
   ]
  },
  {
   "cell_type": "markdown",
   "id": "3f2d25c0",
   "metadata": {},
   "source": [
    "mapping no_of_trainings for better result"
   ]
  },
  {
   "cell_type": "code",
   "execution_count": 81,
   "id": "4bd426e0",
   "metadata": {},
   "outputs": [],
   "source": [
    "df_concat[\"no_of_trainings\"]=df_concat[\"no_of_trainings\"].map({10:1,9:2,8:3,7:4,6:5,5:6,4:7,3:8,2:9,1:10})"
   ]
  },
  {
   "cell_type": "markdown",
   "id": "12bb3053",
   "metadata": {},
   "source": [
    "mapping length_of_service for better result"
   ]
  },
  {
   "cell_type": "code",
   "execution_count": 82,
   "id": "73e5f2f2",
   "metadata": {},
   "outputs": [
    {
     "data": {
      "text/plain": [
       "'d=dict()\\ni=1\\nj=37\\nfor k in range(37):\\n    d[i]=j\\n    i+=1\\n    j-=1'"
      ]
     },
     "execution_count": 82,
     "metadata": {},
     "output_type": "execute_result"
    }
   ],
   "source": [
    "\"\"\"d=dict()\n",
    "i=1\n",
    "j=37\n",
    "for k in range(37):\n",
    "    d[i]=j\n",
    "    i+=1\n",
    "    j-=1\"\"\"\n"
   ]
  },
  {
   "cell_type": "code",
   "execution_count": 83,
   "id": "e890714e",
   "metadata": {},
   "outputs": [
    {
     "data": {
      "text/plain": [
       "'df_concat[\"length_of_service\"]=df_concat[\"length_of_service\"].map(d)'"
      ]
     },
     "execution_count": 83,
     "metadata": {},
     "output_type": "execute_result"
    }
   ],
   "source": [
    "\"\"\"df_concat[\"length_of_service\"]=df_concat[\"length_of_service\"].map(d)\"\"\""
   ]
  },
  {
   "cell_type": "code",
   "execution_count": 84,
   "id": "48d33bda",
   "metadata": {},
   "outputs": [],
   "source": [
    "# making bins to length of service according to promotion column\n",
    "def service_length(l):\n",
    "    if l in np.arange(1,11):\n",
    "        return 4\n",
    "    elif l in np.arange(11,21):\n",
    "        return 3\n",
    "    elif l in np.arange(21,31):\n",
    "        return 2\n",
    "    else:\n",
    "        return 1\n",
    "df_concat[\"length_of_service\"]=df_concat[\"length_of_service\"].apply(service_length)"
   ]
  },
  {
   "cell_type": "code",
   "execution_count": 85,
   "id": "bc62cdb7",
   "metadata": {},
   "outputs": [],
   "source": [
    "df_concat[\"gender\"] = df_concat[\"gender\"].map({\"m\":0,\"f\":1})\n",
    "# as female have more chance of promotion"
   ]
  },
  {
   "cell_type": "code",
   "execution_count": 86,
   "id": "9c792412",
   "metadata": {},
   "outputs": [
    {
     "data": {
      "text/plain": [
       "'df_concat[\"recruitment_channel\"].unique()'"
      ]
     },
     "execution_count": 86,
     "metadata": {},
     "output_type": "execute_result"
    }
   ],
   "source": [
    "\"\"\"df_concat[\"recruitment_channel\"].unique()\"\"\""
   ]
  },
  {
   "cell_type": "code",
   "execution_count": 87,
   "id": "edec0342",
   "metadata": {},
   "outputs": [],
   "source": [
    "# bad effect on model"
   ]
  },
  {
   "cell_type": "code",
   "execution_count": 88,
   "id": "93716d2f",
   "metadata": {},
   "outputs": [
    {
     "data": {
      "text/plain": [
       "'df_concat[\"recruitment_channel\"] = df_concat[\"recruitment_channel\"].map({\\'sourcing\\':1, \\'other\\':1, \\'referred\\':2})'"
      ]
     },
     "execution_count": 88,
     "metadata": {},
     "output_type": "execute_result"
    }
   ],
   "source": [
    "\"\"\"df_concat[\"recruitment_channel\"] = df_concat[\"recruitment_channel\"].map({'sourcing':1, 'other':1, 'referred':2})\"\"\""
   ]
  },
  {
   "cell_type": "code",
   "execution_count": 89,
   "id": "da3485c1",
   "metadata": {
    "scrolled": true
   },
   "outputs": [
    {
     "data": {
      "text/plain": [
       "employee_id                 0\n",
       "department                  0\n",
       "region                      0\n",
       "education                   0\n",
       "gender                      0\n",
       "recruitment_channel         0\n",
       "no_of_trainings             0\n",
       "age                         0\n",
       "previous_year_rating        0\n",
       "length_of_service           0\n",
       "KPIs_met >80%               0\n",
       "awards_won?                 0\n",
       "avg_training_score          0\n",
       "is_promoted             23490\n",
       "dtype: int64"
      ]
     },
     "execution_count": 89,
     "metadata": {},
     "output_type": "execute_result"
    }
   ],
   "source": [
    "df_concat.isnull().sum()"
   ]
  },
  {
   "cell_type": "code",
   "execution_count": null,
   "id": "2909933a",
   "metadata": {},
   "outputs": [],
   "source": []
  },
  {
   "cell_type": "markdown",
   "id": "200988d6",
   "metadata": {},
   "source": [
    "# Data Preprocessing"
   ]
  },
  {
   "cell_type": "markdown",
   "id": "186c00c9",
   "metadata": {},
   "source": [
    "droping unwanted features\n"
   ]
  },
  {
   "cell_type": "code",
   "execution_count": 90,
   "id": "ed2048e2",
   "metadata": {},
   "outputs": [],
   "source": [
    "df_concat[\"education\"] = df_concat[\"education\"].map({\"Master's & above\":3,\"Bachelor's\":2,'Below Secondary':1})"
   ]
  },
  {
   "cell_type": "code",
   "execution_count": 91,
   "id": "32250696",
   "metadata": {},
   "outputs": [],
   "source": [
    "df_concat.drop([\"employee_id\"],axis=1,inplace=True)"
   ]
  },
  {
   "cell_type": "code",
   "execution_count": 92,
   "id": "d6f3648d",
   "metadata": {},
   "outputs": [],
   "source": [
    "df_train_cleaned = df_concat.iloc[0:54808]\n",
    "df_test_cleaned = df_concat.iloc[54808:].drop(\"is_promoted\",axis=1)"
   ]
  },
  {
   "cell_type": "code",
   "execution_count": 93,
   "id": "90a9f97e",
   "metadata": {},
   "outputs": [
    {
     "data": {
      "text/plain": [
       "<AxesSubplot:>"
      ]
     },
     "execution_count": 93,
     "metadata": {},
     "output_type": "execute_result"
    },
    {
     "data": {
      "image/png": "[encoded data removed]",
      "text/plain": [
       "<Figure size 640x480 with 2 Axes>"
      ]
     },
     "metadata": {},
     "output_type": "display_data"
    }
   ],
   "source": [
    "sns.heatmap(df_train_cleaned.corr(),annot=True,cmap=\"YlGnBu\")"
   ]
  },
  {
   "cell_type": "markdown",
   "id": "2cd75d22",
   "metadata": {},
   "source": [
    "data scaling"
   ]
  },
  {
   "cell_type": "code",
   "execution_count": 94,
   "id": "b59b0373",
   "metadata": {},
   "outputs": [
    {
     "data": {
      "text/html": [
       "<div>\n",
       "<style scoped>\n",
       "    .dataframe tbody tr th:only-of-type {\n",
       "        vertical-align: middle;\n",
       "    }\n",
       "\n",
       "    .dataframe tbody tr th {\n",
       "        vertical-align: top;\n",
       "    }\n",
       "\n",
       "    .dataframe thead th {\n",
       "        text-align: right;\n",
       "    }\n",
       "</style>\n",
       "<table border=\"1\" class=\"dataframe\">\n",
       "  <thead>\n",
       "    <tr style=\"text-align: right;\">\n",
       "      <th></th>\n",
       "      <th>department</th>\n",
       "      <th>region</th>\n",
       "      <th>education</th>\n",
       "      <th>gender</th>\n",
       "      <th>recruitment_channel</th>\n",
       "      <th>no_of_trainings</th>\n",
       "      <th>age</th>\n",
       "      <th>previous_year_rating</th>\n",
       "      <th>length_of_service</th>\n",
       "      <th>KPIs_met &gt;80%</th>\n",
       "      <th>awards_won?</th>\n",
       "      <th>avg_training_score</th>\n",
       "      <th>is_promoted</th>\n",
       "    </tr>\n",
       "  </thead>\n",
       "  <tbody>\n",
       "    <tr>\n",
       "      <th>0</th>\n",
       "      <td>Sales &amp; Marketing</td>\n",
       "      <td>3</td>\n",
       "      <td>3</td>\n",
       "      <td>1</td>\n",
       "      <td>sourcing</td>\n",
       "      <td>10</td>\n",
       "      <td>35</td>\n",
       "      <td>5.0</td>\n",
       "      <td>4</td>\n",
       "      <td>1</td>\n",
       "      <td>0</td>\n",
       "      <td>49</td>\n",
       "      <td>0.0</td>\n",
       "    </tr>\n",
       "    <tr>\n",
       "      <th>1</th>\n",
       "      <td>Operations</td>\n",
       "      <td>3</td>\n",
       "      <td>2</td>\n",
       "      <td>0</td>\n",
       "      <td>other</td>\n",
       "      <td>10</td>\n",
       "      <td>30</td>\n",
       "      <td>5.0</td>\n",
       "      <td>4</td>\n",
       "      <td>0</td>\n",
       "      <td>0</td>\n",
       "      <td>60</td>\n",
       "      <td>0.0</td>\n",
       "    </tr>\n",
       "    <tr>\n",
       "      <th>2</th>\n",
       "      <td>Sales &amp; Marketing</td>\n",
       "      <td>2</td>\n",
       "      <td>2</td>\n",
       "      <td>0</td>\n",
       "      <td>sourcing</td>\n",
       "      <td>10</td>\n",
       "      <td>34</td>\n",
       "      <td>3.0</td>\n",
       "      <td>4</td>\n",
       "      <td>0</td>\n",
       "      <td>0</td>\n",
       "      <td>50</td>\n",
       "      <td>0.0</td>\n",
       "    </tr>\n",
       "    <tr>\n",
       "      <th>3</th>\n",
       "      <td>Sales &amp; Marketing</td>\n",
       "      <td>3</td>\n",
       "      <td>2</td>\n",
       "      <td>0</td>\n",
       "      <td>other</td>\n",
       "      <td>9</td>\n",
       "      <td>39</td>\n",
       "      <td>1.0</td>\n",
       "      <td>4</td>\n",
       "      <td>0</td>\n",
       "      <td>0</td>\n",
       "      <td>50</td>\n",
       "      <td>0.0</td>\n",
       "    </tr>\n",
       "    <tr>\n",
       "      <th>4</th>\n",
       "      <td>Technology</td>\n",
       "      <td>3</td>\n",
       "      <td>2</td>\n",
       "      <td>0</td>\n",
       "      <td>other</td>\n",
       "      <td>10</td>\n",
       "      <td>45</td>\n",
       "      <td>3.0</td>\n",
       "      <td>4</td>\n",
       "      <td>0</td>\n",
       "      <td>0</td>\n",
       "      <td>73</td>\n",
       "      <td>0.0</td>\n",
       "    </tr>\n",
       "  </tbody>\n",
       "</table>\n",
       "</div>"
      ],
      "text/plain": [
       "          department  region  education  gender recruitment_channel  \\\n",
       "0  Sales & Marketing       3          3       1            sourcing   \n",
       "1         Operations       3          2       0               other   \n",
       "2  Sales & Marketing       2          2       0            sourcing   \n",
       "3  Sales & Marketing       3          2       0               other   \n",
       "4         Technology       3          2       0               other   \n",
       "\n",
       "   no_of_trainings  age  previous_year_rating  length_of_service  \\\n",
       "0               10   35                   5.0                  4   \n",
       "1               10   30                   5.0                  4   \n",
       "2               10   34                   3.0                  4   \n",
       "3                9   39                   1.0                  4   \n",
       "4               10   45                   3.0                  4   \n",
       "\n",
       "   KPIs_met >80%  awards_won?  avg_training_score  is_promoted  \n",
       "0              1            0                  49          0.0  \n",
       "1              0            0                  60          0.0  \n",
       "2              0            0                  50          0.0  \n",
       "3              0            0                  50          0.0  \n",
       "4              0            0                  73          0.0  "
      ]
     },
     "execution_count": 94,
     "metadata": {},
     "output_type": "execute_result"
    }
   ],
   "source": [
    "df_train_cleaned.head()"
   ]
  },
  {
   "cell_type": "code",
   "execution_count": 95,
   "id": "ef59698a",
   "metadata": {},
   "outputs": [
    {
     "data": {
      "text/plain": [
       "StandardScaler()"
      ]
     },
     "execution_count": 95,
     "metadata": {},
     "output_type": "execute_result"
    }
   ],
   "source": [
    "df_train_cleaned[[\"age\",\"avg_training_score\"]]\n",
    "from sklearn.preprocessing import StandardScaler\n",
    "scaler = StandardScaler()\n",
    "scaler.fit(df_train_cleaned[[\"age\",\"avg_training_score\"]])"
   ]
  },
  {
   "cell_type": "code",
   "execution_count": 96,
   "id": "8c90e873",
   "metadata": {},
   "outputs": [],
   "source": [
    "df_train_cleaned[[\"age\",\"avg_training_score\"]] = scaler.transform(df_train_cleaned[[\"age\",\"avg_training_score\"]])\n",
    "df_test_cleaned[[\"age\",\"avg_training_score\"]] =scaler.transform(df_test_cleaned[[\"age\",\"avg_training_score\"]] )"
   ]
  },
  {
   "cell_type": "markdown",
   "id": "5c323f55",
   "metadata": {},
   "source": [
    "changing dtype of target column to int"
   ]
  },
  {
   "cell_type": "code",
   "execution_count": 97,
   "id": "c730d3cf",
   "metadata": {},
   "outputs": [],
   "source": [
    "df_train_cleaned[\"previous_year_rating\"]=df_train_cleaned[\"previous_year_rating\"].astype(int)\n",
    "df_test_cleaned[\"previous_year_rating\"] = df_test_cleaned[\"previous_year_rating\"].astype(int)\n",
    "df_train_cleaned[\"is_promoted\"] = df_train_cleaned[\"is_promoted\"].astype(int)"
   ]
  },
  {
   "cell_type": "code",
   "execution_count": 98,
   "id": "92d4b2f9",
   "metadata": {},
   "outputs": [],
   "source": [
    "df_train_scaled = pd.get_dummies(df_train_cleaned,drop_first=True)\n",
    "df_test_scaled = pd.get_dummies(df_test_cleaned,drop_first=True)"
   ]
  },
  {
   "cell_type": "code",
   "execution_count": 99,
   "id": "98a86f2d",
   "metadata": {},
   "outputs": [
    {
     "data": {
      "text/html": [
       "<div>\n",
       "<style scoped>\n",
       "    .dataframe tbody tr th:only-of-type {\n",
       "        vertical-align: middle;\n",
       "    }\n",
       "\n",
       "    .dataframe tbody tr th {\n",
       "        vertical-align: top;\n",
       "    }\n",
       "\n",
       "    .dataframe thead th {\n",
       "        text-align: right;\n",
       "    }\n",
       "</style>\n",
       "<table border=\"1\" class=\"dataframe\">\n",
       "  <thead>\n",
       "    <tr style=\"text-align: right;\">\n",
       "      <th></th>\n",
       "      <th>region</th>\n",
       "      <th>education</th>\n",
       "      <th>gender</th>\n",
       "      <th>no_of_trainings</th>\n",
       "      <th>age</th>\n",
       "      <th>previous_year_rating</th>\n",
       "      <th>length_of_service</th>\n",
       "      <th>KPIs_met &gt;80%</th>\n",
       "      <th>awards_won?</th>\n",
       "      <th>avg_training_score</th>\n",
       "      <th>...</th>\n",
       "      <th>department_Finance</th>\n",
       "      <th>department_HR</th>\n",
       "      <th>department_Legal</th>\n",
       "      <th>department_Operations</th>\n",
       "      <th>department_Procurement</th>\n",
       "      <th>department_R&amp;D</th>\n",
       "      <th>department_Sales &amp; Marketing</th>\n",
       "      <th>department_Technology</th>\n",
       "      <th>recruitment_channel_referred</th>\n",
       "      <th>recruitment_channel_sourcing</th>\n",
       "    </tr>\n",
       "  </thead>\n",
       "  <tbody>\n",
       "    <tr>\n",
       "      <th>0</th>\n",
       "      <td>3</td>\n",
       "      <td>3</td>\n",
       "      <td>1</td>\n",
       "      <td>10</td>\n",
       "      <td>0.025598</td>\n",
       "      <td>5</td>\n",
       "      <td>4</td>\n",
       "      <td>1</td>\n",
       "      <td>0</td>\n",
       "      <td>-1.075931</td>\n",
       "      <td>...</td>\n",
       "      <td>0</td>\n",
       "      <td>0</td>\n",
       "      <td>0</td>\n",
       "      <td>0</td>\n",
       "      <td>0</td>\n",
       "      <td>0</td>\n",
       "      <td>1</td>\n",
       "      <td>0</td>\n",
       "      <td>0</td>\n",
       "      <td>1</td>\n",
       "    </tr>\n",
       "    <tr>\n",
       "      <th>1</th>\n",
       "      <td>3</td>\n",
       "      <td>2</td>\n",
       "      <td>0</td>\n",
       "      <td>10</td>\n",
       "      <td>-0.627135</td>\n",
       "      <td>5</td>\n",
       "      <td>4</td>\n",
       "      <td>0</td>\n",
       "      <td>0</td>\n",
       "      <td>-0.253282</td>\n",
       "      <td>...</td>\n",
       "      <td>0</td>\n",
       "      <td>0</td>\n",
       "      <td>0</td>\n",
       "      <td>1</td>\n",
       "      <td>0</td>\n",
       "      <td>0</td>\n",
       "      <td>0</td>\n",
       "      <td>0</td>\n",
       "      <td>0</td>\n",
       "      <td>0</td>\n",
       "    </tr>\n",
       "    <tr>\n",
       "      <th>2</th>\n",
       "      <td>2</td>\n",
       "      <td>2</td>\n",
       "      <td>0</td>\n",
       "      <td>10</td>\n",
       "      <td>-0.104948</td>\n",
       "      <td>3</td>\n",
       "      <td>4</td>\n",
       "      <td>0</td>\n",
       "      <td>0</td>\n",
       "      <td>-1.001145</td>\n",
       "      <td>...</td>\n",
       "      <td>0</td>\n",
       "      <td>0</td>\n",
       "      <td>0</td>\n",
       "      <td>0</td>\n",
       "      <td>0</td>\n",
       "      <td>0</td>\n",
       "      <td>1</td>\n",
       "      <td>0</td>\n",
       "      <td>0</td>\n",
       "      <td>1</td>\n",
       "    </tr>\n",
       "    <tr>\n",
       "      <th>3</th>\n",
       "      <td>3</td>\n",
       "      <td>2</td>\n",
       "      <td>0</td>\n",
       "      <td>9</td>\n",
       "      <td>0.547785</td>\n",
       "      <td>1</td>\n",
       "      <td>4</td>\n",
       "      <td>0</td>\n",
       "      <td>0</td>\n",
       "      <td>-1.001145</td>\n",
       "      <td>...</td>\n",
       "      <td>0</td>\n",
       "      <td>0</td>\n",
       "      <td>0</td>\n",
       "      <td>0</td>\n",
       "      <td>0</td>\n",
       "      <td>0</td>\n",
       "      <td>1</td>\n",
       "      <td>0</td>\n",
       "      <td>0</td>\n",
       "      <td>0</td>\n",
       "    </tr>\n",
       "    <tr>\n",
       "      <th>4</th>\n",
       "      <td>3</td>\n",
       "      <td>2</td>\n",
       "      <td>0</td>\n",
       "      <td>10</td>\n",
       "      <td>1.331064</td>\n",
       "      <td>3</td>\n",
       "      <td>4</td>\n",
       "      <td>0</td>\n",
       "      <td>0</td>\n",
       "      <td>0.718939</td>\n",
       "      <td>...</td>\n",
       "      <td>0</td>\n",
       "      <td>0</td>\n",
       "      <td>0</td>\n",
       "      <td>0</td>\n",
       "      <td>0</td>\n",
       "      <td>0</td>\n",
       "      <td>0</td>\n",
       "      <td>1</td>\n",
       "      <td>0</td>\n",
       "      <td>0</td>\n",
       "    </tr>\n",
       "  </tbody>\n",
       "</table>\n",
       "<p>5 rows × 21 columns</p>\n",
       "</div>"
      ],
      "text/plain": [
       "   region  education  gender  no_of_trainings       age  previous_year_rating  \\\n",
       "0       3          3       1               10  0.025598                     5   \n",
       "1       3          2       0               10 -0.627135                     5   \n",
       "2       2          2       0               10 -0.104948                     3   \n",
       "3       3          2       0                9  0.547785                     1   \n",
       "4       3          2       0               10  1.331064                     3   \n",
       "\n",
       "   length_of_service  KPIs_met >80%  awards_won?  avg_training_score  ...  \\\n",
       "0                  4              1            0           -1.075931  ...   \n",
       "1                  4              0            0           -0.253282  ...   \n",
       "2                  4              0            0           -1.001145  ...   \n",
       "3                  4              0            0           -1.001145  ...   \n",
       "4                  4              0            0            0.718939  ...   \n",
       "\n",
       "   department_Finance  department_HR  department_Legal  department_Operations  \\\n",
       "0                   0              0                 0                      0   \n",
       "1                   0              0                 0                      1   \n",
       "2                   0              0                 0                      0   \n",
       "3                   0              0                 0                      0   \n",
       "4                   0              0                 0                      0   \n",
       "\n",
       "   department_Procurement  department_R&D  department_Sales & Marketing  \\\n",
       "0                       0               0                             1   \n",
       "1                       0               0                             0   \n",
       "2                       0               0                             1   \n",
       "3                       0               0                             1   \n",
       "4                       0               0                             0   \n",
       "\n",
       "   department_Technology  recruitment_channel_referred  \\\n",
       "0                      0                             0   \n",
       "1                      0                             0   \n",
       "2                      0                             0   \n",
       "3                      0                             0   \n",
       "4                      1                             0   \n",
       "\n",
       "   recruitment_channel_sourcing  \n",
       "0                             1  \n",
       "1                             0  \n",
       "2                             1  \n",
       "3                             0  \n",
       "4                             0  \n",
       "\n",
       "[5 rows x 21 columns]"
      ]
     },
     "execution_count": 99,
     "metadata": {},
     "output_type": "execute_result"
    }
   ],
   "source": [
    "df_train_scaled.head()"
   ]
  },
  {
   "cell_type": "markdown",
   "id": "7c27e64e",
   "metadata": {},
   "source": [
    "# Model Building"
   ]
  },
  {
   "cell_type": "markdown",
   "id": "d9dd70e7",
   "metadata": {},
   "source": [
    "RandomForest"
   ]
  },
  {
   "cell_type": "code",
   "execution_count": 100,
   "id": "67175a1b",
   "metadata": {},
   "outputs": [
    {
     "data": {
      "text/plain": [
       "RandomForestClassifier()"
      ]
     },
     "execution_count": 100,
     "metadata": {},
     "output_type": "execute_result"
    }
   ],
   "source": [
    "from sklearn.ensemble import RandomForestClassifier\n",
    "rf = RandomForestClassifier()\n",
    "rf.fit(df_train_scaled.drop(\"is_promoted\",axis=1),df_train_scaled[\"is_promoted\"])"
   ]
  },
  {
   "cell_type": "code",
   "execution_count": 101,
   "id": "c5f8569c",
   "metadata": {},
   "outputs": [],
   "source": [
    "pred_y_rf = rf.predict(df_test_scaled)"
   ]
  },
  {
   "cell_type": "code",
   "execution_count": 102,
   "id": "797f403e",
   "metadata": {},
   "outputs": [],
   "source": [
    "pred = df_test[\"employee_id\"]\n",
    "pred = pd.concat([pred,pd.DataFrame(pred_y_rf)],axis=1)\n",
    "pred.columns = [\"employee_id\",\"is_promoted\"]\n",
    "pred.to_csv(\"rf.csv\",index=False)"
   ]
  },
  {
   "cell_type": "code",
   "execution_count": 103,
   "id": "88cd12e5",
   "metadata": {},
   "outputs": [],
   "source": [
    "# f1 square 0.43\n",
    "# f1 final score 0.44"
   ]
  },
  {
   "cell_type": "code",
   "execution_count": 104,
   "id": "db6cb771",
   "metadata": {},
   "outputs": [
    {
     "name": "stdout",
     "output_type": "stream",
     "text": [
      "Requirement already satisfied: sklearn in c:\\users\\agraw\\anaconda3\\lib\\site-packages (0.0.post1)\n"
     ]
    }
   ],
   "source": [
    "!pip install sklearn"
   ]
  },
  {
   "cell_type": "code",
   "execution_count": 105,
   "id": "bec641cd",
   "metadata": {},
   "outputs": [
    {
     "name": "stdout",
     "output_type": "stream",
     "text": [
      "Requirement already satisfied: pandas in c:\\users\\agraw\\anaconda3\\lib\\site-packages (1.4.4)\n",
      "Requirement already satisfied: numpy>=1.18.5 in c:\\users\\agraw\\anaconda3\\lib\\site-packages (from pandas) (1.21.5)\n",
      "Requirement already satisfied: python-dateutil>=2.8.1 in c:\\users\\agraw\\anaconda3\\lib\\site-packages (from pandas) (2.8.2)\n",
      "Requirement already satisfied: pytz>=2020.1 in c:\\users\\agraw\\anaconda3\\lib\\site-packages (from pandas) (2022.1)\n",
      "Requirement already satisfied: six>=1.5 in c:\\users\\agraw\\anaconda3\\lib\\site-packages (from python-dateutil>=2.8.1->pandas) (1.16.0)\n"
     ]
    }
   ],
   "source": [
    "!pip install pandas"
   ]
  },
  {
   "cell_type": "code",
   "execution_count": 106,
   "id": "888c9fea",
   "metadata": {},
   "outputs": [
    {
     "name": "stdout",
     "output_type": "stream",
     "text": [
      "Requirement already satisfied: numpy in c:\\users\\agraw\\anaconda3\\lib\\site-packages (1.21.5)\n"
     ]
    }
   ],
   "source": [
    "!pip install numpy"
   ]
  },
  {
   "cell_type": "code",
   "execution_count": 107,
   "id": "65e95d01",
   "metadata": {},
   "outputs": [
    {
     "name": "stdout",
     "output_type": "stream",
     "text": [
      "Requirement already satisfied: seaborn in c:\\users\\agraw\\anaconda3\\lib\\site-packages (0.11.2)\n",
      "Requirement already satisfied: scipy>=1.0 in c:\\users\\agraw\\anaconda3\\lib\\site-packages (from seaborn) (1.9.1)\n",
      "Requirement already satisfied: numpy>=1.15 in c:\\users\\agraw\\anaconda3\\lib\\site-packages (from seaborn) (1.21.5)\n",
      "Requirement already satisfied: matplotlib>=2.2 in c:\\users\\agraw\\anaconda3\\lib\\site-packages (from seaborn) (3.5.2)\n",
      "Requirement already satisfied: pandas>=0.23 in c:\\users\\agraw\\anaconda3\\lib\\site-packages (from seaborn) (1.4.4)\n",
      "Requirement already satisfied: packaging>=20.0 in c:\\users\\agraw\\anaconda3\\lib\\site-packages (from matplotlib>=2.2->seaborn) (21.3)\n",
      "Requirement already satisfied: python-dateutil>=2.7 in c:\\users\\agraw\\anaconda3\\lib\\site-packages (from matplotlib>=2.2->seaborn) (2.8.2)\n",
      "Requirement already satisfied: kiwisolver>=1.0.1 in c:\\users\\agraw\\anaconda3\\lib\\site-packages (from matplotlib>=2.2->seaborn) (1.4.2)\n",
      "Requirement already satisfied: fonttools>=4.22.0 in c:\\users\\agraw\\anaconda3\\lib\\site-packages (from matplotlib>=2.2->seaborn) (4.25.0)\n",
      "Requirement already satisfied: pyparsing>=2.2.1 in c:\\users\\agraw\\anaconda3\\lib\\site-packages (from matplotlib>=2.2->seaborn) (3.0.9)\n",
      "Requirement already satisfied: pillow>=6.2.0 in c:\\users\\agraw\\anaconda3\\lib\\site-packages (from matplotlib>=2.2->seaborn) (9.2.0)\n",
      "Requirement already satisfied: cycler>=0.10 in c:\\users\\agraw\\anaconda3\\lib\\site-packages (from matplotlib>=2.2->seaborn) (0.11.0)\n",
      "Requirement already satisfied: pytz>=2020.1 in c:\\users\\agraw\\anaconda3\\lib\\site-packages (from pandas>=0.23->seaborn) (2022.1)\n",
      "Requirement already satisfied: six>=1.5 in c:\\users\\agraw\\anaconda3\\lib\\site-packages (from python-dateutil>=2.7->matplotlib>=2.2->seaborn) (1.16.0)\n"
     ]
    }
   ],
   "source": [
    "!pip install seaborn"
   ]
  },
  {
   "cell_type": "code",
   "execution_count": 108,
   "id": "a3590100",
   "metadata": {},
   "outputs": [
    {
     "name": "stdout",
     "output_type": "stream",
     "text": [
      "Requirement already satisfied: matplotlib in c:\\users\\agraw\\anaconda3\\lib\\site-packages (3.5.2)\n",
      "Requirement already satisfied: numpy>=1.17 in c:\\users\\agraw\\anaconda3\\lib\\site-packages (from matplotlib) (1.21.5)\n",
      "Requirement already satisfied: packaging>=20.0 in c:\\users\\agraw\\anaconda3\\lib\\site-packages (from matplotlib) (21.3)\n",
      "Requirement already satisfied: python-dateutil>=2.7 in c:\\users\\agraw\\anaconda3\\lib\\site-packages (from matplotlib) (2.8.2)\n",
      "Requirement already satisfied: kiwisolver>=1.0.1 in c:\\users\\agraw\\anaconda3\\lib\\site-packages (from matplotlib) (1.4.2)\n",
      "Requirement already satisfied: cycler>=0.10 in c:\\users\\agraw\\anaconda3\\lib\\site-packages (from matplotlib) (0.11.0)\n",
      "Requirement already satisfied: fonttools>=4.22.0 in c:\\users\\agraw\\anaconda3\\lib\\site-packages (from matplotlib) (4.25.0)\n",
      "Requirement already satisfied: pillow>=6.2.0 in c:\\users\\agraw\\anaconda3\\lib\\site-packages (from matplotlib) (9.2.0)\n",
      "Requirement already satisfied: pyparsing>=2.2.1 in c:\\users\\agraw\\anaconda3\\lib\\site-packages (from matplotlib) (3.0.9)\n",
      "Requirement already satisfied: six>=1.5 in c:\\users\\agraw\\anaconda3\\lib\\site-packages (from python-dateutil>=2.7->matplotlib) (1.16.0)\n"
     ]
    }
   ],
   "source": [
    "!pip install matplotlib"
   ]
  },
  {
   "cell_type": "code",
   "execution_count": 109,
   "id": "eaab7715",
   "metadata": {},
   "outputs": [
    {
     "name": "stdout",
     "output_type": "stream",
     "text": [
      "Requirement already satisfied: random-forest-mc in c:\\users\\agraw\\anaconda3\\lib\\site-packages (1.0.2)\n",
      "Requirement already satisfied: pandas>=1.3 in c:\\users\\agraw\\anaconda3\\lib\\site-packages (from random-forest-mc) (1.4.4)\n",
      "Requirement already satisfied: tqdm>=4.60 in c:\\users\\agraw\\anaconda3\\lib\\site-packages (from random-forest-mc) (4.64.1)\n",
      "Requirement already satisfied: numpy>=1.20 in c:\\users\\agraw\\anaconda3\\lib\\site-packages (from random-forest-mc) (1.21.5)\n",
      "Requirement already satisfied: python-dateutil>=2.8.1 in c:\\users\\agraw\\anaconda3\\lib\\site-packages (from pandas>=1.3->random-forest-mc) (2.8.2)\n",
      "Requirement already satisfied: pytz>=2020.1 in c:\\users\\agraw\\anaconda3\\lib\\site-packages (from pandas>=1.3->random-forest-mc) (2022.1)\n",
      "Requirement already satisfied: colorama in c:\\users\\agraw\\anaconda3\\lib\\site-packages (from tqdm>=4.60->random-forest-mc) (0.4.5)\n",
      "Requirement already satisfied: six>=1.5 in c:\\users\\agraw\\anaconda3\\lib\\site-packages (from python-dateutil>=2.8.1->pandas>=1.3->random-forest-mc) (1.16.0)\n"
     ]
    }
   ],
   "source": [
    "!pip install random-forest-mc"
   ]
  },
  {
   "cell_type": "code",
   "execution_count": null,
   "id": "57d97032",
   "metadata": {},
   "outputs": [],
   "source": []
  }
 ],
 "metadata": {
  "kernelspec": {
   "display_name": "Python 3.11.0 64-bit",
   "language": "python",
   "name": "python3"
  },
  "language_info": {
   "codemirror_mode": {
    "name": "ipython",
    "version": 3
   },
   "file_extension": ".py",
   "mimetype": "text/x-python",
   "name": "python",
   "nbconvert_exporter": "python",
   "pygments_lexer": "ipython3",
   "version": "3.11.0"
  },
  "vscode": {
   "interpreter": {
    "hash": "c65da800e19bd8a3b7b3c1a9f315b3cbabdf60e1b92704534458b25ab66f0d33"
   }
  }
 },
 "nbformat": 4,
 "nbformat_minor": 5
}
