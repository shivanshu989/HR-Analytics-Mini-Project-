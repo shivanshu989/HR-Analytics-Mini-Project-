{
 "cells": [
  {
   "cell_type": "code",
   "execution_count": 1,
   "id": "8cafc60e",
   "metadata": {},
   "outputs": [
    {
     "data": {
      "text/html": [
       "<div>\n",
       "<style scoped>\n",
       "    .dataframe tbody tr th:only-of-type {\n",
       "        vertical-align: middle;\n",
       "    }\n",
       "\n",
       "    .dataframe tbody tr th {\n",
       "        vertical-align: top;\n",
       "    }\n",
       "\n",
       "    .dataframe thead th {\n",
       "        text-align: right;\n",
       "    }\n",
       "</style>\n",
       "<table border=\"1\" class=\"dataframe\">\n",
       "  <thead>\n",
       "    <tr style=\"text-align: right;\">\n",
       "      <th></th>\n",
       "      <th>employee_id</th>\n",
       "      <th>department</th>\n",
       "      <th>region</th>\n",
       "      <th>education</th>\n",
       "      <th>gender</th>\n",
       "      <th>recruitment_channel</th>\n",
       "      <th>no_of_trainings</th>\n",
       "      <th>age</th>\n",
       "      <th>previous_year_rating</th>\n",
       "      <th>length_of_service</th>\n",
       "      <th>KPIs_met &gt;80%</th>\n",
       "      <th>awards_won?</th>\n",
       "      <th>avg_training_score</th>\n",
       "      <th>is_promoted</th>\n",
       "    </tr>\n",
       "  </thead>\n",
       "  <tbody>\n",
       "    <tr>\n",
       "      <th>0</th>\n",
       "      <td>65438</td>\n",
       "      <td>Sales &amp; Marketing</td>\n",
       "      <td>region_7</td>\n",
       "      <td>Master's &amp; above</td>\n",
       "      <td>f</td>\n",
       "      <td>sourcing</td>\n",
       "      <td>1</td>\n",
       "      <td>35</td>\n",
       "      <td>5.0</td>\n",
       "      <td>8</td>\n",
       "      <td>1</td>\n",
       "      <td>0</td>\n",
       "      <td>49</td>\n",
       "      <td>0</td>\n",
       "    </tr>\n",
       "    <tr>\n",
       "      <th>1</th>\n",
       "      <td>65141</td>\n",
       "      <td>Operations</td>\n",
       "      <td>region_22</td>\n",
       "      <td>Bachelor's</td>\n",
       "      <td>m</td>\n",
       "      <td>other</td>\n",
       "      <td>1</td>\n",
       "      <td>30</td>\n",
       "      <td>5.0</td>\n",
       "      <td>4</td>\n",
       "      <td>0</td>\n",
       "      <td>0</td>\n",
       "      <td>60</td>\n",
       "      <td>0</td>\n",
       "    </tr>\n",
       "    <tr>\n",
       "      <th>2</th>\n",
       "      <td>7513</td>\n",
       "      <td>Sales &amp; Marketing</td>\n",
       "      <td>region_19</td>\n",
       "      <td>Bachelor's</td>\n",
       "      <td>m</td>\n",
       "      <td>sourcing</td>\n",
       "      <td>1</td>\n",
       "      <td>34</td>\n",
       "      <td>3.0</td>\n",
       "      <td>7</td>\n",
       "      <td>0</td>\n",
       "      <td>0</td>\n",
       "      <td>50</td>\n",
       "      <td>0</td>\n",
       "    </tr>\n",
       "    <tr>\n",
       "      <th>3</th>\n",
       "      <td>2542</td>\n",
       "      <td>Sales &amp; Marketing</td>\n",
       "      <td>region_23</td>\n",
       "      <td>Bachelor's</td>\n",
       "      <td>m</td>\n",
       "      <td>other</td>\n",
       "      <td>2</td>\n",
       "      <td>39</td>\n",
       "      <td>1.0</td>\n",
       "      <td>10</td>\n",
       "      <td>0</td>\n",
       "      <td>0</td>\n",
       "      <td>50</td>\n",
       "      <td>0</td>\n",
       "    </tr>\n",
       "    <tr>\n",
       "      <th>4</th>\n",
       "      <td>48945</td>\n",
       "      <td>Technology</td>\n",
       "      <td>region_26</td>\n",
       "      <td>Bachelor's</td>\n",
       "      <td>m</td>\n",
       "      <td>other</td>\n",
       "      <td>1</td>\n",
       "      <td>45</td>\n",
       "      <td>3.0</td>\n",
       "      <td>2</td>\n",
       "      <td>0</td>\n",
       "      <td>0</td>\n",
       "      <td>73</td>\n",
       "      <td>0</td>\n",
       "    </tr>\n",
       "  </tbody>\n",
       "</table>\n",
       "</div>"
      ],
      "text/plain": [
       "   employee_id         department     region         education gender  \\\n",
       "0        65438  Sales & Marketing   region_7  Master's & above      f   \n",
       "1        65141         Operations  region_22        Bachelor's      m   \n",
       "2         7513  Sales & Marketing  region_19        Bachelor's      m   \n",
       "3         2542  Sales & Marketing  region_23        Bachelor's      m   \n",
       "4        48945         Technology  region_26        Bachelor's      m   \n",
       "\n",
       "  recruitment_channel  no_of_trainings  age  previous_year_rating  \\\n",
       "0            sourcing                1   35                   5.0   \n",
       "1               other                1   30                   5.0   \n",
       "2            sourcing                1   34                   3.0   \n",
       "3               other                2   39                   1.0   \n",
       "4               other                1   45                   3.0   \n",
       "\n",
       "   length_of_service  KPIs_met >80%  awards_won?  avg_training_score  \\\n",
       "0                  8              1            0                  49   \n",
       "1                  4              0            0                  60   \n",
       "2                  7              0            0                  50   \n",
       "3                 10              0            0                  50   \n",
       "4                  2              0            0                  73   \n",
       "\n",
       "   is_promoted  \n",
       "0            0  \n",
       "1            0  \n",
       "2            0  \n",
       "3            0  \n",
       "4            0  "
      ]
     },
     "execution_count": 1,
     "metadata": {},
     "output_type": "execute_result"
    }
   ],
   "source": [
    "import pandas as pd\n",
    "df = pd.read_csv(\"train_LZdllcl.csv\")\n",
    "df.head()"
   ]
  },
  {
   "cell_type": "code",
   "execution_count": 4,
   "id": "d7b3817d",
   "metadata": {},
   "outputs": [
    {
     "data": {
      "text/html": [
       "<div>\n",
       "<style scoped>\n",
       "    .dataframe tbody tr th:only-of-type {\n",
       "        vertical-align: middle;\n",
       "    }\n",
       "\n",
       "    .dataframe tbody tr th {\n",
       "        vertical-align: top;\n",
       "    }\n",
       "\n",
       "    .dataframe thead th {\n",
       "        text-align: right;\n",
       "    }\n",
       "</style>\n",
       "<table border=\"1\" class=\"dataframe\">\n",
       "  <thead>\n",
       "    <tr style=\"text-align: right;\">\n",
       "      <th></th>\n",
       "      <th>df</th>\n",
       "      <th>sum_sq</th>\n",
       "      <th>mean_sq</th>\n",
       "      <th>F</th>\n",
       "      <th>PR(&gt;F)</th>\n",
       "    </tr>\n",
       "  </thead>\n",
       "  <tbody>\n",
       "    <tr>\n",
       "      <th>department</th>\n",
       "      <td>8.0</td>\n",
       "      <td>15934.057851</td>\n",
       "      <td>1991.757231</td>\n",
       "      <td>111.25326</td>\n",
       "      <td>2.722641e-185</td>\n",
       "    </tr>\n",
       "    <tr>\n",
       "      <th>Residual</th>\n",
       "      <td>54799.0</td>\n",
       "      <td>981061.633562</td>\n",
       "      <td>17.902911</td>\n",
       "      <td>NaN</td>\n",
       "      <td>NaN</td>\n",
       "    </tr>\n",
       "  </tbody>\n",
       "</table>\n",
       "</div>"
      ],
      "text/plain": [
       "                 df         sum_sq      mean_sq          F         PR(>F)\n",
       "department      8.0   15934.057851  1991.757231  111.25326  2.722641e-185\n",
       "Residual    54799.0  981061.633562    17.902911        NaN            NaN"
      ]
     },
     "execution_count": 4,
     "metadata": {},
     "output_type": "execute_result"
    }
   ],
   "source": [
    "import statsmodels.formula.api as sfa\n",
    "from statsmodels.stats.anova import anova_lm\n",
    "model = sfa.ols(\"length_of_service~department\",data=df).fit()\n",
    "anova_lm(model)"
   ]
  },
  {
   "cell_type": "code",
   "execution_count": 5,
   "id": "517d8c1a",
   "metadata": {},
   "outputs": [],
   "source": [
    "table = pd.crosstab(df[\"department\"],df[\"is_promoted\"])"
   ]
  },
  {
   "cell_type": "code",
   "execution_count": null,
   "id": "c26f2247",
   "metadata": {},
   "outputs": [],
   "source": []
  },
  {
   "cell_type": "code",
   "execution_count": 6,
   "id": "03dbf9bf",
   "metadata": {},
   "outputs": [
    {
     "data": {
      "text/plain": [
       "(151.4263551632387,\n",
       " 9.882497107474632e-29,\n",
       " 8,\n",
       " array([[ 4896.1699022 ,   455.8300978 ],\n",
       "        [ 2320.00875785,   215.99124215],\n",
       "        [ 2212.05882353,   205.94117647],\n",
       "        [  950.50831995,    88.49168005],\n",
       "        [10381.49029339,   966.50970661],\n",
       "        [ 6530.05619618,   607.94380382],\n",
       "        [  913.91512188,    85.08487812],\n",
       "        [15405.73638885,  1434.26361115],\n",
       "        [ 6530.05619618,   607.94380382]]))"
      ]
     },
     "execution_count": 6,
     "metadata": {},
     "output_type": "execute_result"
    }
   ],
   "source": [
    "from scipy.stats import chi2_contingency\n",
    "chi2_contingency(table)"
   ]
  },
  {
   "cell_type": "code",
   "execution_count": 7,
   "id": "d5d05adf",
   "metadata": {},
   "outputs": [
    {
     "data": {
      "text/plain": [
       "Ttest_indResult(statistic=772.7167051348191, pvalue=0.0)"
      ]
     },
     "execution_count": 7,
     "metadata": {},
     "output_type": "execute_result"
    }
   ],
   "source": [
    "from scipy.stats import ttest_ind\n",
    "ttest_ind(df[\"age\"],df[\"length_of_service\"])"
   ]
  },
  {
   "cell_type": "code",
   "execution_count": 10,
   "id": "dcbbccf7",
   "metadata": {},
   "outputs": [
    {
     "data": {
      "text/plain": [
       "(475.6402377579206,\n",
       " 7.275378205784026e-80,\n",
       " 33,\n",
       " array([[5.58046271e+02, 5.19537294e+01],\n",
       "        [5.92809809e+02, 5.51901912e+01],\n",
       "        [1.20300139e+03, 1.11998613e+02],\n",
       "        [4.57414976e+02, 4.25850241e+01],\n",
       "        [2.42246971e+03, 2.25530288e+02],\n",
       "        [7.56564370e+02, 7.04356298e+01],\n",
       "        [2.56884250e+03, 2.39157495e+02],\n",
       "        [1.34022588e+03, 1.24774121e+02],\n",
       "        [7.28204642e+02, 6.77953583e+01],\n",
       "        [2.83597285e+01, 2.64027149e+00],\n",
       "        [7.99561378e+02, 7.44386221e+01],\n",
       "        [1.12917461e+04, 1.05125390e+03],\n",
       "        [7.77605459e+02, 7.23945409e+01],\n",
       "        [3.75995110e+02, 3.50048898e+01],\n",
       "        [5.88052693e+03, 5.47473070e+02],\n",
       "        [1.07492519e+03, 1.00074807e+02],\n",
       "        [4.64733616e+02, 4.32663845e+01],\n",
       "        [7.49245731e+02, 6.97542694e+01],\n",
       "        [2.06751569e+03, 1.92484309e+02],\n",
       "        [1.51770289e+03, 1.41297110e+02],\n",
       "        [1.20574588e+03, 1.12254123e+02],\n",
       "        [9.09340972e+02, 8.46590279e+01],\n",
       "        [3.16531163e+02, 2.94688367e+01],\n",
       "        [6.01043278e+02, 5.59567216e+01],\n",
       "        [1.77019596e+03, 1.64804043e+02],\n",
       "        [8.64514304e+02, 8.04856955e+01],\n",
       "        [2.46089257e+02, 2.29107430e+01],\n",
       "        [2.67130346e+02, 2.48696541e+01],\n",
       "        [1.55795541e+03, 1.45044592e+02],\n",
       "        [7.00759743e+02, 6.52402569e+01],\n",
       "        [6.31232667e+02, 5.87673332e+01],\n",
       "        [4.43052146e+03, 4.12478543e+02],\n",
       "        [5.99213618e+02, 5.57863816e+01],\n",
       "        [3.84228580e+02, 3.57714202e+01]]))"
      ]
     },
     "execution_count": 10,
     "metadata": {},
     "output_type": "execute_result"
    }
   ],
   "source": [
    "table1 = pd.crosstab(df[\"region\"],df[\"is_promoted\"])\n",
    "chi2_contingency(table1)"
   ]
  },
  {
   "cell_type": "code",
   "execution_count": 11,
   "id": "95e7eecc",
   "metadata": {},
   "outputs": [
    {
     "data": {
      "text/plain": [
       "(2689.3220548467057,\n",
       " 0.0,\n",
       " 1,\n",
       " array([[32492.01539921,  3024.98460079],\n",
       "        [17647.98460079,  1643.01539921]]))"
      ]
     },
     "execution_count": 11,
     "metadata": {},
     "output_type": "execute_result"
    }
   ],
   "source": [
    "table2 = pd.crosstab(df[\"KPIs_met >80%\"],df[\"is_promoted\"])\n",
    "chi2_contingency(table2)"
   ]
  },
  {
   "cell_type": "code",
   "execution_count": 13,
   "id": "1c820162",
   "metadata": {},
   "outputs": [
    {
     "data": {
      "text/html": [
       "<div>\n",
       "<style scoped>\n",
       "    .dataframe tbody tr th:only-of-type {\n",
       "        vertical-align: middle;\n",
       "    }\n",
       "\n",
       "    .dataframe tbody tr th {\n",
       "        vertical-align: top;\n",
       "    }\n",
       "\n",
       "    .dataframe thead th {\n",
       "        text-align: right;\n",
       "    }\n",
       "</style>\n",
       "<table border=\"1\" class=\"dataframe\">\n",
       "  <thead>\n",
       "    <tr style=\"text-align: right;\">\n",
       "      <th></th>\n",
       "      <th>df</th>\n",
       "      <th>sum_sq</th>\n",
       "      <th>mean_sq</th>\n",
       "      <th>F</th>\n",
       "      <th>PR(&gt;F)</th>\n",
       "    </tr>\n",
       "  </thead>\n",
       "  <tbody>\n",
       "    <tr>\n",
       "      <th>is_promoted</th>\n",
       "      <td>1.0</td>\n",
       "      <td>3.215593e+05</td>\n",
       "      <td>321559.318972</td>\n",
       "      <td>1859.426913</td>\n",
       "      <td>0.0</td>\n",
       "    </tr>\n",
       "    <tr>\n",
       "      <th>Residual</th>\n",
       "      <td>54806.0</td>\n",
       "      <td>9.477856e+06</td>\n",
       "      <td>172.934637</td>\n",
       "      <td>NaN</td>\n",
       "      <td>NaN</td>\n",
       "    </tr>\n",
       "  </tbody>\n",
       "</table>\n",
       "</div>"
      ],
      "text/plain": [
       "                  df        sum_sq        mean_sq            F  PR(>F)\n",
       "is_promoted      1.0  3.215593e+05  321559.318972  1859.426913     0.0\n",
       "Residual     54806.0  9.477856e+06     172.934637          NaN     NaN"
      ]
     },
     "execution_count": 13,
     "metadata": {},
     "output_type": "execute_result"
    }
   ],
   "source": [
    "model = sfa.ols(\"avg_training_score~is_promoted\",data=df).fit()\n",
    "anova_lm(model)"
   ]
  },
  {
   "cell_type": "code",
   "execution_count": 14,
   "id": "1f8fb602",
   "metadata": {},
   "outputs": [
    {
     "data": {
      "text/plain": [
       "Ttest_indResult(statistic=-434.22685957038397, pvalue=0.0)"
      ]
     },
     "execution_count": 14,
     "metadata": {},
     "output_type": "execute_result"
    }
   ],
   "source": [
    "ttest_ind(df[\"age\"],df[\"avg_training_score\"])"
   ]
  },
  {
   "cell_type": "code",
   "execution_count": null,
   "id": "5d640918",
   "metadata": {},
   "outputs": [],
   "source": [
    "from sklearn.tree import DecisionTreeClassifier\n",
    "DecisionTreeClassifier(m)"
   ]
  }
 ],
 "metadata": {
  "kernelspec": {
   "display_name": "Python 3 (ipykernel)",
   "language": "python",
   "name": "python3"
  },
  "language_info": {
   "codemirror_mode": {
    "name": "ipython",
    "version": 3
   },
   "file_extension": ".py",
   "mimetype": "text/x-python",
   "name": "python",
   "nbconvert_exporter": "python",
   "pygments_lexer": "ipython3",
   "version": "3.8.5"
  }
 },
 "nbformat": 4,
 "nbformat_minor": 5
}
