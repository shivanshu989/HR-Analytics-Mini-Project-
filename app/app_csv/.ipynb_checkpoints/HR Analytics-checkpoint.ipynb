{
 "cells": [
  {
   "cell_type": "code",
   "execution_count": 1,
   "id": "c2cd4b9e",
   "metadata": {},
   "outputs": [],
   "source": [
    "import pandas as pd\n",
    "import numpy as np\n",
    "import matplotlib.pyplot as plt\n",
    "import seaborn as sns\n",
    "import scipy.stats as stats\n",
    "import warnings\n",
    "warnings.filterwarnings(\"ignore\")\n",
    "%matplotlib inline"
   ]
  },
  {
   "cell_type": "markdown",
   "id": "b2297302",
   "metadata": {},
   "source": [
    "Loading train and test Dataset and Concate them "
   ]
  },
  {
   "cell_type": "code",
   "execution_count": 2,
   "id": "796f07fc",
   "metadata": {
    "scrolled": true
   },
   "outputs": [
    {
     "data": {
      "text/plain": [
       "((23490, 13), (23490, 2))"
      ]
     },
     "execution_count": 2,
     "metadata": {},
     "output_type": "execute_result"
    }
   ],
   "source": [
    "df_train = pd.read_csv(\"../../media/train_data_L5dLEHg.csv\")\n",
    "df_test = pd.read_csv(\"../../media/train_data.csv\")\n",
    "df_train.shape,df_test.shape"
   ]
  },
  {
   "cell_type": "code",
   "execution_count": 3,
   "id": "c270e145",
   "metadata": {},
   "outputs": [],
   "source": [
    "df_concat = pd.concat([df_train,df_test],axis=0)"
   ]
  },
  {
   "cell_type": "code",
   "execution_count": 4,
   "id": "82a37d66",
   "metadata": {
    "scrolled": true
   },
   "outputs": [
    {
     "data": {
      "text/plain": [
       "(46980, 14)"
      ]
     },
     "execution_count": 4,
     "metadata": {},
     "output_type": "execute_result"
    }
   ],
   "source": [
    "df_concat.shape"
   ]
  },
  {
   "cell_type": "code",
   "execution_count": 5,
   "id": "c4460504",
   "metadata": {},
   "outputs": [
    {
     "data": {
      "text/html": [
       "<div>\n",
       "<style scoped>\n",
       "    .dataframe tbody tr th:only-of-type {\n",
       "        vertical-align: middle;\n",
       "    }\n",
       "\n",
       "    .dataframe tbody tr th {\n",
       "        vertical-align: top;\n",
       "    }\n",
       "\n",
       "    .dataframe thead th {\n",
       "        text-align: right;\n",
       "    }\n",
       "</style>\n",
       "<table border=\"1\" class=\"dataframe\">\n",
       "  <thead>\n",
       "    <tr style=\"text-align: right;\">\n",
       "      <th></th>\n",
       "      <th>employee_id</th>\n",
       "      <th>department</th>\n",
       "      <th>region</th>\n",
       "      <th>education</th>\n",
       "      <th>gender</th>\n",
       "      <th>recruitment_channel</th>\n",
       "      <th>no_of_trainings</th>\n",
       "      <th>age</th>\n",
       "      <th>previous_year_rating</th>\n",
       "      <th>length_of_service</th>\n",
       "      <th>KPIs_met &gt;80%</th>\n",
       "      <th>awards_won?</th>\n",
       "      <th>avg_training_score</th>\n",
       "      <th>is_promoted</th>\n",
       "    </tr>\n",
       "  </thead>\n",
       "  <tbody>\n",
       "    <tr>\n",
       "      <th>0</th>\n",
       "      <td>8724</td>\n",
       "      <td>Technology</td>\n",
       "      <td>region_26</td>\n",
       "      <td>Bachelor's</td>\n",
       "      <td>m</td>\n",
       "      <td>sourcing</td>\n",
       "      <td>1.0</td>\n",
       "      <td>24.0</td>\n",
       "      <td>NaN</td>\n",
       "      <td>1.0</td>\n",
       "      <td>1.0</td>\n",
       "      <td>0.0</td>\n",
       "      <td>77.0</td>\n",
       "      <td>NaN</td>\n",
       "    </tr>\n",
       "    <tr>\n",
       "      <th>1</th>\n",
       "      <td>74430</td>\n",
       "      <td>HR</td>\n",
       "      <td>region_4</td>\n",
       "      <td>Bachelor's</td>\n",
       "      <td>f</td>\n",
       "      <td>other</td>\n",
       "      <td>1.0</td>\n",
       "      <td>31.0</td>\n",
       "      <td>3.0</td>\n",
       "      <td>5.0</td>\n",
       "      <td>0.0</td>\n",
       "      <td>0.0</td>\n",
       "      <td>51.0</td>\n",
       "      <td>NaN</td>\n",
       "    </tr>\n",
       "    <tr>\n",
       "      <th>2</th>\n",
       "      <td>72255</td>\n",
       "      <td>Sales &amp; Marketing</td>\n",
       "      <td>region_13</td>\n",
       "      <td>Bachelor's</td>\n",
       "      <td>m</td>\n",
       "      <td>other</td>\n",
       "      <td>1.0</td>\n",
       "      <td>31.0</td>\n",
       "      <td>1.0</td>\n",
       "      <td>4.0</td>\n",
       "      <td>0.0</td>\n",
       "      <td>0.0</td>\n",
       "      <td>47.0</td>\n",
       "      <td>NaN</td>\n",
       "    </tr>\n",
       "    <tr>\n",
       "      <th>3</th>\n",
       "      <td>38562</td>\n",
       "      <td>Procurement</td>\n",
       "      <td>region_2</td>\n",
       "      <td>Bachelor's</td>\n",
       "      <td>f</td>\n",
       "      <td>other</td>\n",
       "      <td>3.0</td>\n",
       "      <td>31.0</td>\n",
       "      <td>2.0</td>\n",
       "      <td>9.0</td>\n",
       "      <td>0.0</td>\n",
       "      <td>0.0</td>\n",
       "      <td>65.0</td>\n",
       "      <td>NaN</td>\n",
       "    </tr>\n",
       "    <tr>\n",
       "      <th>4</th>\n",
       "      <td>64486</td>\n",
       "      <td>Finance</td>\n",
       "      <td>region_29</td>\n",
       "      <td>Bachelor's</td>\n",
       "      <td>m</td>\n",
       "      <td>sourcing</td>\n",
       "      <td>1.0</td>\n",
       "      <td>30.0</td>\n",
       "      <td>4.0</td>\n",
       "      <td>7.0</td>\n",
       "      <td>0.0</td>\n",
       "      <td>0.0</td>\n",
       "      <td>61.0</td>\n",
       "      <td>NaN</td>\n",
       "    </tr>\n",
       "  </tbody>\n",
       "</table>\n",
       "</div>"
      ],
      "text/plain": [
       "   employee_id         department     region   education gender  \\\n",
       "0         8724         Technology  region_26  Bachelor's      m   \n",
       "1        74430                 HR   region_4  Bachelor's      f   \n",
       "2        72255  Sales & Marketing  region_13  Bachelor's      m   \n",
       "3        38562        Procurement   region_2  Bachelor's      f   \n",
       "4        64486            Finance  region_29  Bachelor's      m   \n",
       "\n",
       "  recruitment_channel  no_of_trainings   age  previous_year_rating  \\\n",
       "0            sourcing              1.0  24.0                   NaN   \n",
       "1               other              1.0  31.0                   3.0   \n",
       "2               other              1.0  31.0                   1.0   \n",
       "3               other              3.0  31.0                   2.0   \n",
       "4            sourcing              1.0  30.0                   4.0   \n",
       "\n",
       "   length_of_service  KPIs_met >80%  awards_won?  avg_training_score  \\\n",
       "0                1.0            1.0          0.0                77.0   \n",
       "1                5.0            0.0          0.0                51.0   \n",
       "2                4.0            0.0          0.0                47.0   \n",
       "3                9.0            0.0          0.0                65.0   \n",
       "4                7.0            0.0          0.0                61.0   \n",
       "\n",
       "   is_promoted  \n",
       "0          NaN  \n",
       "1          NaN  \n",
       "2          NaN  \n",
       "3          NaN  \n",
       "4          NaN  "
      ]
     },
     "execution_count": 5,
     "metadata": {},
     "output_type": "execute_result"
    }
   ],
   "source": [
    "df_concat.head()"
   ]
  },
  {
   "cell_type": "markdown",
   "id": "b4e4a738",
   "metadata": {},
   "source": [
    "# EDA"
   ]
  },
  {
   "cell_type": "code",
   "execution_count": 6,
   "id": "afaa9c72",
   "metadata": {},
   "outputs": [
    {
     "data": {
      "text/plain": [
       "employee_id                 0\n",
       "department              23490\n",
       "region                  23490\n",
       "education               24524\n",
       "gender                  23490\n",
       "recruitment_channel     23490\n",
       "no_of_trainings         23490\n",
       "age                     23490\n",
       "previous_year_rating    25302\n",
       "length_of_service       23490\n",
       "KPIs_met >80%           23490\n",
       "awards_won?             23490\n",
       "avg_training_score      23490\n",
       "is_promoted             23490\n",
       "dtype: int64"
      ]
     },
     "execution_count": 6,
     "metadata": {},
     "output_type": "execute_result"
    }
   ],
   "source": [
    "df_concat.isnull().sum()"
   ]
  },
  {
   "cell_type": "code",
   "execution_count": 7,
   "id": "47e8b40f",
   "metadata": {},
   "outputs": [
    {
     "data": {
      "text/plain": [
       "employee_id             22640.568233\n",
       "no_of_trainings             0.600910\n",
       "age                         7.679492\n",
       "previous_year_rating        1.263294\n",
       "length_of_service           4.207917\n",
       "KPIs_met >80%               0.479668\n",
       "awards_won?                 0.149191\n",
       "avg_training_score         13.411750\n",
       "is_promoted                 0.180832\n",
       "dtype: float64"
      ]
     },
     "execution_count": 7,
     "metadata": {},
     "output_type": "execute_result"
    }
   ],
   "source": [
    "df_concat.std()"
   ]
  },
  {
   "cell_type": "code",
   "execution_count": 8,
   "id": "a9ffbdb8",
   "metadata": {},
   "outputs": [
    {
     "data": {
      "text/html": [
       "<div>\n",
       "<style scoped>\n",
       "    .dataframe tbody tr th:only-of-type {\n",
       "        vertical-align: middle;\n",
       "    }\n",
       "\n",
       "    .dataframe tbody tr th {\n",
       "        vertical-align: top;\n",
       "    }\n",
       "\n",
       "    .dataframe thead th {\n",
       "        text-align: right;\n",
       "    }\n",
       "</style>\n",
       "<table border=\"1\" class=\"dataframe\">\n",
       "  <thead>\n",
       "    <tr style=\"text-align: right;\">\n",
       "      <th></th>\n",
       "      <th>employee_id</th>\n",
       "      <th>no_of_trainings</th>\n",
       "      <th>age</th>\n",
       "      <th>previous_year_rating</th>\n",
       "      <th>length_of_service</th>\n",
       "      <th>KPIs_met &gt;80%</th>\n",
       "      <th>awards_won?</th>\n",
       "      <th>avg_training_score</th>\n",
       "      <th>is_promoted</th>\n",
       "    </tr>\n",
       "  </thead>\n",
       "  <tbody>\n",
       "    <tr>\n",
       "      <th>count</th>\n",
       "      <td>46980.000000</td>\n",
       "      <td>23490.000000</td>\n",
       "      <td>23490.000000</td>\n",
       "      <td>21678.000000</td>\n",
       "      <td>23490.000000</td>\n",
       "      <td>23490.000000</td>\n",
       "      <td>23490.000000</td>\n",
       "      <td>23490.000000</td>\n",
       "      <td>23490.000000</td>\n",
       "    </tr>\n",
       "    <tr>\n",
       "      <th>mean</th>\n",
       "      <td>39041.399149</td>\n",
       "      <td>1.254236</td>\n",
       "      <td>34.782929</td>\n",
       "      <td>3.339146</td>\n",
       "      <td>5.810387</td>\n",
       "      <td>0.358834</td>\n",
       "      <td>0.022776</td>\n",
       "      <td>63.263133</td>\n",
       "      <td>0.033844</td>\n",
       "    </tr>\n",
       "    <tr>\n",
       "      <th>std</th>\n",
       "      <td>22640.568233</td>\n",
       "      <td>0.600910</td>\n",
       "      <td>7.679492</td>\n",
       "      <td>1.263294</td>\n",
       "      <td>4.207917</td>\n",
       "      <td>0.479668</td>\n",
       "      <td>0.149191</td>\n",
       "      <td>13.411750</td>\n",
       "      <td>0.180832</td>\n",
       "    </tr>\n",
       "    <tr>\n",
       "      <th>min</th>\n",
       "      <td>3.000000</td>\n",
       "      <td>1.000000</td>\n",
       "      <td>20.000000</td>\n",
       "      <td>1.000000</td>\n",
       "      <td>1.000000</td>\n",
       "      <td>0.000000</td>\n",
       "      <td>0.000000</td>\n",
       "      <td>39.000000</td>\n",
       "      <td>0.000000</td>\n",
       "    </tr>\n",
       "    <tr>\n",
       "      <th>25%</th>\n",
       "      <td>19370.000000</td>\n",
       "      <td>1.000000</td>\n",
       "      <td>29.000000</td>\n",
       "      <td>3.000000</td>\n",
       "      <td>3.000000</td>\n",
       "      <td>0.000000</td>\n",
       "      <td>0.000000</td>\n",
       "      <td>51.000000</td>\n",
       "      <td>0.000000</td>\n",
       "    </tr>\n",
       "    <tr>\n",
       "      <th>50%</th>\n",
       "      <td>38963.500000</td>\n",
       "      <td>1.000000</td>\n",
       "      <td>33.000000</td>\n",
       "      <td>3.000000</td>\n",
       "      <td>5.000000</td>\n",
       "      <td>0.000000</td>\n",
       "      <td>0.000000</td>\n",
       "      <td>60.000000</td>\n",
       "      <td>0.000000</td>\n",
       "    </tr>\n",
       "    <tr>\n",
       "      <th>75%</th>\n",
       "      <td>58692.000000</td>\n",
       "      <td>1.000000</td>\n",
       "      <td>39.000000</td>\n",
       "      <td>4.000000</td>\n",
       "      <td>7.000000</td>\n",
       "      <td>1.000000</td>\n",
       "      <td>0.000000</td>\n",
       "      <td>76.000000</td>\n",
       "      <td>0.000000</td>\n",
       "    </tr>\n",
       "    <tr>\n",
       "      <th>max</th>\n",
       "      <td>78295.000000</td>\n",
       "      <td>9.000000</td>\n",
       "      <td>60.000000</td>\n",
       "      <td>5.000000</td>\n",
       "      <td>34.000000</td>\n",
       "      <td>1.000000</td>\n",
       "      <td>1.000000</td>\n",
       "      <td>99.000000</td>\n",
       "      <td>1.000000</td>\n",
       "    </tr>\n",
       "  </tbody>\n",
       "</table>\n",
       "</div>"
      ],
      "text/plain": [
       "        employee_id  no_of_trainings           age  previous_year_rating  \\\n",
       "count  46980.000000     23490.000000  23490.000000          21678.000000   \n",
       "mean   39041.399149         1.254236     34.782929              3.339146   \n",
       "std    22640.568233         0.600910      7.679492              1.263294   \n",
       "min        3.000000         1.000000     20.000000              1.000000   \n",
       "25%    19370.000000         1.000000     29.000000              3.000000   \n",
       "50%    38963.500000         1.000000     33.000000              3.000000   \n",
       "75%    58692.000000         1.000000     39.000000              4.000000   \n",
       "max    78295.000000         9.000000     60.000000              5.000000   \n",
       "\n",
       "       length_of_service  KPIs_met >80%   awards_won?  avg_training_score  \\\n",
       "count       23490.000000   23490.000000  23490.000000        23490.000000   \n",
       "mean            5.810387       0.358834      0.022776           63.263133   \n",
       "std             4.207917       0.479668      0.149191           13.411750   \n",
       "min             1.000000       0.000000      0.000000           39.000000   \n",
       "25%             3.000000       0.000000      0.000000           51.000000   \n",
       "50%             5.000000       0.000000      0.000000           60.000000   \n",
       "75%             7.000000       1.000000      0.000000           76.000000   \n",
       "max            34.000000       1.000000      1.000000           99.000000   \n",
       "\n",
       "        is_promoted  \n",
       "count  23490.000000  \n",
       "mean       0.033844  \n",
       "std        0.180832  \n",
       "min        0.000000  \n",
       "25%        0.000000  \n",
       "50%        0.000000  \n",
       "75%        0.000000  \n",
       "max        1.000000  "
      ]
     },
     "execution_count": 8,
     "metadata": {},
     "output_type": "execute_result"
    }
   ],
   "source": [
    "df_concat.describe()"
   ]
  },
  {
   "cell_type": "code",
   "execution_count": 9,
   "id": "d44e424f",
   "metadata": {},
   "outputs": [
    {
     "data": {
      "text/plain": [
       "<AxesSubplot:>"
      ]
     },
     "execution_count": 9,
     "metadata": {},
     "output_type": "execute_result"
    },
    {
     "data": {
      "image/png": "[encoded data removed]",
      "text/plain": [
       "<Figure size 640x480 with 2 Axes>"
      ]
     },
     "metadata": {},
     "output_type": "display_data"
    }
   ],
   "source": [
    "sns.heatmap(df_concat.corr(),annot=True,cmap=\"YlGnBu\")"
   ]
  },
  {
   "cell_type": "markdown",
   "id": "f85cf52a",
   "metadata": {},
   "source": [
    "Univariate Analysis"
   ]
  },
  {
   "cell_type": "code",
   "execution_count": 10,
   "id": "712b9460",
   "metadata": {},
   "outputs": [
    {
     "data": {
      "image/png": "[encoded data removed]",
      "text/plain": [
       "<Figure size 800x800 with 9 Axes>"
      ]
     },
     "metadata": {},
     "output_type": "display_data"
    }
   ],
   "source": [
    "num_col = df_concat.select_dtypes(include=np.number).columns\n",
    "c=1\n",
    "plt.figure(figsize=(8,8))\n",
    "for x in num_col:\n",
    "    plt.subplot(3,3,c)\n",
    "    sns.distplot(df_concat[x])\n",
    "    c+=1\n",
    "plt.tight_layout()"
   ]
  },
  {
   "cell_type": "markdown",
   "id": "0350fa30",
   "metadata": {},
   "source": [
    "Checking Skenewss of data"
   ]
  },
  {
   "cell_type": "code",
   "execution_count": 11,
   "id": "e8e0d197",
   "metadata": {},
   "outputs": [
    {
     "data": {
      "text/plain": [
       "employee_id             0.007315\n",
       "no_of_trainings         3.299829\n",
       "age                     1.011777\n",
       "previous_year_rating   -0.324708\n",
       "length_of_service       1.703001\n",
       "KPIs_met >80%           0.588650\n",
       "awards_won?             6.398053\n",
       "avg_training_score      0.458113\n",
       "is_promoted             5.156122\n",
       "dtype: float64"
      ]
     },
     "execution_count": 11,
     "metadata": {},
     "output_type": "execute_result"
    }
   ],
   "source": [
    "#Ho: Data is normally distributed\n",
    "#Ha: Data is not normnally distributed\n",
    "df_concat.skew()"
   ]
  },
  {
   "cell_type": "code",
   "execution_count": 12,
   "id": "435eeb10",
   "metadata": {},
   "outputs": [],
   "source": [
    "# we can see data is skewed "
   ]
  },
  {
   "cell_type": "code",
   "execution_count": 13,
   "id": "90fee5d3",
   "metadata": {},
   "outputs": [
    {
     "data": {
      "image/png": "[encoded data removed]",
      "text/plain": [
       "<Figure size 1600x1000 with 5 Axes>"
      ]
     },
     "metadata": {},
     "output_type": "display_data"
    }
   ],
   "source": [
    "cat_col = df_concat.select_dtypes(include=object).columns\n",
    "c=1\n",
    "plt.figure(figsize=(16,10))\n",
    "for x in cat_col:\n",
    "    plt.subplot(3,3,c)\n",
    "    sns.countplot(df_concat[x])\n",
    "    plt.xticks(rotation=90)\n",
    "    c+=1\n",
    "plt.tight_layout()"
   ]
  },
  {
   "cell_type": "code",
   "execution_count": 14,
   "id": "aea7fdab",
   "metadata": {},
   "outputs": [],
   "source": [
    "#Sales&Marketing,Operations,procruitment are top 3 departments with more number of employyes\n",
    "# Employees are highest in region_2\n",
    "# Male peoples are more in the company"
   ]
  },
  {
   "cell_type": "code",
   "execution_count": 15,
   "id": "8a21643f",
   "metadata": {
    "scrolled": false
   },
   "outputs": [
    {
     "data": {
      "text/plain": [
       "Sales & Marketing    7315\n",
       "Operations           4764\n",
       "Procurement          3020\n",
       "Technology           3011\n",
       "Analytics            2319\n",
       "Finance              1091\n",
       "HR                   1085\n",
       "Legal                 445\n",
       "R&D                   440\n",
       "Name: department, dtype: int64"
      ]
     },
     "execution_count": 15,
     "metadata": {},
     "output_type": "execute_result"
    }
   ],
   "source": [
    "df_concat[\"department\"].value_counts()"
   ]
  },
  {
   "cell_type": "code",
   "execution_count": 16,
   "id": "358ad67d",
   "metadata": {
    "scrolled": false
   },
   "outputs": [
    {
     "data": {
      "text/plain": [
       "region_2     5299\n",
       "region_22    2739\n",
       "region_7     1982\n",
       "region_13    1167\n",
       "region_15    1130\n",
       "region_26    1011\n",
       "region_31     844\n",
       "region_4      775\n",
       "region_27     710\n",
       "region_28     595\n",
       "region_16     590\n",
       "region_11     571\n",
       "region_23     516\n",
       "region_32     433\n",
       "region_29     414\n",
       "region_19     410\n",
       "region_17     361\n",
       "region_14     350\n",
       "region_5      342\n",
       "region_25     337\n",
       "region_20     326\n",
       "region_6      298\n",
       "region_30     273\n",
       "region_8      269\n",
       "region_10     269\n",
       "region_1      238\n",
       "region_24     219\n",
       "region_12     215\n",
       "region_9      180\n",
       "region_21     179\n",
       "region_34     155\n",
       "region_3      147\n",
       "region_33     126\n",
       "region_18      20\n",
       "Name: region, dtype: int64"
      ]
     },
     "execution_count": 16,
     "metadata": {},
     "output_type": "execute_result"
    }
   ],
   "source": [
    "df_concat[\"region\"].value_counts()"
   ]
  },
  {
   "cell_type": "code",
   "execution_count": 17,
   "id": "a01cc574",
   "metadata": {},
   "outputs": [
    {
     "data": {
      "text/plain": [
       "education       \n",
       "Bachelor's          15578\n",
       "Master's & above     6504\n",
       "Below Secondary       374\n",
       "dtype: int64"
      ]
     },
     "execution_count": 17,
     "metadata": {},
     "output_type": "execute_result"
    }
   ],
   "source": [
    "df_concat[[\"education\"]].value_counts()"
   ]
  },
  {
   "cell_type": "code",
   "execution_count": 18,
   "id": "4d45f309",
   "metadata": {},
   "outputs": [
    {
     "data": {
      "text/plain": [
       "gender\n",
       "m         16596\n",
       "f          6894\n",
       "dtype: int64"
      ]
     },
     "execution_count": 18,
     "metadata": {},
     "output_type": "execute_result"
    }
   ],
   "source": [
    "df_concat[[\"gender\"]].value_counts()"
   ]
  },
  {
   "cell_type": "code",
   "execution_count": 19,
   "id": "da72dc9c",
   "metadata": {},
   "outputs": [
    {
     "data": {
      "text/plain": [
       "recruitment_channel\n",
       "other                  13078\n",
       "sourcing                9961\n",
       "referred                 451\n",
       "dtype: int64"
      ]
     },
     "execution_count": 19,
     "metadata": {},
     "output_type": "execute_result"
    }
   ],
   "source": [
    "df_concat[[\"recruitment_channel\"]].value_counts()"
   ]
  },
  {
   "cell_type": "markdown",
   "id": "c614c7f0",
   "metadata": {},
   "source": [
    "Bivariate Analysis"
   ]
  },
  {
   "cell_type": "code",
   "execution_count": 20,
   "id": "49ff03ee",
   "metadata": {},
   "outputs": [
    {
     "data": {
      "text/plain": [
       "Index(['employee_id', 'department', 'region', 'education', 'gender',\n",
       "       'recruitment_channel', 'no_of_trainings', 'age', 'previous_year_rating',\n",
       "       'length_of_service', 'KPIs_met >80%', 'awards_won?',\n",
       "       'avg_training_score', 'is_promoted'],\n",
       "      dtype='object')"
      ]
     },
     "execution_count": 20,
     "metadata": {},
     "output_type": "execute_result"
    }
   ],
   "source": [
    "df_concat.columns"
   ]
  },
  {
   "cell_type": "code",
   "execution_count": 21,
   "id": "8e03329d",
   "metadata": {},
   "outputs": [
    {
     "data": {
      "text/html": [
       "<div>\n",
       "<style scoped>\n",
       "    .dataframe tbody tr th:only-of-type {\n",
       "        vertical-align: middle;\n",
       "    }\n",
       "\n",
       "    .dataframe tbody tr th {\n",
       "        vertical-align: top;\n",
       "    }\n",
       "\n",
       "    .dataframe thead th {\n",
       "        text-align: right;\n",
       "    }\n",
       "</style>\n",
       "<table border=\"1\" class=\"dataframe\">\n",
       "  <thead>\n",
       "    <tr style=\"text-align: right;\">\n",
       "      <th>is_promoted</th>\n",
       "    </tr>\n",
       "    <tr>\n",
       "      <th>department</th>\n",
       "    </tr>\n",
       "  </thead>\n",
       "  <tbody>\n",
       "  </tbody>\n",
       "</table>\n",
       "</div>"
      ],
      "text/plain": [
       "Empty DataFrame\n",
       "Columns: []\n",
       "Index: []"
      ]
     },
     "execution_count": 21,
     "metadata": {},
     "output_type": "execute_result"
    }
   ],
   "source": [
    "pd.crosstab(df_concat[\"department\"],df_concat[\"is_promoted\"])"
   ]
  },
  {
   "cell_type": "code",
   "execution_count": 22,
   "id": "afa25c1c",
   "metadata": {},
   "outputs": [
    {
     "ename": "TypeError",
     "evalue": "no numeric data to plot",
     "output_type": "error",
     "traceback": [
      "\u001b[1;31m---------------------------------------------------------------------------\u001b[0m",
      "\u001b[1;31mTypeError\u001b[0m                                 Traceback (most recent call last)",
      "\u001b[1;32m~\\AppData\\Local\\Temp\\ipykernel_17352\\2864719498.py\u001b[0m in \u001b[0;36m<module>\u001b[1;34m\u001b[0m\n\u001b[1;32m----> 1\u001b[1;33m \u001b[0mpd\u001b[0m\u001b[1;33m.\u001b[0m\u001b[0mcrosstab\u001b[0m\u001b[1;33m(\u001b[0m\u001b[0mdf_concat\u001b[0m\u001b[1;33m[\u001b[0m\u001b[1;34m\"department\"\u001b[0m\u001b[1;33m]\u001b[0m\u001b[1;33m,\u001b[0m\u001b[0mdf_concat\u001b[0m\u001b[1;33m[\u001b[0m\u001b[1;34m\"is_promoted\"\u001b[0m\u001b[1;33m]\u001b[0m\u001b[1;33m)\u001b[0m\u001b[1;33m.\u001b[0m\u001b[0mplot\u001b[0m\u001b[1;33m(\u001b[0m\u001b[0mkind\u001b[0m\u001b[1;33m=\u001b[0m\u001b[1;34m\"bar\"\u001b[0m\u001b[1;33m)\u001b[0m\u001b[1;33m\u001b[0m\u001b[1;33m\u001b[0m\u001b[0m\n\u001b[0m",
      "\u001b[1;32m~\\anaconda3\\lib\\site-packages\\pandas\\plotting\\_core.py\u001b[0m in \u001b[0;36m__call__\u001b[1;34m(self, *args, **kwargs)\u001b[0m\n\u001b[0;32m    970\u001b[0m                     \u001b[0mdata\u001b[0m\u001b[1;33m.\u001b[0m\u001b[0mcolumns\u001b[0m \u001b[1;33m=\u001b[0m \u001b[0mlabel_name\u001b[0m\u001b[1;33m\u001b[0m\u001b[1;33m\u001b[0m\u001b[0m\n\u001b[0;32m    971\u001b[0m \u001b[1;33m\u001b[0m\u001b[0m\n\u001b[1;32m--> 972\u001b[1;33m         \u001b[1;32mreturn\u001b[0m \u001b[0mplot_backend\u001b[0m\u001b[1;33m.\u001b[0m\u001b[0mplot\u001b[0m\u001b[1;33m(\u001b[0m\u001b[0mdata\u001b[0m\u001b[1;33m,\u001b[0m \u001b[0mkind\u001b[0m\u001b[1;33m=\u001b[0m\u001b[0mkind\u001b[0m\u001b[1;33m,\u001b[0m \u001b[1;33m**\u001b[0m\u001b[0mkwargs\u001b[0m\u001b[1;33m)\u001b[0m\u001b[1;33m\u001b[0m\u001b[1;33m\u001b[0m\u001b[0m\n\u001b[0m\u001b[0;32m    973\u001b[0m \u001b[1;33m\u001b[0m\u001b[0m\n\u001b[0;32m    974\u001b[0m     \u001b[0m__call__\u001b[0m\u001b[1;33m.\u001b[0m\u001b[0m__doc__\u001b[0m \u001b[1;33m=\u001b[0m \u001b[0m__doc__\u001b[0m\u001b[1;33m\u001b[0m\u001b[1;33m\u001b[0m\u001b[0m\n",
      "\u001b[1;32m~\\anaconda3\\lib\\site-packages\\pandas\\plotting\\_matplotlib\\__init__.py\u001b[0m in \u001b[0;36mplot\u001b[1;34m(data, kind, **kwargs)\u001b[0m\n\u001b[0;32m     69\u001b[0m             \u001b[0mkwargs\u001b[0m\u001b[1;33m[\u001b[0m\u001b[1;34m\"ax\"\u001b[0m\u001b[1;33m]\u001b[0m \u001b[1;33m=\u001b[0m \u001b[0mgetattr\u001b[0m\u001b[1;33m(\u001b[0m\u001b[0max\u001b[0m\u001b[1;33m,\u001b[0m \u001b[1;34m\"left_ax\"\u001b[0m\u001b[1;33m,\u001b[0m \u001b[0max\u001b[0m\u001b[1;33m)\u001b[0m\u001b[1;33m\u001b[0m\u001b[1;33m\u001b[0m\u001b[0m\n\u001b[0;32m     70\u001b[0m     \u001b[0mplot_obj\u001b[0m \u001b[1;33m=\u001b[0m \u001b[0mPLOT_CLASSES\u001b[0m\u001b[1;33m[\u001b[0m\u001b[0mkind\u001b[0m\u001b[1;33m]\u001b[0m\u001b[1;33m(\u001b[0m\u001b[0mdata\u001b[0m\u001b[1;33m,\u001b[0m \u001b[1;33m**\u001b[0m\u001b[0mkwargs\u001b[0m\u001b[1;33m)\u001b[0m\u001b[1;33m\u001b[0m\u001b[1;33m\u001b[0m\u001b[0m\n\u001b[1;32m---> 71\u001b[1;33m     \u001b[0mplot_obj\u001b[0m\u001b[1;33m.\u001b[0m\u001b[0mgenerate\u001b[0m\u001b[1;33m(\u001b[0m\u001b[1;33m)\u001b[0m\u001b[1;33m\u001b[0m\u001b[1;33m\u001b[0m\u001b[0m\n\u001b[0m\u001b[0;32m     72\u001b[0m     \u001b[0mplot_obj\u001b[0m\u001b[1;33m.\u001b[0m\u001b[0mdraw\u001b[0m\u001b[1;33m(\u001b[0m\u001b[1;33m)\u001b[0m\u001b[1;33m\u001b[0m\u001b[1;33m\u001b[0m\u001b[0m\n\u001b[0;32m     73\u001b[0m     \u001b[1;32mreturn\u001b[0m \u001b[0mplot_obj\u001b[0m\u001b[1;33m.\u001b[0m\u001b[0mresult\u001b[0m\u001b[1;33m\u001b[0m\u001b[1;33m\u001b[0m\u001b[0m\n",
      "\u001b[1;32m~\\anaconda3\\lib\\site-packages\\pandas\\plotting\\_matplotlib\\core.py\u001b[0m in \u001b[0;36mgenerate\u001b[1;34m(self)\u001b[0m\n\u001b[0;32m    325\u001b[0m     \u001b[1;32mdef\u001b[0m \u001b[0mgenerate\u001b[0m\u001b[1;33m(\u001b[0m\u001b[0mself\u001b[0m\u001b[1;33m)\u001b[0m\u001b[1;33m:\u001b[0m\u001b[1;33m\u001b[0m\u001b[1;33m\u001b[0m\u001b[0m\n\u001b[0;32m    326\u001b[0m         \u001b[0mself\u001b[0m\u001b[1;33m.\u001b[0m\u001b[0m_args_adjust\u001b[0m\u001b[1;33m(\u001b[0m\u001b[1;33m)\u001b[0m\u001b[1;33m\u001b[0m\u001b[1;33m\u001b[0m\u001b[0m\n\u001b[1;32m--> 327\u001b[1;33m         \u001b[0mself\u001b[0m\u001b[1;33m.\u001b[0m\u001b[0m_compute_plot_data\u001b[0m\u001b[1;33m(\u001b[0m\u001b[1;33m)\u001b[0m\u001b[1;33m\u001b[0m\u001b[1;33m\u001b[0m\u001b[0m\n\u001b[0m\u001b[0;32m    328\u001b[0m         \u001b[0mself\u001b[0m\u001b[1;33m.\u001b[0m\u001b[0m_setup_subplots\u001b[0m\u001b[1;33m(\u001b[0m\u001b[1;33m)\u001b[0m\u001b[1;33m\u001b[0m\u001b[1;33m\u001b[0m\u001b[0m\n\u001b[0;32m    329\u001b[0m         \u001b[0mself\u001b[0m\u001b[1;33m.\u001b[0m\u001b[0m_make_plot\u001b[0m\u001b[1;33m(\u001b[0m\u001b[1;33m)\u001b[0m\u001b[1;33m\u001b[0m\u001b[1;33m\u001b[0m\u001b[0m\n",
      "\u001b[1;32m~\\anaconda3\\lib\\site-packages\\pandas\\plotting\\_matplotlib\\core.py\u001b[0m in \u001b[0;36m_compute_plot_data\u001b[1;34m(self)\u001b[0m\n\u001b[0;32m    504\u001b[0m         \u001b[1;31m# no non-numeric frames or series allowed\u001b[0m\u001b[1;33m\u001b[0m\u001b[1;33m\u001b[0m\u001b[0m\n\u001b[0;32m    505\u001b[0m         \u001b[1;32mif\u001b[0m \u001b[0mis_empty\u001b[0m\u001b[1;33m:\u001b[0m\u001b[1;33m\u001b[0m\u001b[1;33m\u001b[0m\u001b[0m\n\u001b[1;32m--> 506\u001b[1;33m             \u001b[1;32mraise\u001b[0m \u001b[0mTypeError\u001b[0m\u001b[1;33m(\u001b[0m\u001b[1;34m\"no numeric data to plot\"\u001b[0m\u001b[1;33m)\u001b[0m\u001b[1;33m\u001b[0m\u001b[1;33m\u001b[0m\u001b[0m\n\u001b[0m\u001b[0;32m    507\u001b[0m \u001b[1;33m\u001b[0m\u001b[0m\n\u001b[0;32m    508\u001b[0m         \u001b[0mself\u001b[0m\u001b[1;33m.\u001b[0m\u001b[0mdata\u001b[0m \u001b[1;33m=\u001b[0m \u001b[0mnumeric_data\u001b[0m\u001b[1;33m.\u001b[0m\u001b[0mapply\u001b[0m\u001b[1;33m(\u001b[0m\u001b[0mself\u001b[0m\u001b[1;33m.\u001b[0m\u001b[0m_convert_to_ndarray\u001b[0m\u001b[1;33m)\u001b[0m\u001b[1;33m\u001b[0m\u001b[1;33m\u001b[0m\u001b[0m\n",
      "\u001b[1;31mTypeError\u001b[0m: no numeric data to plot"
     ]
    }
   ],
   "source": [
    "pd.crosstab(df_concat[\"department\"],df_concat[\"is_promoted\"]).plot(kind=\"bar\")"
   ]
  },
  {
   "cell_type": "code",
   "execution_count": 23,
   "id": "59e22320",
   "metadata": {},
   "outputs": [
    {
     "name": "stdout",
     "output_type": "stream",
     "text": [
      "Percentage of people promoted in the departmnet  Technology   0.0\n",
      "Percentage of people promoted in the departmnet  HR   0.0\n",
      "Percentage of people promoted in the departmnet  Sales & Marketing   0.0\n",
      "Percentage of people promoted in the departmnet  Procurement   0.0\n",
      "Percentage of people promoted in the departmnet  Finance   0.0\n",
      "Percentage of people promoted in the departmnet  Analytics   0.0\n",
      "Percentage of people promoted in the departmnet  Operations   0.0\n",
      "Percentage of people promoted in the departmnet  Legal   0.0\n",
      "Percentage of people promoted in the departmnet  R&D   0.0\n",
      "Percentage of people promoted in the departmnet  nan   0.0\n"
     ]
    }
   ],
   "source": [
    "for x in df_concat[\"department\"].unique():\n",
    "    print(\"Percentage of people promoted in the departmnet \",x,\" \",(len(df_concat.loc[(df_concat.department==x) & (df_concat[\"is_promoted\"]==1.0),\"is_promoted\" ]))/len(df_concat)*100)"
   ]
  },
  {
   "cell_type": "code",
   "execution_count": null,
   "id": "9778bf69",
   "metadata": {},
   "outputs": [],
   "source": [
    "# sales & Marketing have highest number of employees but yet Procrument have more percentage of people promoted "
   ]
  },
  {
   "cell_type": "code",
   "execution_count": 24,
   "id": "5ce5e68e",
   "metadata": {},
   "outputs": [
    {
     "data": {
      "text/html": [
       "<div>\n",
       "<style scoped>\n",
       "    .dataframe tbody tr th:only-of-type {\n",
       "        vertical-align: middle;\n",
       "    }\n",
       "\n",
       "    .dataframe tbody tr th {\n",
       "        vertical-align: top;\n",
       "    }\n",
       "\n",
       "    .dataframe thead th {\n",
       "        text-align: right;\n",
       "    }\n",
       "</style>\n",
       "<table border=\"1\" class=\"dataframe\">\n",
       "  <thead>\n",
       "    <tr style=\"text-align: right;\">\n",
       "      <th>is_promoted</th>\n",
       "    </tr>\n",
       "    <tr>\n",
       "      <th>education</th>\n",
       "    </tr>\n",
       "  </thead>\n",
       "  <tbody>\n",
       "  </tbody>\n",
       "</table>\n",
       "</div>"
      ],
      "text/plain": [
       "Empty DataFrame\n",
       "Columns: []\n",
       "Index: []"
      ]
     },
     "execution_count": 24,
     "metadata": {},
     "output_type": "execute_result"
    }
   ],
   "source": [
    "pd.crosstab(df_concat[\"education\"],df_concat[\"is_promoted\"])\n"
   ]
  },
  {
   "cell_type": "code",
   "execution_count": null,
   "id": "bb594f12",
   "metadata": {},
   "outputs": [],
   "source": [
    "pd.crosstab(df_concat[\"education\"],df_concat[\"is_promoted\"]).plot(kind=\"bar\")"
   ]
  },
  {
   "cell_type": "code",
   "execution_count": null,
   "id": "a86de0cd",
   "metadata": {},
   "outputs": [],
   "source": [
    "for x in [\"Master's & above\", \"Bachelor's\",'Below Secondary']:\n",
    "    print(\"Percentage of people promoted in the departmnet \",x,\" \",(len(df_concat.loc[(df_concat.education==x) & (df_concat[\"is_promoted\"]==1.0),\"is_promoted\" ]))/len(df_concat)*100)"
   ]
  },
  {
   "cell_type": "code",
   "execution_count": null,
   "id": "4d659bb7",
   "metadata": {},
   "outputs": [],
   "source": [
    "#Number of people that are more promoted belongs to bachlers degree"
   ]
  },
  {
   "cell_type": "code",
   "execution_count": null,
   "id": "742125ed",
   "metadata": {},
   "outputs": [],
   "source": [
    "for x in df_concat[\"region\"].unique():\n",
    "    print(\"Percentage of people promoted according to degree \",x,\" \",(len(df_concat.loc[(df_concat.region==x) & (df_concat[\"is_promoted\"]==1.0),\"is_promoted\" ]))/len(df_concat)*100)"
   ]
  },
  {
   "cell_type": "code",
   "execution_count": null,
   "id": "e5af9b5c",
   "metadata": {},
   "outputs": [],
   "source": [
    "#Region_2 have highest number of people promoted\n"
   ]
  },
  {
   "cell_type": "code",
   "execution_count": null,
   "id": "e927c621",
   "metadata": {},
   "outputs": [],
   "source": [
    "pd.crosstab(df_concat[\"gender\"],df_concat[\"is_promoted\"])"
   ]
  },
  {
   "cell_type": "code",
   "execution_count": null,
   "id": "33191b7e",
   "metadata": {},
   "outputs": [],
   "source": [
    "pd.crosstab(df_concat[\"gender\"],df_concat[\"is_promoted\"]).plot(kind=\"bar\")"
   ]
  },
  {
   "cell_type": "code",
   "execution_count": null,
   "id": "973f531b",
   "metadata": {},
   "outputs": [],
   "source": [
    "for x in df_concat[\"gender\"].unique():\n",
    "    print(\"Percentage of people promoted according to the gender \",x,\" \",(len(df_concat.loc[(df_concat.gender==x) & (df_concat[\"is_promoted\"]==1.0),\"is_promoted\" ]))/len(df_concat)*100)"
   ]
  },
  {
   "cell_type": "code",
   "execution_count": null,
   "id": "893b6e07",
   "metadata": {},
   "outputs": [],
   "source": [
    "#percentage of promoted male employee are more than the female "
   ]
  },
  {
   "cell_type": "code",
   "execution_count": null,
   "id": "09516d73",
   "metadata": {},
   "outputs": [],
   "source": [
    "\n",
    "pd.crosstab(df_concat[\"no_of_trainings\"],df_concat[\"is_promoted\"])"
   ]
  },
  {
   "cell_type": "code",
   "execution_count": null,
   "id": "9d8ca115",
   "metadata": {},
   "outputs": [],
   "source": [
    "for x in df_concat[\"no_of_trainings\"].unique():\n",
    "    print(\"Percentage of people promoted according to the number of training they have \",x,\" \",(len(df_concat.loc[(df_concat.no_of_trainings==x) & (df_concat[\"is_promoted\"]==1.0),\"is_promoted\" ]))/len(df_concat)*100)"
   ]
  },
  {
   "cell_type": "code",
   "execution_count": null,
   "id": "b0e16012",
   "metadata": {},
   "outputs": [],
   "source": [
    "# training more doesnt gave promotion\n"
   ]
  },
  {
   "cell_type": "code",
   "execution_count": null,
   "id": "2ad162b6",
   "metadata": {},
   "outputs": [],
   "source": [
    "pd.crosstab(df_concat[\"age\"],df_concat[\"is_promoted\"])"
   ]
  },
  {
   "cell_type": "code",
   "execution_count": null,
   "id": "534bdb5f",
   "metadata": {},
   "outputs": [],
   "source": [
    "l=sorted(df_concat[\"age\"].unique())\n",
    "for x in l:\n",
    "    print(\"Percentage of people promoted according to the age factor \",x,\" \",(len(df_concat.loc[(df_concat.age==x) & (df_concat[\"is_promoted\"]==1.0),\"is_promoted\" ]))/len(df_concat)*100)"
   ]
  },
  {
   "cell_type": "code",
   "execution_count": null,
   "id": "4aabe112",
   "metadata": {},
   "outputs": [],
   "source": [
    "#middle age people are more highly likely to be promoted"
   ]
  },
  {
   "cell_type": "code",
   "execution_count": null,
   "id": "a54c82e2",
   "metadata": {},
   "outputs": [],
   "source": [
    "pd.crosstab(df_concat[\"previous_year_rating\"],df_concat[\"is_promoted\"])"
   ]
  },
  {
   "cell_type": "code",
   "execution_count": null,
   "id": "b683bb75",
   "metadata": {},
   "outputs": [],
   "source": [
    "l=[1.0,2.0,3.0,4.0,5.0]\n",
    "for x in l:\n",
    "    print(\"Percentage of people promoted according to the previous_work_rating  \",x,\" \",(len(df_concat.loc[(df_concat.previous_year_rating==x) & (df_concat[\"is_promoted\"]==1.0),\"is_promoted\" ]))/len(df_concat)*100)"
   ]
  },
  {
   "cell_type": "code",
   "execution_count": null,
   "id": "7561b5a2",
   "metadata": {},
   "outputs": [],
   "source": [
    "# people with 5 start rating have more chance of promotions "
   ]
  },
  {
   "cell_type": "code",
   "execution_count": null,
   "id": "a83ff135",
   "metadata": {},
   "outputs": [],
   "source": [
    "pd.crosstab(df_concat[\"length_of_service\"],df_concat[\"is_promoted\"])"
   ]
  },
  {
   "cell_type": "code",
   "execution_count": null,
   "id": "b139f97f",
   "metadata": {},
   "outputs": [],
   "source": [
    "for x in np.arange(1,38):\n",
    "    try:\n",
    "        print(\"Percentage of people promoted in the length_of_service \",x,\" \",(len(df_concat.loc[(df_concat.length_of_service==x) & (df_concat[\"is_promoted\"]==1.0),\"is_promoted\" ]))/len(df_concat))\n",
    "    \n",
    "    except:\n",
    "        continue"
   ]
  },
  {
   "cell_type": "code",
   "execution_count": null,
   "id": "b6441e1b",
   "metadata": {},
   "outputs": [],
   "source": [
    "# lesser the length of service more chances for promotion"
   ]
  },
  {
   "cell_type": "code",
   "execution_count": null,
   "id": "6c687568",
   "metadata": {},
   "outputs": [],
   "source": [
    "pd.crosstab(df_concat[\"KPIs_met >80%\"],df_concat[\"is_promoted\"])"
   ]
  },
  {
   "cell_type": "code",
   "execution_count": null,
   "id": "8c580534",
   "metadata": {},
   "outputs": [],
   "source": [
    "pd.crosstab(df_concat[\"KPIs_met >80%\"],df_concat[\"is_promoted\"]).plot(kind=\"bar\")"
   ]
  },
  {
   "cell_type": "code",
   "execution_count": null,
   "id": "7a6fe5a0",
   "metadata": {},
   "outputs": [],
   "source": [
    "for x in df_concat[\"KPIs_met >80%\"].unique():\n",
    "    print(\"Percentage of people promoted according to the criteria that they have kpi score more than 80% \",x,\" \",(len(df_concat.loc[(df_concat[\"KPIs_met >80%\"]==x) & (df_concat[\"is_promoted\"]==1.0),\"is_promoted\" ]))/len(df_concat)*100)"
   ]
  },
  {
   "cell_type": "code",
   "execution_count": null,
   "id": "1ab15c48",
   "metadata": {},
   "outputs": [],
   "source": [
    "#So chnaces of promotion becomes more after KPI score is met"
   ]
  },
  {
   "cell_type": "code",
   "execution_count": null,
   "id": "41bfc600",
   "metadata": {},
   "outputs": [],
   "source": [
    "pd.crosstab(df_concat[\"awards_won?\"],df_concat[\"is_promoted\"])"
   ]
  },
  {
   "cell_type": "code",
   "execution_count": null,
   "id": "823a4cd7",
   "metadata": {},
   "outputs": [],
   "source": [
    "for x in df_concat[\"awards_won?\"].unique():\n",
    "    print(\"Percentage of people promoted according to if award is one or not \",x,\" \",(len(df_concat.loc[(df_concat[\"awards_won?\"]==x) & (df_concat[\"is_promoted\"]==1.0),\"is_promoted\" ])/len(df_concat))*100)"
   ]
  },
  {
   "cell_type": "code",
   "execution_count": null,
   "id": "00a8b001",
   "metadata": {},
   "outputs": [],
   "source": [
    "# promotion chance increases when you have won a award"
   ]
  },
  {
   "cell_type": "code",
   "execution_count": null,
   "id": "704b9066",
   "metadata": {},
   "outputs": [],
   "source": [
    "pd.crosstab(df_concat[\"avg_training_score\"],df_concat[\"is_promoted\"])"
   ]
  },
  {
   "cell_type": "code",
   "execution_count": null,
   "id": "15f56d36",
   "metadata": {
    "scrolled": true
   },
   "outputs": [],
   "source": [
    "for x in np.arange(39,100):\n",
    "    try:\n",
    "        print(\"Percentage of people promoted according to avg_training_score \",x,\" \",(len(df_concat.loc[(df_concat[\"avg_training_score\"]==x) & (df_concat[\"is_promoted\"]==1.0),\"is_promoted\" ]))/(len(df_concat))*100)\n",
    "    \n",
    "    except:\n",
    "        continue"
   ]
  },
  {
   "cell_type": "markdown",
   "id": "1e381a54",
   "metadata": {},
   "source": [
    "Things to do in future eng. -\n",
    "1- binning regions according to the percentage of promotions\n",
    "2- mapping no-of training (10-1,9-2,8-3,...)\n",
    "3 - mapping length_of_service\n",
    "4 - filling null value of previous year work with help of department,lengthofservice (and age)\n",
    "5 - filling null values of education with help of age\n",
    "6 - binning department \n",
    "7- mapping recruitment channel giving priority to reffered"
   ]
  },
  {
   "cell_type": "markdown",
   "id": "315d6d0a",
   "metadata": {},
   "source": [
    "# Dealing with missing values"
   ]
  },
  {
   "cell_type": "code",
   "execution_count": null,
   "id": "426e1cd5",
   "metadata": {},
   "outputs": [],
   "source": [
    "df_concat.head()"
   ]
  },
  {
   "cell_type": "markdown",
   "id": "2ce453c4",
   "metadata": {},
   "source": [
    "Dealing null values of education with help of gender and age"
   ]
  },
  {
   "cell_type": "code",
   "execution_count": null,
   "id": "2d45510e",
   "metadata": {},
   "outputs": [],
   "source": [
    "ed_age=df_concat.groupby([\"gender\",\"age\",\"education\"]).size().reset_index()"
   ]
  },
  {
   "cell_type": "code",
   "execution_count": null,
   "id": "7074ec02",
   "metadata": {},
   "outputs": [],
   "source": [
    "f = ed_age.loc[ed_age.gender==\"f\"]"
   ]
  },
  {
   "cell_type": "code",
   "execution_count": null,
   "id": "13376f6b",
   "metadata": {},
   "outputs": [],
   "source": [
    "m=ed_age.loc[ed_age.gender==\"m\"]"
   ]
  },
  {
   "cell_type": "code",
   "execution_count": null,
   "id": "d3cb69fd",
   "metadata": {},
   "outputs": [],
   "source": [
    "f.iloc[1:15]\n",
    "# till 23 age female are more below secondary "
   ]
  },
  {
   "cell_type": "code",
   "execution_count": null,
   "id": "45e95bec",
   "metadata": {},
   "outputs": [],
   "source": [
    "f.iloc[8:38]\n",
    "# 24-37 age female are more bachelors"
   ]
  },
  {
   "cell_type": "code",
   "execution_count": null,
   "id": "5c17795e",
   "metadata": {},
   "outputs": [],
   "source": [
    "f.iloc[38:]\n",
    "#after 37 there are more masters "
   ]
  },
  {
   "cell_type": "code",
   "execution_count": null,
   "id": "946980ad",
   "metadata": {},
   "outputs": [],
   "source": [
    "m.iloc[0:]\n",
    "# till 41 bachelors are more \n",
    "# after 42 going with master"
   ]
  },
  {
   "cell_type": "code",
   "execution_count": null,
   "id": "fabb48b7",
   "metadata": {},
   "outputs": [],
   "source": [
    "\"\"\"df_concat[\"education\"].fillna(\"Bachelor's\",inplace=True)\"\"\""
   ]
  },
  {
   "cell_type": "code",
   "execution_count": null,
   "id": "638c6df2",
   "metadata": {},
   "outputs": [],
   "source": [
    "df_concat.loc[(df_concat.gender==\"f\") & (df_concat.age.isin([20,21,22,23])) & (df_concat.education.isnull()),\"education\"] = \"Below Secondary\"\n",
    "df_concat.loc[(df_concat.gender==\"f\") & (df_concat.age.isin(np.arange(24,38)))  & (df_concat.education.isnull()),\"education\"] = \"Bachelor's\"\n",
    "df_concat.loc[(df_concat.gender==\"f\") & (df_concat.age.isin(np.arange(38,61))) & (df_concat.education.isnull()),\"education\"] = \"Master's & above\"\n",
    "df_concat.loc[(df_concat.gender==\"m\") & (df_concat.age.isin(np.arange(20,42))) & (df_concat.education.isnull()),\"education\"] = \"Bachelor's\"\n",
    "df_concat.loc[(df_concat.gender==\"m\") & (df_concat.age.isin(np.arange(42,61))) & (df_concat.education.isnull()),\"education\"] = \"Master's & above\"\n"
   ]
  },
  {
   "cell_type": "markdown",
   "id": "53952699",
   "metadata": {},
   "source": [
    "Dealing null values of previous_year rating "
   ]
  },
  {
   "cell_type": "code",
   "execution_count": null,
   "id": "ab62c81a",
   "metadata": {},
   "outputs": [],
   "source": [
    "len(df_concat[df_concat[\"previous_year_rating\"].isnull()])"
   ]
  },
  {
   "cell_type": "code",
   "execution_count": null,
   "id": "cca54996",
   "metadata": {},
   "outputs": [],
   "source": [
    "df_concat[df_concat[\"previous_year_rating\"].isnull()][\"length_of_service\"]"
   ]
  },
  {
   "cell_type": "code",
   "execution_count": null,
   "id": "5ea1eb9a",
   "metadata": {},
   "outputs": [],
   "source": [
    "pyr=df_concat[(df_concat[\"previous_year_rating\"].notnull()) & (df_concat[\"length_of_service\"]==37)]"
   ]
  },
  {
   "cell_type": "code",
   "execution_count": null,
   "id": "a34729c7",
   "metadata": {},
   "outputs": [],
   "source": [
    "# conatins null values where length of service ==37"
   ]
  },
  {
   "cell_type": "code",
   "execution_count": null,
   "id": "6a5071f3",
   "metadata": {},
   "outputs": [],
   "source": [
    "pyr.groupby([\"gender\",\"department\"])[\"previous_year_rating\"].median()"
   ]
  },
  {
   "cell_type": "code",
   "execution_count": null,
   "id": "90a802dd",
   "metadata": {},
   "outputs": [],
   "source": [
    "df_concat.loc[(df_concat[\"gender\"]==\"f\") & (df_concat[\"department\"]==\"Analytics\") & (df_concat[\"previous_year_rating\"].isnull()),\"previous_year_rating\"]=3.0\n",
    "df_concat.loc[(df_concat[\"gender\"]==\"f\") & (df_concat[\"department\"]==\"Finance\") & (df_concat[\"previous_year_rating\"].isnull()),\"previous_year_rating\"]=3.0\n",
    "df_concat.loc[(df_concat[\"gender\"]==\"f\") & (df_concat[\"department\"]==\"HR\") & (df_concat[\"previous_year_rating\"].isnull()),\"previous_year_rating\"]=4.0\n",
    "df_concat.loc[(df_concat[\"gender\"]==\"f\") & (df_concat[\"department\"]==\"Legal\") & (df_concat[\"previous_year_rating\"].isnull()),\"previous_year_rating\"]=5.0\n",
    "df_concat.loc[(df_concat[\"gender\"]==\"f\") & (df_concat[\"department\"]==\"Operations\") & (df_concat[\"previous_year_rating\"].isnull()),\"previous_year_rating\"]=3.0\n",
    "df_concat.loc[(df_concat[\"gender\"]==\"f\") & (df_concat[\"department\"]==\"Procurement\") & (df_concat[\"previous_year_rating\"].isnull()),\"previous_year_rating\"]=3.0\n",
    "df_concat.loc[(df_concat[\"gender\"]==\"f\") & (df_concat[\"department\"]==\"R&D\") & (df_concat[\"previous_year_rating\"].isnull()),\"previous_year_rating\"]=3.0\n",
    "df_concat.loc[(df_concat[\"gender\"]==\"f\") & (df_concat[\"department\"]==\"Sales & Marketing\") & (df_concat[\"previous_year_rating\"].isnull()),\"previous_year_rating\"]=3.0\n",
    "df_concat.loc[(df_concat[\"gender\"]==\"f\") & (df_concat[\"department\"]==\"Technology\") & (df_concat[\"previous_year_rating\"].isnull()),\"previous_year_rating\"]=3.0"
   ]
  },
  {
   "cell_type": "code",
   "execution_count": null,
   "id": "4f724f6c",
   "metadata": {},
   "outputs": [],
   "source": [
    "df_concat.loc[(df_concat[\"gender\"]==\"m\") & (df_concat[\"department\"]==\"Analytics\") & (df_concat[\"previous_year_rating\"].isnull()),\"previous_year_rating\"]=3.0\n",
    "df_concat.loc[(df_concat[\"gender\"]==\"m\") & (df_concat[\"department\"]==\"Finance\") & (df_concat[\"previous_year_rating\"].isnull()),\"previous_year_rating\"]=3.0\n",
    "df_concat.loc[(df_concat[\"gender\"]==\"m\") & (df_concat[\"department\"]==\"HR\") & (df_concat[\"previous_year_rating\"].isnull()),\"previous_year_rating\"]=4.0\n",
    "df_concat.loc[(df_concat[\"gender\"]==\"m\") & (df_concat[\"department\"]==\"Legal\") & (df_concat[\"previous_year_rating\"].isnull()),\"previous_year_rating\"]=4.0\n",
    "df_concat.loc[(df_concat[\"gender\"]==\"m\") & (df_concat[\"department\"]==\"Operations\") & (df_concat[\"previous_year_rating\"].isnull()),\"previous_year_rating\"]=4.0\n",
    "df_concat.loc[(df_concat[\"gender\"]==\"m\") & (df_concat[\"department\"]==\"Procurement\") & (df_concat[\"previous_year_rating\"].isnull()),\"previous_year_rating\"]=3.0\n",
    "df_concat.loc[(df_concat[\"gender\"]==\"m\") & (df_concat[\"department\"]==\"R&D\") & (df_concat[\"previous_year_rating\"].isnull()),\"previous_year_rating\"]=4.0\n",
    "df_concat.loc[(df_concat[\"gender\"]==\"m\") & (df_concat[\"department\"]==\"Sales & Marketing\") & (df_concat[\"previous_year_rating\"].isnull()),\"previous_year_rating\"]=3.0\n",
    "df_concat.loc[(df_concat[\"gender\"]==\"m\") & (df_concat[\"department\"]==\"Technology\") & (df_concat[\"previous_year_rating\"].isnull()),\"previous_year_rating\"]=3.0"
   ]
  },
  {
   "cell_type": "code",
   "execution_count": null,
   "id": "f604f436",
   "metadata": {},
   "outputs": [],
   "source": [
    "\"\"\"df_concat.fillna(0,inplace=True)\"\"\""
   ]
  },
  {
   "cell_type": "code",
   "execution_count": null,
   "id": "18443119",
   "metadata": {},
   "outputs": [],
   "source": [
    "# making a new column experience based on precious year rating\n",
    "\"\"\"def experience(r):\n",
    "    if r>0:\n",
    "        return \"experienced\"\n",
    "    else:\n",
    "        return \"fresher\"\n",
    "        \"\"\""
   ]
  },
  {
   "cell_type": "markdown",
   "id": "62a45dce",
   "metadata": {},
   "source": [
    "Making a new column according to region"
   ]
  },
  {
   "cell_type": "code",
   "execution_count": null,
   "id": "f127e8d7",
   "metadata": {},
   "outputs": [],
   "source": [
    "\"\"\"df_concat[\"experience\"] = df_concat[\"previous_year_rating\"].apply(experience)\"\"\""
   ]
  },
  {
   "cell_type": "markdown",
   "id": "e092f895",
   "metadata": {},
   "source": [
    "Binning regions into three category according to the insieght we get in eda "
   ]
  },
  {
   "cell_type": "code",
   "execution_count": null,
   "id": "60dd208f",
   "metadata": {},
   "outputs": [],
   "source": [
    "region = pd.DataFrame({\"region\":np.arange(1,35),\"% of promotion\":np.arange(1,35)})"
   ]
  },
  {
   "cell_type": "code",
   "execution_count": null,
   "id": "b095103a",
   "metadata": {},
   "outputs": [],
   "source": [
    "i=0\n",
    "for x in df_concat[\"region\"].unique():\n",
    "    region.iloc[i,0]=x\n",
    "    region.iloc[i,1]=len(df_concat.loc[(df_concat.region==x) & (df_concat[\"is_promoted\"]==1.0),\"is_promoted\" ])/len(df_concat)*100\n",
    "    i+=1"
   ]
  },
  {
   "cell_type": "code",
   "execution_count": null,
   "id": "447723b7",
   "metadata": {},
   "outputs": [],
   "source": [
    "region.sort_values(by=\"% of promotion\",ascending=False,inplace=True)"
   ]
  },
  {
   "cell_type": "code",
   "execution_count": null,
   "id": "c0c8e4ef",
   "metadata": {
    "scrolled": false
   },
   "outputs": [],
   "source": [
    "region"
   ]
  },
  {
   "cell_type": "code",
   "execution_count": null,
   "id": "ed51c1ef",
   "metadata": {},
   "outputs": [],
   "source": [
    "df_concat[\"region\"]=df_concat[\"region\"].map({'region_2':3,\n",
    " 'region_22':3,\n",
    " 'region_7':3,\n",
    " 'region_4':3,\n",
    " 'region_13':3,\n",
    " 'region_15':3,\n",
    " 'region_28':3,\n",
    " 'region_26':3,\n",
    " 'region_23':3,\n",
    " 'region_27':3,\n",
    " 'region_31':3,\n",
    " 'region_17':3,\n",
    " 'region_25':3,\n",
    " 'region_16':3,\n",
    " 'region_11':2,\n",
    " 'region_14':2,\n",
    " 'region_30':2,\n",
    " 'region_1':2,\n",
    " 'region_19':2,\n",
    " 'region_8':2,\n",
    " 'region_10':2,\n",
    " 'region_20':2,\n",
    " 'region_29':2,\n",
    " 'region_32':2,\n",
    " 'region_3':2,\n",
    " 'region_5':2,\n",
    " 'region_12':2,\n",
    " 'region_6':2,\n",
    " 'region_21':1,\n",
    " 'region_24':1,\n",
    " 'region_33':1,\n",
    " 'region_34':1,\n",
    " 'region_9':1,\n",
    " 'region_18':1})\n",
    "#28-36\n",
    "#29-16"
   ]
  },
  {
   "cell_type": "markdown",
   "id": "3f2d25c0",
   "metadata": {},
   "source": [
    "mapping no_of_trainings for better result"
   ]
  },
  {
   "cell_type": "code",
   "execution_count": null,
   "id": "4bd426e0",
   "metadata": {},
   "outputs": [],
   "source": [
    "df_concat[\"no_of_trainings\"]=df_concat[\"no_of_trainings\"].map({10:1,9:2,8:3,7:4,6:5,5:6,4:7,3:8,2:9,1:10})"
   ]
  },
  {
   "cell_type": "markdown",
   "id": "12bb3053",
   "metadata": {},
   "source": [
    "mapping length_of_service for better result"
   ]
  },
  {
   "cell_type": "code",
   "execution_count": null,
   "id": "73e5f2f2",
   "metadata": {},
   "outputs": [],
   "source": [
    "\"\"\"d=dict()\n",
    "i=1\n",
    "j=37\n",
    "for k in range(37):\n",
    "    d[i]=j\n",
    "    i+=1\n",
    "    j-=1\"\"\"\n"
   ]
  },
  {
   "cell_type": "code",
   "execution_count": null,
   "id": "e890714e",
   "metadata": {},
   "outputs": [],
   "source": [
    "\"\"\"df_concat[\"length_of_service\"]=df_concat[\"length_of_service\"].map(d)\"\"\""
   ]
  },
  {
   "cell_type": "code",
   "execution_count": null,
   "id": "48d33bda",
   "metadata": {},
   "outputs": [],
   "source": [
    "# making bins to length of service according to promotion column\n",
    "def service_length(l):\n",
    "    if l in np.arange(1,11):\n",
    "        return 4\n",
    "    elif l in np.arange(11,21):\n",
    "        return 3\n",
    "    elif l in np.arange(21,31):\n",
    "        return 2\n",
    "    else:\n",
    "        return 1\n",
    "df_concat[\"length_of_service\"]=df_concat[\"length_of_service\"].apply(service_length)"
   ]
  },
  {
   "cell_type": "code",
   "execution_count": null,
   "id": "bc62cdb7",
   "metadata": {},
   "outputs": [],
   "source": [
    "df_concat[\"gender\"] = df_concat[\"gender\"].map({\"m\":0,\"f\":1})\n",
    "# as female have more chance of promotion"
   ]
  },
  {
   "cell_type": "code",
   "execution_count": null,
   "id": "9c792412",
   "metadata": {},
   "outputs": [],
   "source": [
    "\"\"\"df_concat[\"recruitment_channel\"].unique()\"\"\""
   ]
  },
  {
   "cell_type": "code",
   "execution_count": null,
   "id": "edec0342",
   "metadata": {},
   "outputs": [],
   "source": [
    "# bad effect on model"
   ]
  },
  {
   "cell_type": "code",
   "execution_count": null,
   "id": "93716d2f",
   "metadata": {},
   "outputs": [],
   "source": [
    "\"\"\"df_concat[\"recruitment_channel\"] = df_concat[\"recruitment_channel\"].map({'sourcing':1, 'other':1, 'referred':2})\"\"\""
   ]
  },
  {
   "cell_type": "code",
   "execution_count": null,
   "id": "da3485c1",
   "metadata": {
    "scrolled": true
   },
   "outputs": [],
   "source": [
    "df_concat.isnull().sum()"
   ]
  },
  {
   "cell_type": "code",
   "execution_count": null,
   "id": "2909933a",
   "metadata": {},
   "outputs": [],
   "source": []
  },
  {
   "cell_type": "markdown",
   "id": "200988d6",
   "metadata": {},
   "source": [
    "# Data Preprocessing"
   ]
  },
  {
   "cell_type": "markdown",
   "id": "186c00c9",
   "metadata": {},
   "source": [
    "droping unwanted features\n"
   ]
  },
  {
   "cell_type": "code",
   "execution_count": null,
   "id": "ed2048e2",
   "metadata": {},
   "outputs": [],
   "source": [
    "df_concat[\"education\"] = df_concat[\"education\"].map({\"Master's & above\":3,\"Bachelor's\":2,'Below Secondary':1})"
   ]
  },
  {
   "cell_type": "code",
   "execution_count": null,
   "id": "32250696",
   "metadata": {},
   "outputs": [],
   "source": [
    "df_concat.drop([\"employee_id\"],axis=1,inplace=True)"
   ]
  },
  {
   "cell_type": "code",
   "execution_count": null,
   "id": "d6f3648d",
   "metadata": {},
   "outputs": [],
   "source": [
    "df_train_cleaned = df_concat.iloc[0:54808]\n",
    "df_test_cleaned = df_concat.iloc[54808:].drop(\"is_promoted\",axis=1)"
   ]
  },
  {
   "cell_type": "code",
   "execution_count": null,
   "id": "90a9f97e",
   "metadata": {},
   "outputs": [],
   "source": [
    "sns.heatmap(df_train_cleaned.corr(),annot=True,cmap=\"YlGnBu\")"
   ]
  },
  {
   "cell_type": "markdown",
   "id": "2cd75d22",
   "metadata": {},
   "source": [
    "data scaling"
   ]
  },
  {
   "cell_type": "code",
   "execution_count": null,
   "id": "b59b0373",
   "metadata": {},
   "outputs": [],
   "source": [
    "df_train_cleaned.head()"
   ]
  },
  {
   "cell_type": "code",
   "execution_count": null,
   "id": "ef59698a",
   "metadata": {},
   "outputs": [],
   "source": [
    "df_train_cleaned[[\"age\",\"avg_training_score\"]]\n",
    "from sklearn.preprocessing import StandardScaler\n",
    "scaler = StandardScaler()\n",
    "scaler.fit(df_train_cleaned[[\"age\",\"avg_training_score\"]])"
   ]
  },
  {
   "cell_type": "code",
   "execution_count": null,
   "id": "8c90e873",
   "metadata": {},
   "outputs": [],
   "source": [
    "df_train_cleaned[[\"age\",\"avg_training_score\"]] = scaler.transform(df_train_cleaned[[\"age\",\"avg_training_score\"]])\n",
    "df_test_cleaned[[\"age\",\"avg_training_score\"]] =scaler.transform(df_test_cleaned[[\"age\",\"avg_training_score\"]] )"
   ]
  },
  {
   "cell_type": "markdown",
   "id": "5c323f55",
   "metadata": {},
   "source": [
    "changing dtype of target column to int"
   ]
  },
  {
   "cell_type": "code",
   "execution_count": null,
   "id": "c730d3cf",
   "metadata": {},
   "outputs": [],
   "source": [
    "df_train_cleaned[\"previous_year_rating\"]=df_train_cleaned[\"previous_year_rating\"].astype(int)\n",
    "df_test_cleaned[\"previous_year_rating\"] = df_test_cleaned[\"previous_year_rating\"].astype(int)\n",
    "df_train_cleaned[\"is_promoted\"] = df_train_cleaned[\"is_promoted\"].astype(int)"
   ]
  },
  {
   "cell_type": "code",
   "execution_count": null,
   "id": "92d4b2f9",
   "metadata": {},
   "outputs": [],
   "source": [
    "df_train_scaled = pd.get_dummies(df_train_cleaned,drop_first=True)\n",
    "df_test_scaled = pd.get_dummies(df_test_cleaned,drop_first=True)"
   ]
  },
  {
   "cell_type": "code",
   "execution_count": null,
   "id": "98a86f2d",
   "metadata": {},
   "outputs": [],
   "source": [
    "df_train_scaled.head()"
   ]
  },
  {
   "cell_type": "markdown",
   "id": "7c27e64e",
   "metadata": {},
   "source": [
    "# Model Building"
   ]
  },
  {
   "cell_type": "markdown",
   "id": "d9dd70e7",
   "metadata": {},
   "source": [
    "RandomForest"
   ]
  },
  {
   "cell_type": "code",
   "execution_count": null,
   "id": "67175a1b",
   "metadata": {},
   "outputs": [],
   "source": [
    "from sklearn.ensemble import RandomForestClassifier\n",
    "rf = RandomForestClassifier()\n",
    "rf.fit(df_train_scaled.drop(\"is_promoted\",axis=1),df_train_scaled[\"is_promoted\"])"
   ]
  },
  {
   "cell_type": "code",
   "execution_count": null,
   "id": "c5f8569c",
   "metadata": {},
   "outputs": [],
   "source": [
    "pred_y_rf = rf.predict(df_test_scaled)"
   ]
  },
  {
   "cell_type": "code",
   "execution_count": null,
   "id": "797f403e",
   "metadata": {},
   "outputs": [],
   "source": [
    "pred = df_test[\"employee_id\"]\n",
    "pred = pd.concat([pred,pd.DataFrame(pred_y_rf)],axis=1)\n",
    "pred.columns = [\"employee_id\",\"is_promoted\"]\n",
    "pred.to_csv(\"rf.csv\",index=False)"
   ]
  },
  {
   "cell_type": "code",
   "execution_count": null,
   "id": "88cd12e5",
   "metadata": {},
   "outputs": [],
   "source": [
    "# f1 square 0.43\n",
    "# f1 final score 0.44"
   ]
  },
  {
   "cell_type": "code",
   "execution_count": null,
   "id": "db6cb771",
   "metadata": {},
   "outputs": [],
   "source": [
    "!pip install sklearn"
   ]
  },
  {
   "cell_type": "code",
   "execution_count": null,
   "id": "bec641cd",
   "metadata": {},
   "outputs": [],
   "source": [
    "!pip install pandas"
   ]
  },
  {
   "cell_type": "code",
   "execution_count": null,
   "id": "888c9fea",
   "metadata": {},
   "outputs": [],
   "source": [
    "!pip install numpy"
   ]
  },
  {
   "cell_type": "code",
   "execution_count": null,
   "id": "65e95d01",
   "metadata": {},
   "outputs": [],
   "source": [
    "!pip install seaborn"
   ]
  },
  {
   "cell_type": "code",
   "execution_count": null,
   "id": "a3590100",
   "metadata": {},
   "outputs": [],
   "source": [
    "!pip install matplotlib"
   ]
  },
  {
   "cell_type": "code",
   "execution_count": null,
   "id": "eaab7715",
   "metadata": {},
   "outputs": [],
   "source": [
    "!pip install random-forest-mc"
   ]
  },
  {
   "cell_type": "code",
   "execution_count": null,
   "id": "57d97032",
   "metadata": {},
   "outputs": [],
   "source": []
  }
 ],
 "metadata": {
  "kernelspec": {
   "display_name": "Python 3 (ipykernel)",
   "language": "python",
   "name": "python3"
  },
  "language_info": {
   "codemirror_mode": {
    "name": "ipython",
    "version": 3
   },
   "file_extension": ".py",
   "mimetype": "text/x-python",
   "name": "python",
   "nbconvert_exporter": "python",
   "pygments_lexer": "ipython3",
   "version": "3.9.13"
  },
  "vscode": {
   "interpreter": {
    "hash": "c65da800e19bd8a3b7b3c1a9f315b3cbabdf60e1b92704534458b25ab66f0d33"
   }
  }
 },
 "nbformat": 4,
 "nbformat_minor": 5
}
